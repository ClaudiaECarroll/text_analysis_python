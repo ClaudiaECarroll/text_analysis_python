{
  "nbformat": 4,
  "nbformat_minor": 0,
  "metadata": {
    "colab": {
      "provenance": []
    },
    "kernelspec": {
      "name": "python3",
      "display_name": "Python 3"
    },
    "language_info": {
      "name": "python"
    }
  },
  "cells": [
    {
      "cell_type": "code",
      "source": [
        "from google.colab import drive\n",
        "drive.mount('/content/drive')"
      ],
      "metadata": {
        "colab": {
          "base_uri": "https://localhost:8080/"
        },
        "id": "PAvHTfqi9Ixe",
        "outputId": "5148367b-f5b2-434d-b51a-efdad6d13828"
      },
      "execution_count": 118,
      "outputs": [
        {
          "output_type": "stream",
          "name": "stdout",
          "text": [
            "Drive already mounted at /content/drive; to attempt to forcibly remount, call drive.mount(\"/content/drive\", force_remount=True).\n"
          ]
        }
      ]
    },
    {
      "cell_type": "code",
      "source": [
        "!pwd"
      ],
      "metadata": {
        "colab": {
          "base_uri": "https://localhost:8080/"
        },
        "id": "YOqYNJXI__b5",
        "outputId": "06836fb6-2727-4003-d06f-79103243fdad"
      },
      "execution_count": 119,
      "outputs": [
        {
          "output_type": "stream",
          "name": "stdout",
          "text": [
            "/content\n"
          ]
        }
      ]
    },
    {
      "cell_type": "markdown",
      "source": [
        "# Reading and Processing Text Files"
      ],
      "metadata": {
        "id": "ER98tX-C5z7U"
      }
    },
    {
      "cell_type": "code",
      "source": [
        "grimms_folder = \"drive/MyDrive/grimms\"\n"
      ],
      "metadata": {
        "id": "RUoT-I3m9_dm"
      },
      "execution_count": 120,
      "outputs": []
    },
    {
      "cell_type": "code",
      "source": [
        "print(grimms_folder)"
      ],
      "metadata": {
        "colab": {
          "base_uri": "https://localhost:8080/"
        },
        "id": "GzIYoNESsyaG",
        "outputId": "5fbfd115-3e27-4ea9-e11a-6feed651622b"
      },
      "execution_count": 121,
      "outputs": [
        {
          "output_type": "stream",
          "name": "stdout",
          "text": [
            "drive/MyDrive/grimms\n"
          ]
        }
      ]
    },
    {
      "cell_type": "code",
      "source": [
        "import os\n",
        "\n",
        "snow_white = open(os.path.join(grimms_folder, \"snow-white_and_rose-red.txt\"),\n",
        "                  encoding=\"utf-8\").read()"
      ],
      "metadata": {
        "id": "m0H8qYxaAGDe"
      },
      "execution_count": 122,
      "outputs": []
    },
    {
      "cell_type": "code",
      "source": [
        "print(snow_white)"
      ],
      "metadata": {
        "colab": {
          "base_uri": "https://localhost:8080/"
        },
        "id": "KrpzfijgAINW",
        "outputId": "8a847871-c804-4cfa-a60a-f8836f9ebeb8"
      },
      "execution_count": 123,
      "outputs": [
        {
          "output_type": "stream",
          "name": "stdout",
          "text": [
            "There was once a poor widow who lived in a lonely cottage. In front of\n",
            "the cottage was a garden wherein stood two rose-trees, one of which bore\n",
            "white and the other red roses. She had two children who were like the\n",
            "two rose-trees, and one was called Snow-white, and the other Rose-red.\n",
            "They were as good and happy, as busy and cheerful as ever two children\n",
            "in the world were, only Snow-white was more quiet and gentle than\n",
            "Rose-red. Rose-red liked better to run about in the meadows and fields\n",
            "seeking flowers and catching butterflies; but Snow-white sat at home\n",
            "with her mother, and helped her with her housework, or read to her when\n",
            "there was nothing to do.\n",
            "\n",
            "The two children were so fond of one another that they always held each\n",
            "other by the hand when they went out together, and when Snow-white said:\n",
            "‘We will not leave each other,’ Rose-red answered: ‘Never so long as we\n",
            "live,’ and their mother would add: ‘What one has she must share with the\n",
            "other.’\n",
            "\n",
            "They often ran about the forest alone and gathered red berries, and no\n",
            "beasts did them any harm, but came close to them trustfully. The little\n",
            "hare would eat a cabbage-leaf out of their hands, the roe grazed by\n",
            "their side, the stag leapt merrily by them, and the birds sat still upon\n",
            "the boughs, and sang whatever they knew.\n",
            "\n",
            "No mishap overtook them; if they had stayed too late in the forest, and\n",
            "night came on, they laid themselves down near one another upon the moss,\n",
            "and slept until morning came, and their mother knew this and did not\n",
            "worry on their account.\n",
            "\n",
            "Once when they had spent the night in the wood and the dawn had roused\n",
            "them, they saw a beautiful child in a shining white dress sitting near\n",
            "their bed. He got up and looked quite kindly at them, but said nothing\n",
            "and went into the forest. And when they looked round they found that\n",
            "they had been sleeping quite close to a precipice, and would certainly\n",
            "have fallen into it in the darkness if they had gone only a few paces\n",
            "further. And their mother told them that it must have been the angel who\n",
            "watches over good children.\n",
            "\n",
            "Snow-white and Rose-red kept their mother’s little cottage so neat that\n",
            "it was a pleasure to look inside it. In the summer Rose-red took care\n",
            "of the house, and every morning laid a wreath of flowers by her mother’s\n",
            "bed before she awoke, in which was a rose from each tree. In the winter\n",
            "Snow-white lit the fire and hung the kettle on the hob. The kettle\n",
            "was of brass and shone like gold, so brightly was it polished. In the\n",
            "evening, when the snowflakes fell, the mother said: ‘Go, Snow-white, and\n",
            "bolt the door,’ and then they sat round the hearth, and the mother took\n",
            "her spectacles and read aloud out of a large book, and the two girls\n",
            "listened as they sat and spun. And close by them lay a lamb upon the\n",
            "floor, and behind them upon a perch sat a white dove with its head\n",
            "hidden beneath its wings.\n",
            "\n",
            "One evening, as they were thus sitting comfortably together, someone\n",
            "knocked at the door as if he wished to be let in. The mother said:\n",
            "‘Quick, Rose-red, open the door, it must be a traveller who is seeking\n",
            "shelter.’ Rose-red went and pushed back the bolt, thinking that it was a\n",
            "poor man, but it was not; it was a bear that stretched his broad, black\n",
            "head within the door.\n",
            "\n",
            "Rose-red screamed and sprang back, the lamb bleated, the dove fluttered,\n",
            "and Snow-white hid herself behind her mother’s bed. But the bear began\n",
            "to speak and said: ‘Do not be afraid, I will do you no harm! I am\n",
            "half-frozen, and only want to warm myself a little beside you.’\n",
            "\n",
            "‘Poor bear,’ said the mother, ‘lie down by the fire, only take care that\n",
            "you do not burn your coat.’ Then she cried: ‘Snow-white, Rose-red, come\n",
            "out, the bear will do you no harm, he means well.’ So they both came\n",
            "out, and by-and-by the lamb and dove came nearer, and were not afraid\n",
            "of him. The bear said: ‘Here, children, knock the snow out of my coat a\n",
            "little’; so they brought the broom and swept the bear’s hide clean;\n",
            "and he stretched himself by the fire and growled contentedly and\n",
            "comfortably. It was not long before they grew quite at home, and played\n",
            "tricks with their clumsy guest. They tugged his hair with their hands,\n",
            "put their feet upon his back and rolled him about, or they took a\n",
            "hazel-switch and beat him, and when he growled they laughed. But the\n",
            "bear took it all in good part, only when they were too rough he called\n",
            "out: ‘Leave me alive, children,\n",
            "\n",
            "  Snow-white, Rose-red,\n",
            "  Will you beat your wooer dead?’\n",
            "\n",
            "When it was bed-time, and the others went to bed, the mother said to the\n",
            "bear: ‘You can lie there by the hearth, and then you will be safe from\n",
            "the cold and the bad weather.’ As soon as day dawned the two children\n",
            "let him out, and he trotted across the snow into the forest.\n",
            "\n",
            "Henceforth the bear came every evening at the same time, laid himself\n",
            "down by the hearth, and let the children amuse themselves with him as\n",
            "much as they liked; and they got so used to him that the doors were\n",
            "never fastened until their black friend had arrived.\n",
            "\n",
            "When spring had come and all outside was green, the bear said one\n",
            "morning to Snow-white: ‘Now I must go away, and cannot come back for the\n",
            "whole summer.’ ‘Where are you going, then, dear bear?’ asked Snow-white.\n",
            "‘I must go into the forest and guard my treasures from the wicked\n",
            "dwarfs. In the winter, when the earth is frozen hard, they are obliged\n",
            "to stay below and cannot work their way through; but now, when the sun\n",
            "has thawed and warmed the earth, they break through it, and come out to\n",
            "pry and steal; and what once gets into their hands, and in their caves,\n",
            "does not easily see daylight again.’\n",
            "\n",
            "Snow-white was quite sorry at his departure, and as she unbolted the\n",
            "door for him, and the bear was hurrying out, he caught against the bolt\n",
            "and a piece of his hairy coat was torn off, and it seemed to Snow-white\n",
            "as if she had seen gold shining through it, but she was not sure about\n",
            "it. The bear ran away quickly, and was soon out of sight behind the\n",
            "trees.\n",
            "\n",
            "A short time afterwards the mother sent her children into the forest\n",
            "to get firewood. There they found a big tree which lay felled on the\n",
            "ground, and close by the trunk something was jumping backwards and\n",
            "forwards in the grass, but they could not make out what it was. When\n",
            "they came nearer they saw a dwarf with an old withered face and a\n",
            "snow-white beard a yard long. The end of the beard was caught in a\n",
            "crevice of the tree, and the little fellow was jumping about like a dog\n",
            "tied to a rope, and did not know what to do.\n",
            "\n",
            "He glared at the girls with his fiery red eyes and cried: ‘Why do you\n",
            "stand there? Can you not come here and help me?’ ‘What are you up to,\n",
            "little man?’ asked Rose-red. ‘You stupid, prying goose!’ answered the\n",
            "dwarf: ‘I was going to split the tree to get a little wood for cooking.\n",
            "The little bit of food that we people get is immediately burnt up with\n",
            "heavy logs; we do not swallow so much as you coarse, greedy folk. I had\n",
            "just driven the wedge safely in, and everything was going as I wished;\n",
            "but the cursed wedge was too smooth and suddenly sprang out, and the\n",
            "tree closed so quickly that I could not pull out my beautiful white\n",
            "beard; so now it is tight and I cannot get away, and the silly, sleek,\n",
            "milk-faced things laugh! Ugh! how odious you are!’\n",
            "\n",
            "The children tried very hard, but they could not pull the beard out, it\n",
            "was caught too fast. ‘I will run and fetch someone,’ said Rose-red. ‘You\n",
            "senseless goose!’ snarled the dwarf; ‘why should you fetch someone? You\n",
            "are already two too many for me; can you not think of something better?’\n",
            "‘Don’t be impatient,’ said Snow-white, ‘I will help you,’ and she pulled\n",
            "her scissors out of her pocket, and cut off the end of the beard.\n",
            "\n",
            "As soon as the dwarf felt himself free he laid hold of a bag which lay\n",
            "amongst the roots of the tree, and which was full of gold, and lifted it\n",
            "up, grumbling to himself: ‘Uncouth people, to cut off a piece of my fine\n",
            "beard. Bad luck to you!’ and then he swung the bag upon his back, and\n",
            "went off without even once looking at the children.\n",
            "\n",
            "Some time afterwards Snow-white and Rose-red went to catch a dish\n",
            "of fish. As they came near the brook they saw something like a large\n",
            "grasshopper jumping towards the water, as if it were going to leap in.\n",
            "They ran to it and found it was the dwarf. ‘Where are you going?’ said\n",
            "Rose-red; ‘you surely don’t want to go into the water?’ ‘I am not such\n",
            "a fool!’ cried the dwarf; ‘don’t you see that the accursed fish wants\n",
            "to pull me in?’ The little man had been sitting there fishing, and\n",
            "unluckily the wind had tangled up his beard with the fishing-line; a\n",
            "moment later a big fish made a bite and the feeble creature had not\n",
            "strength to pull it out; the fish kept the upper hand and pulled the\n",
            "dwarf towards him. He held on to all the reeds and rushes, but it was of\n",
            "little good, for he was forced to follow the movements of the fish, and\n",
            "was in urgent danger of being dragged into the water.\n",
            "\n",
            "The girls came just in time; they held him fast and tried to free his\n",
            "beard from the line, but all in vain, beard and line were entangled fast\n",
            "together. There was nothing to do but to bring out the scissors and cut\n",
            "the beard, whereby a small part of it was lost. When the dwarf saw that\n",
            "he screamed out: ‘Is that civil, you toadstool, to disfigure a man’s\n",
            "face? Was it not enough to clip off the end of my beard? Now you have\n",
            "cut off the best part of it. I cannot let myself be seen by my people.\n",
            "I wish you had been made to run the soles off your shoes!’ Then he took\n",
            "out a sack of pearls which lay in the rushes, and without another word\n",
            "he dragged it away and disappeared behind a stone.\n",
            "\n",
            "It happened that soon afterwards the mother sent the two children to the\n",
            "town to buy needles and thread, and laces and ribbons. The road led them\n",
            "across a heath upon which huge pieces of rock lay strewn about. There\n",
            "they noticed a large bird hovering in the air, flying slowly round and\n",
            "round above them; it sank lower and lower, and at last settled near a\n",
            "rock not far away. Immediately they heard a loud, piteous cry. They ran\n",
            "up and saw with horror that the eagle had seized their old acquaintance\n",
            "the dwarf, and was going to carry him off.\n",
            "\n",
            "The children, full of pity, at once took tight hold of the little man,\n",
            "and pulled against the eagle so long that at last he let his booty go.\n",
            "As soon as the dwarf had recovered from his first fright he cried\n",
            "with his shrill voice: ‘Could you not have done it more carefully! You\n",
            "dragged at my brown coat so that it is all torn and full of holes, you\n",
            "clumsy creatures!’ Then he took up a sack full of precious stones, and\n",
            "slipped away again under the rock into his hole. The girls, who by\n",
            "this time were used to his ingratitude, went on their way and did their\n",
            "business in town.\n",
            "\n",
            "As they crossed the heath again on their way home they surprised the\n",
            "dwarf, who had emptied out his bag of precious stones in a clean spot,\n",
            "and had not thought that anyone would come there so late. The evening\n",
            "sun shone upon the brilliant stones; they glittered and sparkled with\n",
            "all colours so beautifully that the children stood still and stared\n",
            "at them. ‘Why do you stand gaping there?’ cried the dwarf, and his\n",
            "ashen-grey face became copper-red with rage. He was still cursing when a\n",
            "loud growling was heard, and a black bear came trotting towards them out\n",
            "of the forest. The dwarf sprang up in a fright, but he could not reach\n",
            "his cave, for the bear was already close. Then in the dread of his heart\n",
            "he cried: ‘Dear Mr Bear, spare me, I will give you all my treasures;\n",
            "look, the beautiful jewels lying there! Grant me my life; what do you\n",
            "want with such a slender little fellow as I? you would not feel me\n",
            "between your teeth. Come, take these two wicked girls, they are tender\n",
            "morsels for you, fat as young quails; for mercy’s sake eat them!’ The\n",
            "bear took no heed of his words, but gave the wicked creature a single\n",
            "blow with his paw, and he did not move again.\n",
            "\n",
            "The girls had run away, but the bear called to them: ‘Snow-white and\n",
            "Rose-red, do not be afraid; wait, I will come with you.’ Then they\n",
            "recognized his voice and waited, and when he came up to them suddenly\n",
            "his bearskin fell off, and he stood there a handsome man, clothed all in\n",
            "gold. ‘I am a king’s son,’ he said, ‘and I was bewitched by that wicked\n",
            "dwarf, who had stolen my treasures; I have had to run about the forest\n",
            "as a savage bear until I was freed by his death. Now he has got his\n",
            "well-deserved punishment.\n",
            "\n",
            "Snow-white was married to him, and Rose-red to his brother, and they\n",
            "divided between them the great treasure which the dwarf had gathered\n",
            "together in his cave. The old mother lived peacefully and happily with\n",
            "her children for many years. She took the two rose-trees with her, and\n",
            "they stood before her window, and every year bore the most beautiful\n",
            "roses, white and red.\n",
            "\n",
            "\n",
            "*****\n",
            "\n",
            "\n",
            "The Brothers Grimm, Jacob (1785-1863) and Wilhelm (1786-1859), were born\n",
            "in Hanau, near Frankfurt, in the German state of Hesse. Throughout\n",
            "their lives they remained close friends, and both studied law at Marburg\n",
            "University. Jacob was a pioneer in the study of German philology,\n",
            "and although Wilhelm’s work was hampered by poor health the brothers\n",
            "collaborated in the creation of a German dictionary, not completed until\n",
            "a century after their deaths. But they were best (and universally) known\n",
            "for the collection of over two hundred folk tales they made from oral\n",
            "sources and published in two volumes of ‘Nursery and Household Tales’ in\n",
            "1812 and 1814. Although their intention was to preserve such material as\n",
            "part of German cultural and literary history, and their collection was\n",
            "first published with scholarly notes and no illustration, the tales soon\n",
            "came into the possession of young readers. This was in part due to Edgar\n",
            "Taylor, who made the first English translation in 1823, selecting about\n",
            "fifty stories ‘with the amusement of some young friends principally in\n",
            "view.’ They have been an essential ingredient of children’s reading ever\n",
            "since.\n"
          ]
        }
      ]
    },
    {
      "cell_type": "markdown",
      "source": [
        "## Cleaning and Pre-processing ##"
      ],
      "metadata": {
        "id": "_DtGzAsCCWiP"
      }
    },
    {
      "cell_type": "code",
      "source": [],
      "metadata": {
        "id": "xRJQJAq4CLNd"
      },
      "execution_count": 123,
      "outputs": []
    },
    {
      "cell_type": "code",
      "source": [
        "#Removing bibliographic text\n",
        "\n",
        "snow_white_cleaned = [snow_white.split(\"*****\")[0]][0]"
      ],
      "metadata": {
        "id": "5QKoOqFtByn5"
      },
      "execution_count": 124,
      "outputs": []
    },
    {
      "cell_type": "code",
      "source": [
        "print(snow_white_cleaned)"
      ],
      "metadata": {
        "colab": {
          "base_uri": "https://localhost:8080/"
        },
        "id": "2ka3U0KXB_PI",
        "outputId": "7895d096-baeb-434d-bdb8-0f29e59396c5"
      },
      "execution_count": 125,
      "outputs": [
        {
          "output_type": "stream",
          "name": "stdout",
          "text": [
            "There was once a poor widow who lived in a lonely cottage. In front of\n",
            "the cottage was a garden wherein stood two rose-trees, one of which bore\n",
            "white and the other red roses. She had two children who were like the\n",
            "two rose-trees, and one was called Snow-white, and the other Rose-red.\n",
            "They were as good and happy, as busy and cheerful as ever two children\n",
            "in the world were, only Snow-white was more quiet and gentle than\n",
            "Rose-red. Rose-red liked better to run about in the meadows and fields\n",
            "seeking flowers and catching butterflies; but Snow-white sat at home\n",
            "with her mother, and helped her with her housework, or read to her when\n",
            "there was nothing to do.\n",
            "\n",
            "The two children were so fond of one another that they always held each\n",
            "other by the hand when they went out together, and when Snow-white said:\n",
            "‘We will not leave each other,’ Rose-red answered: ‘Never so long as we\n",
            "live,’ and their mother would add: ‘What one has she must share with the\n",
            "other.’\n",
            "\n",
            "They often ran about the forest alone and gathered red berries, and no\n",
            "beasts did them any harm, but came close to them trustfully. The little\n",
            "hare would eat a cabbage-leaf out of their hands, the roe grazed by\n",
            "their side, the stag leapt merrily by them, and the birds sat still upon\n",
            "the boughs, and sang whatever they knew.\n",
            "\n",
            "No mishap overtook them; if they had stayed too late in the forest, and\n",
            "night came on, they laid themselves down near one another upon the moss,\n",
            "and slept until morning came, and their mother knew this and did not\n",
            "worry on their account.\n",
            "\n",
            "Once when they had spent the night in the wood and the dawn had roused\n",
            "them, they saw a beautiful child in a shining white dress sitting near\n",
            "their bed. He got up and looked quite kindly at them, but said nothing\n",
            "and went into the forest. And when they looked round they found that\n",
            "they had been sleeping quite close to a precipice, and would certainly\n",
            "have fallen into it in the darkness if they had gone only a few paces\n",
            "further. And their mother told them that it must have been the angel who\n",
            "watches over good children.\n",
            "\n",
            "Snow-white and Rose-red kept their mother’s little cottage so neat that\n",
            "it was a pleasure to look inside it. In the summer Rose-red took care\n",
            "of the house, and every morning laid a wreath of flowers by her mother’s\n",
            "bed before she awoke, in which was a rose from each tree. In the winter\n",
            "Snow-white lit the fire and hung the kettle on the hob. The kettle\n",
            "was of brass and shone like gold, so brightly was it polished. In the\n",
            "evening, when the snowflakes fell, the mother said: ‘Go, Snow-white, and\n",
            "bolt the door,’ and then they sat round the hearth, and the mother took\n",
            "her spectacles and read aloud out of a large book, and the two girls\n",
            "listened as they sat and spun. And close by them lay a lamb upon the\n",
            "floor, and behind them upon a perch sat a white dove with its head\n",
            "hidden beneath its wings.\n",
            "\n",
            "One evening, as they were thus sitting comfortably together, someone\n",
            "knocked at the door as if he wished to be let in. The mother said:\n",
            "‘Quick, Rose-red, open the door, it must be a traveller who is seeking\n",
            "shelter.’ Rose-red went and pushed back the bolt, thinking that it was a\n",
            "poor man, but it was not; it was a bear that stretched his broad, black\n",
            "head within the door.\n",
            "\n",
            "Rose-red screamed and sprang back, the lamb bleated, the dove fluttered,\n",
            "and Snow-white hid herself behind her mother’s bed. But the bear began\n",
            "to speak and said: ‘Do not be afraid, I will do you no harm! I am\n",
            "half-frozen, and only want to warm myself a little beside you.’\n",
            "\n",
            "‘Poor bear,’ said the mother, ‘lie down by the fire, only take care that\n",
            "you do not burn your coat.’ Then she cried: ‘Snow-white, Rose-red, come\n",
            "out, the bear will do you no harm, he means well.’ So they both came\n",
            "out, and by-and-by the lamb and dove came nearer, and were not afraid\n",
            "of him. The bear said: ‘Here, children, knock the snow out of my coat a\n",
            "little’; so they brought the broom and swept the bear’s hide clean;\n",
            "and he stretched himself by the fire and growled contentedly and\n",
            "comfortably. It was not long before they grew quite at home, and played\n",
            "tricks with their clumsy guest. They tugged his hair with their hands,\n",
            "put their feet upon his back and rolled him about, or they took a\n",
            "hazel-switch and beat him, and when he growled they laughed. But the\n",
            "bear took it all in good part, only when they were too rough he called\n",
            "out: ‘Leave me alive, children,\n",
            "\n",
            "  Snow-white, Rose-red,\n",
            "  Will you beat your wooer dead?’\n",
            "\n",
            "When it was bed-time, and the others went to bed, the mother said to the\n",
            "bear: ‘You can lie there by the hearth, and then you will be safe from\n",
            "the cold and the bad weather.’ As soon as day dawned the two children\n",
            "let him out, and he trotted across the snow into the forest.\n",
            "\n",
            "Henceforth the bear came every evening at the same time, laid himself\n",
            "down by the hearth, and let the children amuse themselves with him as\n",
            "much as they liked; and they got so used to him that the doors were\n",
            "never fastened until their black friend had arrived.\n",
            "\n",
            "When spring had come and all outside was green, the bear said one\n",
            "morning to Snow-white: ‘Now I must go away, and cannot come back for the\n",
            "whole summer.’ ‘Where are you going, then, dear bear?’ asked Snow-white.\n",
            "‘I must go into the forest and guard my treasures from the wicked\n",
            "dwarfs. In the winter, when the earth is frozen hard, they are obliged\n",
            "to stay below and cannot work their way through; but now, when the sun\n",
            "has thawed and warmed the earth, they break through it, and come out to\n",
            "pry and steal; and what once gets into their hands, and in their caves,\n",
            "does not easily see daylight again.’\n",
            "\n",
            "Snow-white was quite sorry at his departure, and as she unbolted the\n",
            "door for him, and the bear was hurrying out, he caught against the bolt\n",
            "and a piece of his hairy coat was torn off, and it seemed to Snow-white\n",
            "as if she had seen gold shining through it, but she was not sure about\n",
            "it. The bear ran away quickly, and was soon out of sight behind the\n",
            "trees.\n",
            "\n",
            "A short time afterwards the mother sent her children into the forest\n",
            "to get firewood. There they found a big tree which lay felled on the\n",
            "ground, and close by the trunk something was jumping backwards and\n",
            "forwards in the grass, but they could not make out what it was. When\n",
            "they came nearer they saw a dwarf with an old withered face and a\n",
            "snow-white beard a yard long. The end of the beard was caught in a\n",
            "crevice of the tree, and the little fellow was jumping about like a dog\n",
            "tied to a rope, and did not know what to do.\n",
            "\n",
            "He glared at the girls with his fiery red eyes and cried: ‘Why do you\n",
            "stand there? Can you not come here and help me?’ ‘What are you up to,\n",
            "little man?’ asked Rose-red. ‘You stupid, prying goose!’ answered the\n",
            "dwarf: ‘I was going to split the tree to get a little wood for cooking.\n",
            "The little bit of food that we people get is immediately burnt up with\n",
            "heavy logs; we do not swallow so much as you coarse, greedy folk. I had\n",
            "just driven the wedge safely in, and everything was going as I wished;\n",
            "but the cursed wedge was too smooth and suddenly sprang out, and the\n",
            "tree closed so quickly that I could not pull out my beautiful white\n",
            "beard; so now it is tight and I cannot get away, and the silly, sleek,\n",
            "milk-faced things laugh! Ugh! how odious you are!’\n",
            "\n",
            "The children tried very hard, but they could not pull the beard out, it\n",
            "was caught too fast. ‘I will run and fetch someone,’ said Rose-red. ‘You\n",
            "senseless goose!’ snarled the dwarf; ‘why should you fetch someone? You\n",
            "are already two too many for me; can you not think of something better?’\n",
            "‘Don’t be impatient,’ said Snow-white, ‘I will help you,’ and she pulled\n",
            "her scissors out of her pocket, and cut off the end of the beard.\n",
            "\n",
            "As soon as the dwarf felt himself free he laid hold of a bag which lay\n",
            "amongst the roots of the tree, and which was full of gold, and lifted it\n",
            "up, grumbling to himself: ‘Uncouth people, to cut off a piece of my fine\n",
            "beard. Bad luck to you!’ and then he swung the bag upon his back, and\n",
            "went off without even once looking at the children.\n",
            "\n",
            "Some time afterwards Snow-white and Rose-red went to catch a dish\n",
            "of fish. As they came near the brook they saw something like a large\n",
            "grasshopper jumping towards the water, as if it were going to leap in.\n",
            "They ran to it and found it was the dwarf. ‘Where are you going?’ said\n",
            "Rose-red; ‘you surely don’t want to go into the water?’ ‘I am not such\n",
            "a fool!’ cried the dwarf; ‘don’t you see that the accursed fish wants\n",
            "to pull me in?’ The little man had been sitting there fishing, and\n",
            "unluckily the wind had tangled up his beard with the fishing-line; a\n",
            "moment later a big fish made a bite and the feeble creature had not\n",
            "strength to pull it out; the fish kept the upper hand and pulled the\n",
            "dwarf towards him. He held on to all the reeds and rushes, but it was of\n",
            "little good, for he was forced to follow the movements of the fish, and\n",
            "was in urgent danger of being dragged into the water.\n",
            "\n",
            "The girls came just in time; they held him fast and tried to free his\n",
            "beard from the line, but all in vain, beard and line were entangled fast\n",
            "together. There was nothing to do but to bring out the scissors and cut\n",
            "the beard, whereby a small part of it was lost. When the dwarf saw that\n",
            "he screamed out: ‘Is that civil, you toadstool, to disfigure a man’s\n",
            "face? Was it not enough to clip off the end of my beard? Now you have\n",
            "cut off the best part of it. I cannot let myself be seen by my people.\n",
            "I wish you had been made to run the soles off your shoes!’ Then he took\n",
            "out a sack of pearls which lay in the rushes, and without another word\n",
            "he dragged it away and disappeared behind a stone.\n",
            "\n",
            "It happened that soon afterwards the mother sent the two children to the\n",
            "town to buy needles and thread, and laces and ribbons. The road led them\n",
            "across a heath upon which huge pieces of rock lay strewn about. There\n",
            "they noticed a large bird hovering in the air, flying slowly round and\n",
            "round above them; it sank lower and lower, and at last settled near a\n",
            "rock not far away. Immediately they heard a loud, piteous cry. They ran\n",
            "up and saw with horror that the eagle had seized their old acquaintance\n",
            "the dwarf, and was going to carry him off.\n",
            "\n",
            "The children, full of pity, at once took tight hold of the little man,\n",
            "and pulled against the eagle so long that at last he let his booty go.\n",
            "As soon as the dwarf had recovered from his first fright he cried\n",
            "with his shrill voice: ‘Could you not have done it more carefully! You\n",
            "dragged at my brown coat so that it is all torn and full of holes, you\n",
            "clumsy creatures!’ Then he took up a sack full of precious stones, and\n",
            "slipped away again under the rock into his hole. The girls, who by\n",
            "this time were used to his ingratitude, went on their way and did their\n",
            "business in town.\n",
            "\n",
            "As they crossed the heath again on their way home they surprised the\n",
            "dwarf, who had emptied out his bag of precious stones in a clean spot,\n",
            "and had not thought that anyone would come there so late. The evening\n",
            "sun shone upon the brilliant stones; they glittered and sparkled with\n",
            "all colours so beautifully that the children stood still and stared\n",
            "at them. ‘Why do you stand gaping there?’ cried the dwarf, and his\n",
            "ashen-grey face became copper-red with rage. He was still cursing when a\n",
            "loud growling was heard, and a black bear came trotting towards them out\n",
            "of the forest. The dwarf sprang up in a fright, but he could not reach\n",
            "his cave, for the bear was already close. Then in the dread of his heart\n",
            "he cried: ‘Dear Mr Bear, spare me, I will give you all my treasures;\n",
            "look, the beautiful jewels lying there! Grant me my life; what do you\n",
            "want with such a slender little fellow as I? you would not feel me\n",
            "between your teeth. Come, take these two wicked girls, they are tender\n",
            "morsels for you, fat as young quails; for mercy’s sake eat them!’ The\n",
            "bear took no heed of his words, but gave the wicked creature a single\n",
            "blow with his paw, and he did not move again.\n",
            "\n",
            "The girls had run away, but the bear called to them: ‘Snow-white and\n",
            "Rose-red, do not be afraid; wait, I will come with you.’ Then they\n",
            "recognized his voice and waited, and when he came up to them suddenly\n",
            "his bearskin fell off, and he stood there a handsome man, clothed all in\n",
            "gold. ‘I am a king’s son,’ he said, ‘and I was bewitched by that wicked\n",
            "dwarf, who had stolen my treasures; I have had to run about the forest\n",
            "as a savage bear until I was freed by his death. Now he has got his\n",
            "well-deserved punishment.\n",
            "\n",
            "Snow-white was married to him, and Rose-red to his brother, and they\n",
            "divided between them the great treasure which the dwarf had gathered\n",
            "together in his cave. The old mother lived peacefully and happily with\n",
            "her children for many years. She took the two rose-trees with her, and\n",
            "they stood before her window, and every year bore the most beautiful\n",
            "roses, white and red.\n",
            "\n",
            "\n",
            "\n"
          ]
        }
      ]
    },
    {
      "cell_type": "code",
      "source": [
        "# Tokenization\n",
        "\n",
        "import nltk\n",
        "nltk.download('punkt')\n",
        "from nltk.tokenize import sent_tokenize, word_tokenize\n",
        "\n"
      ],
      "metadata": {
        "id": "XKwec5RPCKUO",
        "colab": {
          "base_uri": "https://localhost:8080/"
        },
        "outputId": "e9cc3f05-4e77-46f3-bdd2-37b39ddbc288"
      },
      "execution_count": 126,
      "outputs": [
        {
          "output_type": "stream",
          "name": "stderr",
          "text": [
            "[nltk_data] Downloading package punkt to /root/nltk_data...\n",
            "[nltk_data]   Package punkt is already up-to-date!\n"
          ]
        }
      ]
    },
    {
      "cell_type": "code",
      "source": [
        "# Extract tokens\n",
        "tokens = word_tokenize(snow_white_cleaned)\n",
        "print(tokens)"
      ],
      "metadata": {
        "colab": {
          "base_uri": "https://localhost:8080/"
        },
        "id": "MIry3WjpC5o-",
        "outputId": "dcf2a8ac-fe18-4382-c93c-fd94141d5af7"
      },
      "execution_count": 127,
      "outputs": [
        {
          "output_type": "stream",
          "name": "stdout",
          "text": [
            "['There', 'was', 'once', 'a', 'poor', 'widow', 'who', 'lived', 'in', 'a', 'lonely', 'cottage', '.', 'In', 'front', 'of', 'the', 'cottage', 'was', 'a', 'garden', 'wherein', 'stood', 'two', 'rose-trees', ',', 'one', 'of', 'which', 'bore', 'white', 'and', 'the', 'other', 'red', 'roses', '.', 'She', 'had', 'two', 'children', 'who', 'were', 'like', 'the', 'two', 'rose-trees', ',', 'and', 'one', 'was', 'called', 'Snow-white', ',', 'and', 'the', 'other', 'Rose-red', '.', 'They', 'were', 'as', 'good', 'and', 'happy', ',', 'as', 'busy', 'and', 'cheerful', 'as', 'ever', 'two', 'children', 'in', 'the', 'world', 'were', ',', 'only', 'Snow-white', 'was', 'more', 'quiet', 'and', 'gentle', 'than', 'Rose-red', '.', 'Rose-red', 'liked', 'better', 'to', 'run', 'about', 'in', 'the', 'meadows', 'and', 'fields', 'seeking', 'flowers', 'and', 'catching', 'butterflies', ';', 'but', 'Snow-white', 'sat', 'at', 'home', 'with', 'her', 'mother', ',', 'and', 'helped', 'her', 'with', 'her', 'housework', ',', 'or', 'read', 'to', 'her', 'when', 'there', 'was', 'nothing', 'to', 'do', '.', 'The', 'two', 'children', 'were', 'so', 'fond', 'of', 'one', 'another', 'that', 'they', 'always', 'held', 'each', 'other', 'by', 'the', 'hand', 'when', 'they', 'went', 'out', 'together', ',', 'and', 'when', 'Snow-white', 'said', ':', '‘', 'We', 'will', 'not', 'leave', 'each', 'other', ',', '’', 'Rose-red', 'answered', ':', '‘', 'Never', 'so', 'long', 'as', 'we', 'live', ',', '’', 'and', 'their', 'mother', 'would', 'add', ':', '‘', 'What', 'one', 'has', 'she', 'must', 'share', 'with', 'the', 'other.', '’', 'They', 'often', 'ran', 'about', 'the', 'forest', 'alone', 'and', 'gathered', 'red', 'berries', ',', 'and', 'no', 'beasts', 'did', 'them', 'any', 'harm', ',', 'but', 'came', 'close', 'to', 'them', 'trustfully', '.', 'The', 'little', 'hare', 'would', 'eat', 'a', 'cabbage-leaf', 'out', 'of', 'their', 'hands', ',', 'the', 'roe', 'grazed', 'by', 'their', 'side', ',', 'the', 'stag', 'leapt', 'merrily', 'by', 'them', ',', 'and', 'the', 'birds', 'sat', 'still', 'upon', 'the', 'boughs', ',', 'and', 'sang', 'whatever', 'they', 'knew', '.', 'No', 'mishap', 'overtook', 'them', ';', 'if', 'they', 'had', 'stayed', 'too', 'late', 'in', 'the', 'forest', ',', 'and', 'night', 'came', 'on', ',', 'they', 'laid', 'themselves', 'down', 'near', 'one', 'another', 'upon', 'the', 'moss', ',', 'and', 'slept', 'until', 'morning', 'came', ',', 'and', 'their', 'mother', 'knew', 'this', 'and', 'did', 'not', 'worry', 'on', 'their', 'account', '.', 'Once', 'when', 'they', 'had', 'spent', 'the', 'night', 'in', 'the', 'wood', 'and', 'the', 'dawn', 'had', 'roused', 'them', ',', 'they', 'saw', 'a', 'beautiful', 'child', 'in', 'a', 'shining', 'white', 'dress', 'sitting', 'near', 'their', 'bed', '.', 'He', 'got', 'up', 'and', 'looked', 'quite', 'kindly', 'at', 'them', ',', 'but', 'said', 'nothing', 'and', 'went', 'into', 'the', 'forest', '.', 'And', 'when', 'they', 'looked', 'round', 'they', 'found', 'that', 'they', 'had', 'been', 'sleeping', 'quite', 'close', 'to', 'a', 'precipice', ',', 'and', 'would', 'certainly', 'have', 'fallen', 'into', 'it', 'in', 'the', 'darkness', 'if', 'they', 'had', 'gone', 'only', 'a', 'few', 'paces', 'further', '.', 'And', 'their', 'mother', 'told', 'them', 'that', 'it', 'must', 'have', 'been', 'the', 'angel', 'who', 'watches', 'over', 'good', 'children', '.', 'Snow-white', 'and', 'Rose-red', 'kept', 'their', 'mother', '’', 's', 'little', 'cottage', 'so', 'neat', 'that', 'it', 'was', 'a', 'pleasure', 'to', 'look', 'inside', 'it', '.', 'In', 'the', 'summer', 'Rose-red', 'took', 'care', 'of', 'the', 'house', ',', 'and', 'every', 'morning', 'laid', 'a', 'wreath', 'of', 'flowers', 'by', 'her', 'mother', '’', 's', 'bed', 'before', 'she', 'awoke', ',', 'in', 'which', 'was', 'a', 'rose', 'from', 'each', 'tree', '.', 'In', 'the', 'winter', 'Snow-white', 'lit', 'the', 'fire', 'and', 'hung', 'the', 'kettle', 'on', 'the', 'hob', '.', 'The', 'kettle', 'was', 'of', 'brass', 'and', 'shone', 'like', 'gold', ',', 'so', 'brightly', 'was', 'it', 'polished', '.', 'In', 'the', 'evening', ',', 'when', 'the', 'snowflakes', 'fell', ',', 'the', 'mother', 'said', ':', '‘', 'Go', ',', 'Snow-white', ',', 'and', 'bolt', 'the', 'door', ',', '’', 'and', 'then', 'they', 'sat', 'round', 'the', 'hearth', ',', 'and', 'the', 'mother', 'took', 'her', 'spectacles', 'and', 'read', 'aloud', 'out', 'of', 'a', 'large', 'book', ',', 'and', 'the', 'two', 'girls', 'listened', 'as', 'they', 'sat', 'and', 'spun', '.', 'And', 'close', 'by', 'them', 'lay', 'a', 'lamb', 'upon', 'the', 'floor', ',', 'and', 'behind', 'them', 'upon', 'a', 'perch', 'sat', 'a', 'white', 'dove', 'with', 'its', 'head', 'hidden', 'beneath', 'its', 'wings', '.', 'One', 'evening', ',', 'as', 'they', 'were', 'thus', 'sitting', 'comfortably', 'together', ',', 'someone', 'knocked', 'at', 'the', 'door', 'as', 'if', 'he', 'wished', 'to', 'be', 'let', 'in', '.', 'The', 'mother', 'said', ':', '‘', 'Quick', ',', 'Rose-red', ',', 'open', 'the', 'door', ',', 'it', 'must', 'be', 'a', 'traveller', 'who', 'is', 'seeking', 'shelter.', '’', 'Rose-red', 'went', 'and', 'pushed', 'back', 'the', 'bolt', ',', 'thinking', 'that', 'it', 'was', 'a', 'poor', 'man', ',', 'but', 'it', 'was', 'not', ';', 'it', 'was', 'a', 'bear', 'that', 'stretched', 'his', 'broad', ',', 'black', 'head', 'within', 'the', 'door', '.', 'Rose-red', 'screamed', 'and', 'sprang', 'back', ',', 'the', 'lamb', 'bleated', ',', 'the', 'dove', 'fluttered', ',', 'and', 'Snow-white', 'hid', 'herself', 'behind', 'her', 'mother', '’', 's', 'bed', '.', 'But', 'the', 'bear', 'began', 'to', 'speak', 'and', 'said', ':', '‘', 'Do', 'not', 'be', 'afraid', ',', 'I', 'will', 'do', 'you', 'no', 'harm', '!', 'I', 'am', 'half-frozen', ',', 'and', 'only', 'want', 'to', 'warm', 'myself', 'a', 'little', 'beside', 'you.', '’', '‘', 'Poor', 'bear', ',', '’', 'said', 'the', 'mother', ',', '‘', 'lie', 'down', 'by', 'the', 'fire', ',', 'only', 'take', 'care', 'that', 'you', 'do', 'not', 'burn', 'your', 'coat.', '’', 'Then', 'she', 'cried', ':', '‘', 'Snow-white', ',', 'Rose-red', ',', 'come', 'out', ',', 'the', 'bear', 'will', 'do', 'you', 'no', 'harm', ',', 'he', 'means', 'well.', '’', 'So', 'they', 'both', 'came', 'out', ',', 'and', 'by-and-by', 'the', 'lamb', 'and', 'dove', 'came', 'nearer', ',', 'and', 'were', 'not', 'afraid', 'of', 'him', '.', 'The', 'bear', 'said', ':', '‘', 'Here', ',', 'children', ',', 'knock', 'the', 'snow', 'out', 'of', 'my', 'coat', 'a', 'little', '’', ';', 'so', 'they', 'brought', 'the', 'broom', 'and', 'swept', 'the', 'bear', '’', 's', 'hide', 'clean', ';', 'and', 'he', 'stretched', 'himself', 'by', 'the', 'fire', 'and', 'growled', 'contentedly', 'and', 'comfortably', '.', 'It', 'was', 'not', 'long', 'before', 'they', 'grew', 'quite', 'at', 'home', ',', 'and', 'played', 'tricks', 'with', 'their', 'clumsy', 'guest', '.', 'They', 'tugged', 'his', 'hair', 'with', 'their', 'hands', ',', 'put', 'their', 'feet', 'upon', 'his', 'back', 'and', 'rolled', 'him', 'about', ',', 'or', 'they', 'took', 'a', 'hazel-switch', 'and', 'beat', 'him', ',', 'and', 'when', 'he', 'growled', 'they', 'laughed', '.', 'But', 'the', 'bear', 'took', 'it', 'all', 'in', 'good', 'part', ',', 'only', 'when', 'they', 'were', 'too', 'rough', 'he', 'called', 'out', ':', '‘', 'Leave', 'me', 'alive', ',', 'children', ',', 'Snow-white', ',', 'Rose-red', ',', 'Will', 'you', 'beat', 'your', 'wooer', 'dead', '?', '’', 'When', 'it', 'was', 'bed-time', ',', 'and', 'the', 'others', 'went', 'to', 'bed', ',', 'the', 'mother', 'said', 'to', 'the', 'bear', ':', '‘', 'You', 'can', 'lie', 'there', 'by', 'the', 'hearth', ',', 'and', 'then', 'you', 'will', 'be', 'safe', 'from', 'the', 'cold', 'and', 'the', 'bad', 'weather.', '’', 'As', 'soon', 'as', 'day', 'dawned', 'the', 'two', 'children', 'let', 'him', 'out', ',', 'and', 'he', 'trotted', 'across', 'the', 'snow', 'into', 'the', 'forest', '.', 'Henceforth', 'the', 'bear', 'came', 'every', 'evening', 'at', 'the', 'same', 'time', ',', 'laid', 'himself', 'down', 'by', 'the', 'hearth', ',', 'and', 'let', 'the', 'children', 'amuse', 'themselves', 'with', 'him', 'as', 'much', 'as', 'they', 'liked', ';', 'and', 'they', 'got', 'so', 'used', 'to', 'him', 'that', 'the', 'doors', 'were', 'never', 'fastened', 'until', 'their', 'black', 'friend', 'had', 'arrived', '.', 'When', 'spring', 'had', 'come', 'and', 'all', 'outside', 'was', 'green', ',', 'the', 'bear', 'said', 'one', 'morning', 'to', 'Snow-white', ':', '‘', 'Now', 'I', 'must', 'go', 'away', ',', 'and', 'can', 'not', 'come', 'back', 'for', 'the', 'whole', 'summer.', '’', '‘', 'Where', 'are', 'you', 'going', ',', 'then', ',', 'dear', 'bear', '?', '’', 'asked', 'Snow-white', '.', '‘', 'I', 'must', 'go', 'into', 'the', 'forest', 'and', 'guard', 'my', 'treasures', 'from', 'the', 'wicked', 'dwarfs', '.', 'In', 'the', 'winter', ',', 'when', 'the', 'earth', 'is', 'frozen', 'hard', ',', 'they', 'are', 'obliged', 'to', 'stay', 'below', 'and', 'can', 'not', 'work', 'their', 'way', 'through', ';', 'but', 'now', ',', 'when', 'the', 'sun', 'has', 'thawed', 'and', 'warmed', 'the', 'earth', ',', 'they', 'break', 'through', 'it', ',', 'and', 'come', 'out', 'to', 'pry', 'and', 'steal', ';', 'and', 'what', 'once', 'gets', 'into', 'their', 'hands', ',', 'and', 'in', 'their', 'caves', ',', 'does', 'not', 'easily', 'see', 'daylight', 'again.', '’', 'Snow-white', 'was', 'quite', 'sorry', 'at', 'his', 'departure', ',', 'and', 'as', 'she', 'unbolted', 'the', 'door', 'for', 'him', ',', 'and', 'the', 'bear', 'was', 'hurrying', 'out', ',', 'he', 'caught', 'against', 'the', 'bolt', 'and', 'a', 'piece', 'of', 'his', 'hairy', 'coat', 'was', 'torn', 'off', ',', 'and', 'it', 'seemed', 'to', 'Snow-white', 'as', 'if', 'she', 'had', 'seen', 'gold', 'shining', 'through', 'it', ',', 'but', 'she', 'was', 'not', 'sure', 'about', 'it', '.', 'The', 'bear', 'ran', 'away', 'quickly', ',', 'and', 'was', 'soon', 'out', 'of', 'sight', 'behind', 'the', 'trees', '.', 'A', 'short', 'time', 'afterwards', 'the', 'mother', 'sent', 'her', 'children', 'into', 'the', 'forest', 'to', 'get', 'firewood', '.', 'There', 'they', 'found', 'a', 'big', 'tree', 'which', 'lay', 'felled', 'on', 'the', 'ground', ',', 'and', 'close', 'by', 'the', 'trunk', 'something', 'was', 'jumping', 'backwards', 'and', 'forwards', 'in', 'the', 'grass', ',', 'but', 'they', 'could', 'not', 'make', 'out', 'what', 'it', 'was', '.', 'When', 'they', 'came', 'nearer', 'they', 'saw', 'a', 'dwarf', 'with', 'an', 'old', 'withered', 'face', 'and', 'a', 'snow-white', 'beard', 'a', 'yard', 'long', '.', 'The', 'end', 'of', 'the', 'beard', 'was', 'caught', 'in', 'a', 'crevice', 'of', 'the', 'tree', ',', 'and', 'the', 'little', 'fellow', 'was', 'jumping', 'about', 'like', 'a', 'dog', 'tied', 'to', 'a', 'rope', ',', 'and', 'did', 'not', 'know', 'what', 'to', 'do', '.', 'He', 'glared', 'at', 'the', 'girls', 'with', 'his', 'fiery', 'red', 'eyes', 'and', 'cried', ':', '‘', 'Why', 'do', 'you', 'stand', 'there', '?', 'Can', 'you', 'not', 'come', 'here', 'and', 'help', 'me', '?', '’', '‘', 'What', 'are', 'you', 'up', 'to', ',', 'little', 'man', '?', '’', 'asked', 'Rose-red', '.', '‘', 'You', 'stupid', ',', 'prying', 'goose', '!', '’', 'answered', 'the', 'dwarf', ':', '‘', 'I', 'was', 'going', 'to', 'split', 'the', 'tree', 'to', 'get', 'a', 'little', 'wood', 'for', 'cooking', '.', 'The', 'little', 'bit', 'of', 'food', 'that', 'we', 'people', 'get', 'is', 'immediately', 'burnt', 'up', 'with', 'heavy', 'logs', ';', 'we', 'do', 'not', 'swallow', 'so', 'much', 'as', 'you', 'coarse', ',', 'greedy', 'folk', '.', 'I', 'had', 'just', 'driven', 'the', 'wedge', 'safely', 'in', ',', 'and', 'everything', 'was', 'going', 'as', 'I', 'wished', ';', 'but', 'the', 'cursed', 'wedge', 'was', 'too', 'smooth', 'and', 'suddenly', 'sprang', 'out', ',', 'and', 'the', 'tree', 'closed', 'so', 'quickly', 'that', 'I', 'could', 'not', 'pull', 'out', 'my', 'beautiful', 'white', 'beard', ';', 'so', 'now', 'it', 'is', 'tight', 'and', 'I', 'can', 'not', 'get', 'away', ',', 'and', 'the', 'silly', ',', 'sleek', ',', 'milk-faced', 'things', 'laugh', '!', 'Ugh', '!', 'how', 'odious', 'you', 'are', '!', '’', 'The', 'children', 'tried', 'very', 'hard', ',', 'but', 'they', 'could', 'not', 'pull', 'the', 'beard', 'out', ',', 'it', 'was', 'caught', 'too', 'fast', '.', '‘', 'I', 'will', 'run', 'and', 'fetch', 'someone', ',', '’', 'said', 'Rose-red', '.', '‘', 'You', 'senseless', 'goose', '!', '’', 'snarled', 'the', 'dwarf', ';', '‘', 'why', 'should', 'you', 'fetch', 'someone', '?', 'You', 'are', 'already', 'two', 'too', 'many', 'for', 'me', ';', 'can', 'you', 'not', 'think', 'of', 'something', 'better', '?', '’', '‘', 'Don', '’', 't', 'be', 'impatient', ',', '’', 'said', 'Snow-white', ',', '‘', 'I', 'will', 'help', 'you', ',', '’', 'and', 'she', 'pulled', 'her', 'scissors', 'out', 'of', 'her', 'pocket', ',', 'and', 'cut', 'off', 'the', 'end', 'of', 'the', 'beard', '.', 'As', 'soon', 'as', 'the', 'dwarf', 'felt', 'himself', 'free', 'he', 'laid', 'hold', 'of', 'a', 'bag', 'which', 'lay', 'amongst', 'the', 'roots', 'of', 'the', 'tree', ',', 'and', 'which', 'was', 'full', 'of', 'gold', ',', 'and', 'lifted', 'it', 'up', ',', 'grumbling', 'to', 'himself', ':', '‘', 'Uncouth', 'people', ',', 'to', 'cut', 'off', 'a', 'piece', 'of', 'my', 'fine', 'beard', '.', 'Bad', 'luck', 'to', 'you', '!', '’', 'and', 'then', 'he', 'swung', 'the', 'bag', 'upon', 'his', 'back', ',', 'and', 'went', 'off', 'without', 'even', 'once', 'looking', 'at', 'the', 'children', '.', 'Some', 'time', 'afterwards', 'Snow-white', 'and', 'Rose-red', 'went', 'to', 'catch', 'a', 'dish', 'of', 'fish', '.', 'As', 'they', 'came', 'near', 'the', 'brook', 'they', 'saw', 'something', 'like', 'a', 'large', 'grasshopper', 'jumping', 'towards', 'the', 'water', ',', 'as', 'if', 'it', 'were', 'going', 'to', 'leap', 'in', '.', 'They', 'ran', 'to', 'it', 'and', 'found', 'it', 'was', 'the', 'dwarf', '.', '‘', 'Where', 'are', 'you', 'going', '?', '’', 'said', 'Rose-red', ';', '‘', 'you', 'surely', 'don', '’', 't', 'want', 'to', 'go', 'into', 'the', 'water', '?', '’', '‘', 'I', 'am', 'not', 'such', 'a', 'fool', '!', '’', 'cried', 'the', 'dwarf', ';', '‘', 'don', '’', 't', 'you', 'see', 'that', 'the', 'accursed', 'fish', 'wants', 'to', 'pull', 'me', 'in', '?', '’', 'The', 'little', 'man', 'had', 'been', 'sitting', 'there', 'fishing', ',', 'and', 'unluckily', 'the', 'wind', 'had', 'tangled', 'up', 'his', 'beard', 'with', 'the', 'fishing-line', ';', 'a', 'moment', 'later', 'a', 'big', 'fish', 'made', 'a', 'bite', 'and', 'the', 'feeble', 'creature', 'had', 'not', 'strength', 'to', 'pull', 'it', 'out', ';', 'the', 'fish', 'kept', 'the', 'upper', 'hand', 'and', 'pulled', 'the', 'dwarf', 'towards', 'him', '.', 'He', 'held', 'on', 'to', 'all', 'the', 'reeds', 'and', 'rushes', ',', 'but', 'it', 'was', 'of', 'little', 'good', ',', 'for', 'he', 'was', 'forced', 'to', 'follow', 'the', 'movements', 'of', 'the', 'fish', ',', 'and', 'was', 'in', 'urgent', 'danger', 'of', 'being', 'dragged', 'into', 'the', 'water', '.', 'The', 'girls', 'came', 'just', 'in', 'time', ';', 'they', 'held', 'him', 'fast', 'and', 'tried', 'to', 'free', 'his', 'beard', 'from', 'the', 'line', ',', 'but', 'all', 'in', 'vain', ',', 'beard', 'and', 'line', 'were', 'entangled', 'fast', 'together', '.', 'There', 'was', 'nothing', 'to', 'do', 'but', 'to', 'bring', 'out', 'the', 'scissors', 'and', 'cut', 'the', 'beard', ',', 'whereby', 'a', 'small', 'part', 'of', 'it', 'was', 'lost', '.', 'When', 'the', 'dwarf', 'saw', 'that', 'he', 'screamed', 'out', ':', '‘', 'Is', 'that', 'civil', ',', 'you', 'toadstool', ',', 'to', 'disfigure', 'a', 'man', '’', 's', 'face', '?', 'Was', 'it', 'not', 'enough', 'to', 'clip', 'off', 'the', 'end', 'of', 'my', 'beard', '?', 'Now', 'you', 'have', 'cut', 'off', 'the', 'best', 'part', 'of', 'it', '.', 'I', 'can', 'not', 'let', 'myself', 'be', 'seen', 'by', 'my', 'people', '.', 'I', 'wish', 'you', 'had', 'been', 'made', 'to', 'run', 'the', 'soles', 'off', 'your', 'shoes', '!', '’', 'Then', 'he', 'took', 'out', 'a', 'sack', 'of', 'pearls', 'which', 'lay', 'in', 'the', 'rushes', ',', 'and', 'without', 'another', 'word', 'he', 'dragged', 'it', 'away', 'and', 'disappeared', 'behind', 'a', 'stone', '.', 'It', 'happened', 'that', 'soon', 'afterwards', 'the', 'mother', 'sent', 'the', 'two', 'children', 'to', 'the', 'town', 'to', 'buy', 'needles', 'and', 'thread', ',', 'and', 'laces', 'and', 'ribbons', '.', 'The', 'road', 'led', 'them', 'across', 'a', 'heath', 'upon', 'which', 'huge', 'pieces', 'of', 'rock', 'lay', 'strewn', 'about', '.', 'There', 'they', 'noticed', 'a', 'large', 'bird', 'hovering', 'in', 'the', 'air', ',', 'flying', 'slowly', 'round', 'and', 'round', 'above', 'them', ';', 'it', 'sank', 'lower', 'and', 'lower', ',', 'and', 'at', 'last', 'settled', 'near', 'a', 'rock', 'not', 'far', 'away', '.', 'Immediately', 'they', 'heard', 'a', 'loud', ',', 'piteous', 'cry', '.', 'They', 'ran', 'up', 'and', 'saw', 'with', 'horror', 'that', 'the', 'eagle', 'had', 'seized', 'their', 'old', 'acquaintance', 'the', 'dwarf', ',', 'and', 'was', 'going', 'to', 'carry', 'him', 'off', '.', 'The', 'children', ',', 'full', 'of', 'pity', ',', 'at', 'once', 'took', 'tight', 'hold', 'of', 'the', 'little', 'man', ',', 'and', 'pulled', 'against', 'the', 'eagle', 'so', 'long', 'that', 'at', 'last', 'he', 'let', 'his', 'booty', 'go', '.', 'As', 'soon', 'as', 'the', 'dwarf', 'had', 'recovered', 'from', 'his', 'first', 'fright', 'he', 'cried', 'with', 'his', 'shrill', 'voice', ':', '‘', 'Could', 'you', 'not', 'have', 'done', 'it', 'more', 'carefully', '!', 'You', 'dragged', 'at', 'my', 'brown', 'coat', 'so', 'that', 'it', 'is', 'all', 'torn', 'and', 'full', 'of', 'holes', ',', 'you', 'clumsy', 'creatures', '!', '’', 'Then', 'he', 'took', 'up', 'a', 'sack', 'full', 'of', 'precious', 'stones', ',', 'and', 'slipped', 'away', 'again', 'under', 'the', 'rock', 'into', 'his', 'hole', '.', 'The', 'girls', ',', 'who', 'by', 'this', 'time', 'were', 'used', 'to', 'his', 'ingratitude', ',', 'went', 'on', 'their', 'way', 'and', 'did', 'their', 'business', 'in', 'town', '.', 'As', 'they', 'crossed', 'the', 'heath', 'again', 'on', 'their', 'way', 'home', 'they', 'surprised', 'the', 'dwarf', ',', 'who', 'had', 'emptied', 'out', 'his', 'bag', 'of', 'precious', 'stones', 'in', 'a', 'clean', 'spot', ',', 'and', 'had', 'not', 'thought', 'that', 'anyone', 'would', 'come', 'there', 'so', 'late', '.', 'The', 'evening', 'sun', 'shone', 'upon', 'the', 'brilliant', 'stones', ';', 'they', 'glittered', 'and', 'sparkled', 'with', 'all', 'colours', 'so', 'beautifully', 'that', 'the', 'children', 'stood', 'still', 'and', 'stared', 'at', 'them', '.', '‘', 'Why', 'do', 'you', 'stand', 'gaping', 'there', '?', '’', 'cried', 'the', 'dwarf', ',', 'and', 'his', 'ashen-grey', 'face', 'became', 'copper-red', 'with', 'rage', '.', 'He', 'was', 'still', 'cursing', 'when', 'a', 'loud', 'growling', 'was', 'heard', ',', 'and', 'a', 'black', 'bear', 'came', 'trotting', 'towards', 'them', 'out', 'of', 'the', 'forest', '.', 'The', 'dwarf', 'sprang', 'up', 'in', 'a', 'fright', ',', 'but', 'he', 'could', 'not', 'reach', 'his', 'cave', ',', 'for', 'the', 'bear', 'was', 'already', 'close', '.', 'Then', 'in', 'the', 'dread', 'of', 'his', 'heart', 'he', 'cried', ':', '‘', 'Dear', 'Mr', 'Bear', ',', 'spare', 'me', ',', 'I', 'will', 'give', 'you', 'all', 'my', 'treasures', ';', 'look', ',', 'the', 'beautiful', 'jewels', 'lying', 'there', '!', 'Grant', 'me', 'my', 'life', ';', 'what', 'do', 'you', 'want', 'with', 'such', 'a', 'slender', 'little', 'fellow', 'as', 'I', '?', 'you', 'would', 'not', 'feel', 'me', 'between', 'your', 'teeth', '.', 'Come', ',', 'take', 'these', 'two', 'wicked', 'girls', ',', 'they', 'are', 'tender', 'morsels', 'for', 'you', ',', 'fat', 'as', 'young', 'quails', ';', 'for', 'mercy', '’', 's', 'sake', 'eat', 'them', '!', '’', 'The', 'bear', 'took', 'no', 'heed', 'of', 'his', 'words', ',', 'but', 'gave', 'the', 'wicked', 'creature', 'a', 'single', 'blow', 'with', 'his', 'paw', ',', 'and', 'he', 'did', 'not', 'move', 'again', '.', 'The', 'girls', 'had', 'run', 'away', ',', 'but', 'the', 'bear', 'called', 'to', 'them', ':', '‘', 'Snow-white', 'and', 'Rose-red', ',', 'do', 'not', 'be', 'afraid', ';', 'wait', ',', 'I', 'will', 'come', 'with', 'you.', '’', 'Then', 'they', 'recognized', 'his', 'voice', 'and', 'waited', ',', 'and', 'when', 'he', 'came', 'up', 'to', 'them', 'suddenly', 'his', 'bearskin', 'fell', 'off', ',', 'and', 'he', 'stood', 'there', 'a', 'handsome', 'man', ',', 'clothed', 'all', 'in', 'gold', '.', '‘', 'I', 'am', 'a', 'king', '’', 's', 'son', ',', '’', 'he', 'said', ',', '‘', 'and', 'I', 'was', 'bewitched', 'by', 'that', 'wicked', 'dwarf', ',', 'who', 'had', 'stolen', 'my', 'treasures', ';', 'I', 'have', 'had', 'to', 'run', 'about', 'the', 'forest', 'as', 'a', 'savage', 'bear', 'until', 'I', 'was', 'freed', 'by', 'his', 'death', '.', 'Now', 'he', 'has', 'got', 'his', 'well-deserved', 'punishment', '.', 'Snow-white', 'was', 'married', 'to', 'him', ',', 'and', 'Rose-red', 'to', 'his', 'brother', ',', 'and', 'they', 'divided', 'between', 'them', 'the', 'great', 'treasure', 'which', 'the', 'dwarf', 'had', 'gathered', 'together', 'in', 'his', 'cave', '.', 'The', 'old', 'mother', 'lived', 'peacefully', 'and', 'happily', 'with', 'her', 'children', 'for', 'many', 'years', '.', 'She', 'took', 'the', 'two', 'rose-trees', 'with', 'her', ',', 'and', 'they', 'stood', 'before', 'her', 'window', ',', 'and', 'every', 'year', 'bore', 'the', 'most', 'beautiful', 'roses', ',', 'white', 'and', 'red', '.']\n"
          ]
        }
      ]
    },
    {
      "cell_type": "code",
      "source": [
        "len(tokens)"
      ],
      "metadata": {
        "colab": {
          "base_uri": "https://localhost:8080/"
        },
        "id": "3yqrMlouG1Yv",
        "outputId": "2bf0bf86-e50a-4f88-cbc9-912bd6c92783"
      },
      "execution_count": 128,
      "outputs": [
        {
          "output_type": "execute_result",
          "data": {
            "text/plain": [
              "2825"
            ]
          },
          "metadata": {},
          "execution_count": 128
        }
      ]
    },
    {
      "cell_type": "code",
      "source": [
        "#Remove punctuation\n",
        "\n",
        "import string\n",
        "\n",
        "punctuation = list(string.punctuation)\n",
        "\n",
        "punctuation.append(\"‘\")\n",
        "punctuation.append(\"’\")\n",
        "print(punctuation)\n"
      ],
      "metadata": {
        "colab": {
          "base_uri": "https://localhost:8080/"
        },
        "id": "a_oN6H4jDiz7",
        "outputId": "a740c894-48c9-427a-a677-e9bf292faa0b"
      },
      "execution_count": 129,
      "outputs": [
        {
          "output_type": "stream",
          "name": "stdout",
          "text": [
            "['!', '\"', '#', '$', '%', '&', \"'\", '(', ')', '*', '+', ',', '-', '.', '/', ':', ';', '<', '=', '>', '?', '@', '[', '\\\\', ']', '^', '_', '`', '{', '|', '}', '~']\n"
          ]
        }
      ]
    },
    {
      "cell_type": "code",
      "source": [],
      "metadata": {
        "id": "SutJNGccH3CT"
      },
      "execution_count": 129,
      "outputs": []
    },
    {
      "cell_type": "code",
      "source": [
        "for token in tokens:\n",
        "  if token in punctuation:\n",
        "    tokens.remove(token)\n"
      ],
      "metadata": {
        "id": "chZRNpGJEKzt"
      },
      "execution_count": 130,
      "outputs": []
    },
    {
      "cell_type": "code",
      "source": [
        "len(tokens)"
      ],
      "metadata": {
        "colab": {
          "base_uri": "https://localhost:8080/"
        },
        "id": "EgOke5YcG7EN",
        "outputId": "ced8753e-bab0-4139-df27-37d0aab40519"
      },
      "execution_count": 131,
      "outputs": [
        {
          "output_type": "execute_result",
          "data": {
            "text/plain": [
              "2516"
            ]
          },
          "metadata": {},
          "execution_count": 131
        }
      ]
    },
    {
      "cell_type": "code",
      "source": [
        "print(tokens)"
      ],
      "metadata": {
        "colab": {
          "base_uri": "https://localhost:8080/"
        },
        "id": "MZ-9Zv9eEy0b",
        "outputId": "41355f36-1aef-4150-b0fd-2076e68e7d52"
      },
      "execution_count": 132,
      "outputs": [
        {
          "output_type": "stream",
          "name": "stdout",
          "text": [
            "['There', 'was', 'once', 'a', 'poor', 'widow', 'who', 'lived', 'in', 'a', 'lonely', 'cottage', 'In', 'front', 'of', 'the', 'cottage', 'was', 'a', 'garden', 'wherein', 'stood', 'two', 'rose-trees', 'one', 'of', 'which', 'bore', 'white', 'and', 'the', 'other', 'red', 'roses', 'She', 'had', 'two', 'children', 'who', 'were', 'like', 'the', 'two', 'rose-trees', 'and', 'one', 'was', 'called', 'Snow-white', 'and', 'the', 'other', 'Rose-red', 'They', 'were', 'as', 'good', 'and', 'happy', 'as', 'busy', 'and', 'cheerful', 'as', 'ever', 'two', 'children', 'in', 'the', 'world', 'were', 'only', 'Snow-white', 'was', 'more', 'quiet', 'and', 'gentle', 'than', 'Rose-red', 'Rose-red', 'liked', 'better', 'to', 'run', 'about', 'in', 'the', 'meadows', 'and', 'fields', 'seeking', 'flowers', 'and', 'catching', 'butterflies', 'but', 'Snow-white', 'sat', 'at', 'home', 'with', 'her', 'mother', 'and', 'helped', 'her', 'with', 'her', 'housework', 'or', 'read', 'to', 'her', 'when', 'there', 'was', 'nothing', 'to', 'do', 'The', 'two', 'children', 'were', 'so', 'fond', 'of', 'one', 'another', 'that', 'they', 'always', 'held', 'each', 'other', 'by', 'the', 'hand', 'when', 'they', 'went', 'out', 'together', 'and', 'when', 'Snow-white', 'said', '‘', 'We', 'will', 'not', 'leave', 'each', 'other', '’', 'Rose-red', 'answered', '‘', 'Never', 'so', 'long', 'as', 'we', 'live', '’', 'and', 'their', 'mother', 'would', 'add', '‘', 'What', 'one', 'has', 'she', 'must', 'share', 'with', 'the', 'other.', '’', 'They', 'often', 'ran', 'about', 'the', 'forest', 'alone', 'and', 'gathered', 'red', 'berries', 'and', 'no', 'beasts', 'did', 'them', 'any', 'harm', 'but', 'came', 'close', 'to', 'them', 'trustfully', 'The', 'little', 'hare', 'would', 'eat', 'a', 'cabbage-leaf', 'out', 'of', 'their', 'hands', 'the', 'roe', 'grazed', 'by', 'their', 'side', 'the', 'stag', 'leapt', 'merrily', 'by', 'them', 'and', 'the', 'birds', 'sat', 'still', 'upon', 'the', 'boughs', 'and', 'sang', 'whatever', 'they', 'knew', 'No', 'mishap', 'overtook', 'them', 'if', 'they', 'had', 'stayed', 'too', 'late', 'in', 'the', 'forest', 'and', 'night', 'came', 'on', 'they', 'laid', 'themselves', 'down', 'near', 'one', 'another', 'upon', 'the', 'moss', 'and', 'slept', 'until', 'morning', 'came', 'and', 'their', 'mother', 'knew', 'this', 'and', 'did', 'not', 'worry', 'on', 'their', 'account', 'Once', 'when', 'they', 'had', 'spent', 'the', 'night', 'in', 'the', 'wood', 'and', 'the', 'dawn', 'had', 'roused', 'them', 'they', 'saw', 'a', 'beautiful', 'child', 'in', 'a', 'shining', 'white', 'dress', 'sitting', 'near', 'their', 'bed', 'He', 'got', 'up', 'and', 'looked', 'quite', 'kindly', 'at', 'them', 'but', 'said', 'nothing', 'and', 'went', 'into', 'the', 'forest', 'And', 'when', 'they', 'looked', 'round', 'they', 'found', 'that', 'they', 'had', 'been', 'sleeping', 'quite', 'close', 'to', 'a', 'precipice', 'and', 'would', 'certainly', 'have', 'fallen', 'into', 'it', 'in', 'the', 'darkness', 'if', 'they', 'had', 'gone', 'only', 'a', 'few', 'paces', 'further', 'And', 'their', 'mother', 'told', 'them', 'that', 'it', 'must', 'have', 'been', 'the', 'angel', 'who', 'watches', 'over', 'good', 'children', 'Snow-white', 'and', 'Rose-red', 'kept', 'their', 'mother', '’', 's', 'little', 'cottage', 'so', 'neat', 'that', 'it', 'was', 'a', 'pleasure', 'to', 'look', 'inside', 'it', 'In', 'the', 'summer', 'Rose-red', 'took', 'care', 'of', 'the', 'house', 'and', 'every', 'morning', 'laid', 'a', 'wreath', 'of', 'flowers', 'by', 'her', 'mother', '’', 's', 'bed', 'before', 'she', 'awoke', 'in', 'which', 'was', 'a', 'rose', 'from', 'each', 'tree', 'In', 'the', 'winter', 'Snow-white', 'lit', 'the', 'fire', 'and', 'hung', 'the', 'kettle', 'on', 'the', 'hob', 'The', 'kettle', 'was', 'of', 'brass', 'and', 'shone', 'like', 'gold', 'so', 'brightly', 'was', 'it', 'polished', 'In', 'the', 'evening', 'when', 'the', 'snowflakes', 'fell', 'the', 'mother', 'said', '‘', 'Go', 'Snow-white', 'and', 'bolt', 'the', 'door', '’', 'and', 'then', 'they', 'sat', 'round', 'the', 'hearth', 'and', 'the', 'mother', 'took', 'her', 'spectacles', 'and', 'read', 'aloud', 'out', 'of', 'a', 'large', 'book', 'and', 'the', 'two', 'girls', 'listened', 'as', 'they', 'sat', 'and', 'spun', 'And', 'close', 'by', 'them', 'lay', 'a', 'lamb', 'upon', 'the', 'floor', 'and', 'behind', 'them', 'upon', 'a', 'perch', 'sat', 'a', 'white', 'dove', 'with', 'its', 'head', 'hidden', 'beneath', 'its', 'wings', 'One', 'evening', 'as', 'they', 'were', 'thus', 'sitting', 'comfortably', 'together', 'someone', 'knocked', 'at', 'the', 'door', 'as', 'if', 'he', 'wished', 'to', 'be', 'let', 'in', 'The', 'mother', 'said', '‘', 'Quick', 'Rose-red', 'open', 'the', 'door', 'it', 'must', 'be', 'a', 'traveller', 'who', 'is', 'seeking', 'shelter.', '’', 'Rose-red', 'went', 'and', 'pushed', 'back', 'the', 'bolt', 'thinking', 'that', 'it', 'was', 'a', 'poor', 'man', 'but', 'it', 'was', 'not', 'it', 'was', 'a', 'bear', 'that', 'stretched', 'his', 'broad', 'black', 'head', 'within', 'the', 'door', 'Rose-red', 'screamed', 'and', 'sprang', 'back', 'the', 'lamb', 'bleated', 'the', 'dove', 'fluttered', 'and', 'Snow-white', 'hid', 'herself', 'behind', 'her', 'mother', '’', 's', 'bed', 'But', 'the', 'bear', 'began', 'to', 'speak', 'and', 'said', '‘', 'Do', 'not', 'be', 'afraid', 'I', 'will', 'do', 'you', 'no', 'harm', 'I', 'am', 'half-frozen', 'and', 'only', 'want', 'to', 'warm', 'myself', 'a', 'little', 'beside', 'you.', '’', '‘', 'Poor', 'bear', '’', 'said', 'the', 'mother', '‘', 'lie', 'down', 'by', 'the', 'fire', 'only', 'take', 'care', 'that', 'you', 'do', 'not', 'burn', 'your', 'coat.', '’', 'Then', 'she', 'cried', '‘', 'Snow-white', 'Rose-red', 'come', 'out', 'the', 'bear', 'will', 'do', 'you', 'no', 'harm', 'he', 'means', 'well.', '’', 'So', 'they', 'both', 'came', 'out', 'and', 'by-and-by', 'the', 'lamb', 'and', 'dove', 'came', 'nearer', 'and', 'were', 'not', 'afraid', 'of', 'him', 'The', 'bear', 'said', '‘', 'Here', 'children', 'knock', 'the', 'snow', 'out', 'of', 'my', 'coat', 'a', 'little', '’', 'so', 'they', 'brought', 'the', 'broom', 'and', 'swept', 'the', 'bear', '’', 's', 'hide', 'clean', 'and', 'he', 'stretched', 'himself', 'by', 'the', 'fire', 'and', 'growled', 'contentedly', 'and', 'comfortably', 'It', 'was', 'not', 'long', 'before', 'they', 'grew', 'quite', 'at', 'home', 'and', 'played', 'tricks', 'with', 'their', 'clumsy', 'guest', 'They', 'tugged', 'his', 'hair', 'with', 'their', 'hands', 'put', 'their', 'feet', 'upon', 'his', 'back', 'and', 'rolled', 'him', 'about', 'or', 'they', 'took', 'a', 'hazel-switch', 'and', 'beat', 'him', 'and', 'when', 'he', 'growled', 'they', 'laughed', 'But', 'the', 'bear', 'took', 'it', 'all', 'in', 'good', 'part', 'only', 'when', 'they', 'were', 'too', 'rough', 'he', 'called', 'out', '‘', 'Leave', 'me', 'alive', 'children', 'Snow-white', 'Rose-red', 'Will', 'you', 'beat', 'your', 'wooer', 'dead', '’', 'When', 'it', 'was', 'bed-time', 'and', 'the', 'others', 'went', 'to', 'bed', 'the', 'mother', 'said', 'to', 'the', 'bear', '‘', 'You', 'can', 'lie', 'there', 'by', 'the', 'hearth', 'and', 'then', 'you', 'will', 'be', 'safe', 'from', 'the', 'cold', 'and', 'the', 'bad', 'weather.', '’', 'As', 'soon', 'as', 'day', 'dawned', 'the', 'two', 'children', 'let', 'him', 'out', 'and', 'he', 'trotted', 'across', 'the', 'snow', 'into', 'the', 'forest', 'Henceforth', 'the', 'bear', 'came', 'every', 'evening', 'at', 'the', 'same', 'time', 'laid', 'himself', 'down', 'by', 'the', 'hearth', 'and', 'let', 'the', 'children', 'amuse', 'themselves', 'with', 'him', 'as', 'much', 'as', 'they', 'liked', 'and', 'they', 'got', 'so', 'used', 'to', 'him', 'that', 'the', 'doors', 'were', 'never', 'fastened', 'until', 'their', 'black', 'friend', 'had', 'arrived', 'When', 'spring', 'had', 'come', 'and', 'all', 'outside', 'was', 'green', 'the', 'bear', 'said', 'one', 'morning', 'to', 'Snow-white', '‘', 'Now', 'I', 'must', 'go', 'away', 'and', 'can', 'not', 'come', 'back', 'for', 'the', 'whole', 'summer.', '’', '‘', 'Where', 'are', 'you', 'going', 'then', 'dear', 'bear', '’', 'asked', 'Snow-white', '‘', 'I', 'must', 'go', 'into', 'the', 'forest', 'and', 'guard', 'my', 'treasures', 'from', 'the', 'wicked', 'dwarfs', 'In', 'the', 'winter', 'when', 'the', 'earth', 'is', 'frozen', 'hard', 'they', 'are', 'obliged', 'to', 'stay', 'below', 'and', 'can', 'not', 'work', 'their', 'way', 'through', 'but', 'now', 'when', 'the', 'sun', 'has', 'thawed', 'and', 'warmed', 'the', 'earth', 'they', 'break', 'through', 'it', 'and', 'come', 'out', 'to', 'pry', 'and', 'steal', 'and', 'what', 'once', 'gets', 'into', 'their', 'hands', 'and', 'in', 'their', 'caves', 'does', 'not', 'easily', 'see', 'daylight', 'again.', '’', 'Snow-white', 'was', 'quite', 'sorry', 'at', 'his', 'departure', 'and', 'as', 'she', 'unbolted', 'the', 'door', 'for', 'him', 'and', 'the', 'bear', 'was', 'hurrying', 'out', 'he', 'caught', 'against', 'the', 'bolt', 'and', 'a', 'piece', 'of', 'his', 'hairy', 'coat', 'was', 'torn', 'off', 'and', 'it', 'seemed', 'to', 'Snow-white', 'as', 'if', 'she', 'had', 'seen', 'gold', 'shining', 'through', 'it', 'but', 'she', 'was', 'not', 'sure', 'about', 'it', 'The', 'bear', 'ran', 'away', 'quickly', 'and', 'was', 'soon', 'out', 'of', 'sight', 'behind', 'the', 'trees', 'A', 'short', 'time', 'afterwards', 'the', 'mother', 'sent', 'her', 'children', 'into', 'the', 'forest', 'to', 'get', 'firewood', 'There', 'they', 'found', 'a', 'big', 'tree', 'which', 'lay', 'felled', 'on', 'the', 'ground', 'and', 'close', 'by', 'the', 'trunk', 'something', 'was', 'jumping', 'backwards', 'and', 'forwards', 'in', 'the', 'grass', 'but', 'they', 'could', 'not', 'make', 'out', 'what', 'it', 'was', 'When', 'they', 'came', 'nearer', 'they', 'saw', 'a', 'dwarf', 'with', 'an', 'old', 'withered', 'face', 'and', 'a', 'snow-white', 'beard', 'a', 'yard', 'long', 'The', 'end', 'of', 'the', 'beard', 'was', 'caught', 'in', 'a', 'crevice', 'of', 'the', 'tree', 'and', 'the', 'little', 'fellow', 'was', 'jumping', 'about', 'like', 'a', 'dog', 'tied', 'to', 'a', 'rope', 'and', 'did', 'not', 'know', 'what', 'to', 'do', 'He', 'glared', 'at', 'the', 'girls', 'with', 'his', 'fiery', 'red', 'eyes', 'and', 'cried', '‘', 'Why', 'do', 'you', 'stand', 'there', 'Can', 'you', 'not', 'come', 'here', 'and', 'help', 'me', '’', '‘', 'What', 'are', 'you', 'up', 'to', 'little', 'man', '’', 'asked', 'Rose-red', '‘', 'You', 'stupid', 'prying', 'goose', '’', 'answered', 'the', 'dwarf', '‘', 'I', 'was', 'going', 'to', 'split', 'the', 'tree', 'to', 'get', 'a', 'little', 'wood', 'for', 'cooking', 'The', 'little', 'bit', 'of', 'food', 'that', 'we', 'people', 'get', 'is', 'immediately', 'burnt', 'up', 'with', 'heavy', 'logs', 'we', 'do', 'not', 'swallow', 'so', 'much', 'as', 'you', 'coarse', 'greedy', 'folk', 'I', 'had', 'just', 'driven', 'the', 'wedge', 'safely', 'in', 'and', 'everything', 'was', 'going', 'as', 'I', 'wished', 'but', 'the', 'cursed', 'wedge', 'was', 'too', 'smooth', 'and', 'suddenly', 'sprang', 'out', 'and', 'the', 'tree', 'closed', 'so', 'quickly', 'that', 'I', 'could', 'not', 'pull', 'out', 'my', 'beautiful', 'white', 'beard', 'so', 'now', 'it', 'is', 'tight', 'and', 'I', 'can', 'not', 'get', 'away', 'and', 'the', 'silly', 'sleek', 'milk-faced', 'things', 'laugh', 'Ugh', 'how', 'odious', 'you', 'are', '’', 'The', 'children', 'tried', 'very', 'hard', 'but', 'they', 'could', 'not', 'pull', 'the', 'beard', 'out', 'it', 'was', 'caught', 'too', 'fast', '‘', 'I', 'will', 'run', 'and', 'fetch', 'someone', '’', 'said', 'Rose-red', '‘', 'You', 'senseless', 'goose', '’', 'snarled', 'the', 'dwarf', '‘', 'why', 'should', 'you', 'fetch', 'someone', 'You', 'are', 'already', 'two', 'too', 'many', 'for', 'me', 'can', 'you', 'not', 'think', 'of', 'something', 'better', '’', '‘', 'Don', '’', 't', 'be', 'impatient', '’', 'said', 'Snow-white', '‘', 'I', 'will', 'help', 'you', '’', 'and', 'she', 'pulled', 'her', 'scissors', 'out', 'of', 'her', 'pocket', 'and', 'cut', 'off', 'the', 'end', 'of', 'the', 'beard', 'As', 'soon', 'as', 'the', 'dwarf', 'felt', 'himself', 'free', 'he', 'laid', 'hold', 'of', 'a', 'bag', 'which', 'lay', 'amongst', 'the', 'roots', 'of', 'the', 'tree', 'and', 'which', 'was', 'full', 'of', 'gold', 'and', 'lifted', 'it', 'up', 'grumbling', 'to', 'himself', '‘', 'Uncouth', 'people', 'to', 'cut', 'off', 'a', 'piece', 'of', 'my', 'fine', 'beard', 'Bad', 'luck', 'to', 'you', '’', 'and', 'then', 'he', 'swung', 'the', 'bag', 'upon', 'his', 'back', 'and', 'went', 'off', 'without', 'even', 'once', 'looking', 'at', 'the', 'children', 'Some', 'time', 'afterwards', 'Snow-white', 'and', 'Rose-red', 'went', 'to', 'catch', 'a', 'dish', 'of', 'fish', 'As', 'they', 'came', 'near', 'the', 'brook', 'they', 'saw', 'something', 'like', 'a', 'large', 'grasshopper', 'jumping', 'towards', 'the', 'water', 'as', 'if', 'it', 'were', 'going', 'to', 'leap', 'in', 'They', 'ran', 'to', 'it', 'and', 'found', 'it', 'was', 'the', 'dwarf', '‘', 'Where', 'are', 'you', 'going', '’', 'said', 'Rose-red', '‘', 'you', 'surely', 'don', '’', 't', 'want', 'to', 'go', 'into', 'the', 'water', '’', '‘', 'I', 'am', 'not', 'such', 'a', 'fool', '’', 'cried', 'the', 'dwarf', '‘', 'don', '’', 't', 'you', 'see', 'that', 'the', 'accursed', 'fish', 'wants', 'to', 'pull', 'me', 'in', '’', 'The', 'little', 'man', 'had', 'been', 'sitting', 'there', 'fishing', 'and', 'unluckily', 'the', 'wind', 'had', 'tangled', 'up', 'his', 'beard', 'with', 'the', 'fishing-line', 'a', 'moment', 'later', 'a', 'big', 'fish', 'made', 'a', 'bite', 'and', 'the', 'feeble', 'creature', 'had', 'not', 'strength', 'to', 'pull', 'it', 'out', 'the', 'fish', 'kept', 'the', 'upper', 'hand', 'and', 'pulled', 'the', 'dwarf', 'towards', 'him', 'He', 'held', 'on', 'to', 'all', 'the', 'reeds', 'and', 'rushes', 'but', 'it', 'was', 'of', 'little', 'good', 'for', 'he', 'was', 'forced', 'to', 'follow', 'the', 'movements', 'of', 'the', 'fish', 'and', 'was', 'in', 'urgent', 'danger', 'of', 'being', 'dragged', 'into', 'the', 'water', 'The', 'girls', 'came', 'just', 'in', 'time', 'they', 'held', 'him', 'fast', 'and', 'tried', 'to', 'free', 'his', 'beard', 'from', 'the', 'line', 'but', 'all', 'in', 'vain', 'beard', 'and', 'line', 'were', 'entangled', 'fast', 'together', 'There', 'was', 'nothing', 'to', 'do', 'but', 'to', 'bring', 'out', 'the', 'scissors', 'and', 'cut', 'the', 'beard', 'whereby', 'a', 'small', 'part', 'of', 'it', 'was', 'lost', 'When', 'the', 'dwarf', 'saw', 'that', 'he', 'screamed', 'out', '‘', 'Is', 'that', 'civil', 'you', 'toadstool', 'to', 'disfigure', 'a', 'man', '’', 's', 'face', 'Was', 'it', 'not', 'enough', 'to', 'clip', 'off', 'the', 'end', 'of', 'my', 'beard', 'Now', 'you', 'have', 'cut', 'off', 'the', 'best', 'part', 'of', 'it', 'I', 'can', 'not', 'let', 'myself', 'be', 'seen', 'by', 'my', 'people', 'I', 'wish', 'you', 'had', 'been', 'made', 'to', 'run', 'the', 'soles', 'off', 'your', 'shoes', '’', 'Then', 'he', 'took', 'out', 'a', 'sack', 'of', 'pearls', 'which', 'lay', 'in', 'the', 'rushes', 'and', 'without', 'another', 'word', 'he', 'dragged', 'it', 'away', 'and', 'disappeared', 'behind', 'a', 'stone', 'It', 'happened', 'that', 'soon', 'afterwards', 'the', 'mother', 'sent', 'the', 'two', 'children', 'to', 'the', 'town', 'to', 'buy', 'needles', 'and', 'thread', 'and', 'laces', 'and', 'ribbons', 'The', 'road', 'led', 'them', 'across', 'a', 'heath', 'upon', 'which', 'huge', 'pieces', 'of', 'rock', 'lay', 'strewn', 'about', 'There', 'they', 'noticed', 'a', 'large', 'bird', 'hovering', 'in', 'the', 'air', 'flying', 'slowly', 'round', 'and', 'round', 'above', 'them', 'it', 'sank', 'lower', 'and', 'lower', 'and', 'at', 'last', 'settled', 'near', 'a', 'rock', 'not', 'far', 'away', 'Immediately', 'they', 'heard', 'a', 'loud', 'piteous', 'cry', 'They', 'ran', 'up', 'and', 'saw', 'with', 'horror', 'that', 'the', 'eagle', 'had', 'seized', 'their', 'old', 'acquaintance', 'the', 'dwarf', 'and', 'was', 'going', 'to', 'carry', 'him', 'off', 'The', 'children', 'full', 'of', 'pity', 'at', 'once', 'took', 'tight', 'hold', 'of', 'the', 'little', 'man', 'and', 'pulled', 'against', 'the', 'eagle', 'so', 'long', 'that', 'at', 'last', 'he', 'let', 'his', 'booty', 'go', 'As', 'soon', 'as', 'the', 'dwarf', 'had', 'recovered', 'from', 'his', 'first', 'fright', 'he', 'cried', 'with', 'his', 'shrill', 'voice', '‘', 'Could', 'you', 'not', 'have', 'done', 'it', 'more', 'carefully', 'You', 'dragged', 'at', 'my', 'brown', 'coat', 'so', 'that', 'it', 'is', 'all', 'torn', 'and', 'full', 'of', 'holes', 'you', 'clumsy', 'creatures', '’', 'Then', 'he', 'took', 'up', 'a', 'sack', 'full', 'of', 'precious', 'stones', 'and', 'slipped', 'away', 'again', 'under', 'the', 'rock', 'into', 'his', 'hole', 'The', 'girls', 'who', 'by', 'this', 'time', 'were', 'used', 'to', 'his', 'ingratitude', 'went', 'on', 'their', 'way', 'and', 'did', 'their', 'business', 'in', 'town', 'As', 'they', 'crossed', 'the', 'heath', 'again', 'on', 'their', 'way', 'home', 'they', 'surprised', 'the', 'dwarf', 'who', 'had', 'emptied', 'out', 'his', 'bag', 'of', 'precious', 'stones', 'in', 'a', 'clean', 'spot', 'and', 'had', 'not', 'thought', 'that', 'anyone', 'would', 'come', 'there', 'so', 'late', 'The', 'evening', 'sun', 'shone', 'upon', 'the', 'brilliant', 'stones', 'they', 'glittered', 'and', 'sparkled', 'with', 'all', 'colours', 'so', 'beautifully', 'that', 'the', 'children', 'stood', 'still', 'and', 'stared', 'at', 'them', '‘', 'Why', 'do', 'you', 'stand', 'gaping', 'there', '’', 'cried', 'the', 'dwarf', 'and', 'his', 'ashen-grey', 'face', 'became', 'copper-red', 'with', 'rage', 'He', 'was', 'still', 'cursing', 'when', 'a', 'loud', 'growling', 'was', 'heard', 'and', 'a', 'black', 'bear', 'came', 'trotting', 'towards', 'them', 'out', 'of', 'the', 'forest', 'The', 'dwarf', 'sprang', 'up', 'in', 'a', 'fright', 'but', 'he', 'could', 'not', 'reach', 'his', 'cave', 'for', 'the', 'bear', 'was', 'already', 'close', 'Then', 'in', 'the', 'dread', 'of', 'his', 'heart', 'he', 'cried', '‘', 'Dear', 'Mr', 'Bear', 'spare', 'me', 'I', 'will', 'give', 'you', 'all', 'my', 'treasures', 'look', 'the', 'beautiful', 'jewels', 'lying', 'there', 'Grant', 'me', 'my', 'life', 'what', 'do', 'you', 'want', 'with', 'such', 'a', 'slender', 'little', 'fellow', 'as', 'I', 'you', 'would', 'not', 'feel', 'me', 'between', 'your', 'teeth', 'Come', 'take', 'these', 'two', 'wicked', 'girls', 'they', 'are', 'tender', 'morsels', 'for', 'you', 'fat', 'as', 'young', 'quails', 'for', 'mercy', '’', 's', 'sake', 'eat', 'them', '’', 'The', 'bear', 'took', 'no', 'heed', 'of', 'his', 'words', 'but', 'gave', 'the', 'wicked', 'creature', 'a', 'single', 'blow', 'with', 'his', 'paw', 'and', 'he', 'did', 'not', 'move', 'again', 'The', 'girls', 'had', 'run', 'away', 'but', 'the', 'bear', 'called', 'to', 'them', '‘', 'Snow-white', 'and', 'Rose-red', 'do', 'not', 'be', 'afraid', 'wait', 'I', 'will', 'come', 'with', 'you.', '’', 'Then', 'they', 'recognized', 'his', 'voice', 'and', 'waited', 'and', 'when', 'he', 'came', 'up', 'to', 'them', 'suddenly', 'his', 'bearskin', 'fell', 'off', 'and', 'he', 'stood', 'there', 'a', 'handsome', 'man', 'clothed', 'all', 'in', 'gold', '‘', 'I', 'am', 'a', 'king', '’', 's', 'son', '’', 'he', 'said', '‘', 'and', 'I', 'was', 'bewitched', 'by', 'that', 'wicked', 'dwarf', 'who', 'had', 'stolen', 'my', 'treasures', 'I', 'have', 'had', 'to', 'run', 'about', 'the', 'forest', 'as', 'a', 'savage', 'bear', 'until', 'I', 'was', 'freed', 'by', 'his', 'death', 'Now', 'he', 'has', 'got', 'his', 'well-deserved', 'punishment', 'Snow-white', 'was', 'married', 'to', 'him', 'and', 'Rose-red', 'to', 'his', 'brother', 'and', 'they', 'divided', 'between', 'them', 'the', 'great', 'treasure', 'which', 'the', 'dwarf', 'had', 'gathered', 'together', 'in', 'his', 'cave', 'The', 'old', 'mother', 'lived', 'peacefully', 'and', 'happily', 'with', 'her', 'children', 'for', 'many', 'years', 'She', 'took', 'the', 'two', 'rose-trees', 'with', 'her', 'and', 'they', 'stood', 'before', 'her', 'window', 'and', 'every', 'year', 'bore', 'the', 'most', 'beautiful', 'roses', 'white', 'and', 'red']\n"
          ]
        }
      ]
    },
    {
      "cell_type": "code",
      "source": [
        "# Manually removing remaining curly quotes from the tokens list\n",
        "\n",
        "tokens = [token for token in tokens if token != '‘']\n",
        "tokens = [token for token in tokens if token != '’']"
      ],
      "metadata": {
        "id": "orwTwEzbH5uD"
      },
      "execution_count": 133,
      "outputs": []
    },
    {
      "cell_type": "code",
      "source": [
        "#Make all lowercase\n",
        "\n",
        "tokens = [token.lower() for token in tokens]\n",
        "print(tokens)"
      ],
      "metadata": {
        "colab": {
          "base_uri": "https://localhost:8080/"
        },
        "id": "F4ueIe8OFHR0",
        "outputId": "3896fd98-8fcb-4990-e633-979c6843c144"
      },
      "execution_count": 134,
      "outputs": [
        {
          "output_type": "stream",
          "name": "stdout",
          "text": [
            "['there', 'was', 'once', 'a', 'poor', 'widow', 'who', 'lived', 'in', 'a', 'lonely', 'cottage', 'in', 'front', 'of', 'the', 'cottage', 'was', 'a', 'garden', 'wherein', 'stood', 'two', 'rose-trees', 'one', 'of', 'which', 'bore', 'white', 'and', 'the', 'other', 'red', 'roses', 'she', 'had', 'two', 'children', 'who', 'were', 'like', 'the', 'two', 'rose-trees', 'and', 'one', 'was', 'called', 'snow-white', 'and', 'the', 'other', 'rose-red', 'they', 'were', 'as', 'good', 'and', 'happy', 'as', 'busy', 'and', 'cheerful', 'as', 'ever', 'two', 'children', 'in', 'the', 'world', 'were', 'only', 'snow-white', 'was', 'more', 'quiet', 'and', 'gentle', 'than', 'rose-red', 'rose-red', 'liked', 'better', 'to', 'run', 'about', 'in', 'the', 'meadows', 'and', 'fields', 'seeking', 'flowers', 'and', 'catching', 'butterflies', 'but', 'snow-white', 'sat', 'at', 'home', 'with', 'her', 'mother', 'and', 'helped', 'her', 'with', 'her', 'housework', 'or', 'read', 'to', 'her', 'when', 'there', 'was', 'nothing', 'to', 'do', 'the', 'two', 'children', 'were', 'so', 'fond', 'of', 'one', 'another', 'that', 'they', 'always', 'held', 'each', 'other', 'by', 'the', 'hand', 'when', 'they', 'went', 'out', 'together', 'and', 'when', 'snow-white', 'said', 'we', 'will', 'not', 'leave', 'each', 'other', 'rose-red', 'answered', 'never', 'so', 'long', 'as', 'we', 'live', 'and', 'their', 'mother', 'would', 'add', 'what', 'one', 'has', 'she', 'must', 'share', 'with', 'the', 'other.', 'they', 'often', 'ran', 'about', 'the', 'forest', 'alone', 'and', 'gathered', 'red', 'berries', 'and', 'no', 'beasts', 'did', 'them', 'any', 'harm', 'but', 'came', 'close', 'to', 'them', 'trustfully', 'the', 'little', 'hare', 'would', 'eat', 'a', 'cabbage-leaf', 'out', 'of', 'their', 'hands', 'the', 'roe', 'grazed', 'by', 'their', 'side', 'the', 'stag', 'leapt', 'merrily', 'by', 'them', 'and', 'the', 'birds', 'sat', 'still', 'upon', 'the', 'boughs', 'and', 'sang', 'whatever', 'they', 'knew', 'no', 'mishap', 'overtook', 'them', 'if', 'they', 'had', 'stayed', 'too', 'late', 'in', 'the', 'forest', 'and', 'night', 'came', 'on', 'they', 'laid', 'themselves', 'down', 'near', 'one', 'another', 'upon', 'the', 'moss', 'and', 'slept', 'until', 'morning', 'came', 'and', 'their', 'mother', 'knew', 'this', 'and', 'did', 'not', 'worry', 'on', 'their', 'account', 'once', 'when', 'they', 'had', 'spent', 'the', 'night', 'in', 'the', 'wood', 'and', 'the', 'dawn', 'had', 'roused', 'them', 'they', 'saw', 'a', 'beautiful', 'child', 'in', 'a', 'shining', 'white', 'dress', 'sitting', 'near', 'their', 'bed', 'he', 'got', 'up', 'and', 'looked', 'quite', 'kindly', 'at', 'them', 'but', 'said', 'nothing', 'and', 'went', 'into', 'the', 'forest', 'and', 'when', 'they', 'looked', 'round', 'they', 'found', 'that', 'they', 'had', 'been', 'sleeping', 'quite', 'close', 'to', 'a', 'precipice', 'and', 'would', 'certainly', 'have', 'fallen', 'into', 'it', 'in', 'the', 'darkness', 'if', 'they', 'had', 'gone', 'only', 'a', 'few', 'paces', 'further', 'and', 'their', 'mother', 'told', 'them', 'that', 'it', 'must', 'have', 'been', 'the', 'angel', 'who', 'watches', 'over', 'good', 'children', 'snow-white', 'and', 'rose-red', 'kept', 'their', 'mother', 's', 'little', 'cottage', 'so', 'neat', 'that', 'it', 'was', 'a', 'pleasure', 'to', 'look', 'inside', 'it', 'in', 'the', 'summer', 'rose-red', 'took', 'care', 'of', 'the', 'house', 'and', 'every', 'morning', 'laid', 'a', 'wreath', 'of', 'flowers', 'by', 'her', 'mother', 's', 'bed', 'before', 'she', 'awoke', 'in', 'which', 'was', 'a', 'rose', 'from', 'each', 'tree', 'in', 'the', 'winter', 'snow-white', 'lit', 'the', 'fire', 'and', 'hung', 'the', 'kettle', 'on', 'the', 'hob', 'the', 'kettle', 'was', 'of', 'brass', 'and', 'shone', 'like', 'gold', 'so', 'brightly', 'was', 'it', 'polished', 'in', 'the', 'evening', 'when', 'the', 'snowflakes', 'fell', 'the', 'mother', 'said', 'go', 'snow-white', 'and', 'bolt', 'the', 'door', 'and', 'then', 'they', 'sat', 'round', 'the', 'hearth', 'and', 'the', 'mother', 'took', 'her', 'spectacles', 'and', 'read', 'aloud', 'out', 'of', 'a', 'large', 'book', 'and', 'the', 'two', 'girls', 'listened', 'as', 'they', 'sat', 'and', 'spun', 'and', 'close', 'by', 'them', 'lay', 'a', 'lamb', 'upon', 'the', 'floor', 'and', 'behind', 'them', 'upon', 'a', 'perch', 'sat', 'a', 'white', 'dove', 'with', 'its', 'head', 'hidden', 'beneath', 'its', 'wings', 'one', 'evening', 'as', 'they', 'were', 'thus', 'sitting', 'comfortably', 'together', 'someone', 'knocked', 'at', 'the', 'door', 'as', 'if', 'he', 'wished', 'to', 'be', 'let', 'in', 'the', 'mother', 'said', 'quick', 'rose-red', 'open', 'the', 'door', 'it', 'must', 'be', 'a', 'traveller', 'who', 'is', 'seeking', 'shelter.', 'rose-red', 'went', 'and', 'pushed', 'back', 'the', 'bolt', 'thinking', 'that', 'it', 'was', 'a', 'poor', 'man', 'but', 'it', 'was', 'not', 'it', 'was', 'a', 'bear', 'that', 'stretched', 'his', 'broad', 'black', 'head', 'within', 'the', 'door', 'rose-red', 'screamed', 'and', 'sprang', 'back', 'the', 'lamb', 'bleated', 'the', 'dove', 'fluttered', 'and', 'snow-white', 'hid', 'herself', 'behind', 'her', 'mother', 's', 'bed', 'but', 'the', 'bear', 'began', 'to', 'speak', 'and', 'said', 'do', 'not', 'be', 'afraid', 'i', 'will', 'do', 'you', 'no', 'harm', 'i', 'am', 'half-frozen', 'and', 'only', 'want', 'to', 'warm', 'myself', 'a', 'little', 'beside', 'you.', 'poor', 'bear', 'said', 'the', 'mother', 'lie', 'down', 'by', 'the', 'fire', 'only', 'take', 'care', 'that', 'you', 'do', 'not', 'burn', 'your', 'coat.', 'then', 'she', 'cried', 'snow-white', 'rose-red', 'come', 'out', 'the', 'bear', 'will', 'do', 'you', 'no', 'harm', 'he', 'means', 'well.', 'so', 'they', 'both', 'came', 'out', 'and', 'by-and-by', 'the', 'lamb', 'and', 'dove', 'came', 'nearer', 'and', 'were', 'not', 'afraid', 'of', 'him', 'the', 'bear', 'said', 'here', 'children', 'knock', 'the', 'snow', 'out', 'of', 'my', 'coat', 'a', 'little', 'so', 'they', 'brought', 'the', 'broom', 'and', 'swept', 'the', 'bear', 's', 'hide', 'clean', 'and', 'he', 'stretched', 'himself', 'by', 'the', 'fire', 'and', 'growled', 'contentedly', 'and', 'comfortably', 'it', 'was', 'not', 'long', 'before', 'they', 'grew', 'quite', 'at', 'home', 'and', 'played', 'tricks', 'with', 'their', 'clumsy', 'guest', 'they', 'tugged', 'his', 'hair', 'with', 'their', 'hands', 'put', 'their', 'feet', 'upon', 'his', 'back', 'and', 'rolled', 'him', 'about', 'or', 'they', 'took', 'a', 'hazel-switch', 'and', 'beat', 'him', 'and', 'when', 'he', 'growled', 'they', 'laughed', 'but', 'the', 'bear', 'took', 'it', 'all', 'in', 'good', 'part', 'only', 'when', 'they', 'were', 'too', 'rough', 'he', 'called', 'out', 'leave', 'me', 'alive', 'children', 'snow-white', 'rose-red', 'will', 'you', 'beat', 'your', 'wooer', 'dead', 'when', 'it', 'was', 'bed-time', 'and', 'the', 'others', 'went', 'to', 'bed', 'the', 'mother', 'said', 'to', 'the', 'bear', 'you', 'can', 'lie', 'there', 'by', 'the', 'hearth', 'and', 'then', 'you', 'will', 'be', 'safe', 'from', 'the', 'cold', 'and', 'the', 'bad', 'weather.', 'as', 'soon', 'as', 'day', 'dawned', 'the', 'two', 'children', 'let', 'him', 'out', 'and', 'he', 'trotted', 'across', 'the', 'snow', 'into', 'the', 'forest', 'henceforth', 'the', 'bear', 'came', 'every', 'evening', 'at', 'the', 'same', 'time', 'laid', 'himself', 'down', 'by', 'the', 'hearth', 'and', 'let', 'the', 'children', 'amuse', 'themselves', 'with', 'him', 'as', 'much', 'as', 'they', 'liked', 'and', 'they', 'got', 'so', 'used', 'to', 'him', 'that', 'the', 'doors', 'were', 'never', 'fastened', 'until', 'their', 'black', 'friend', 'had', 'arrived', 'when', 'spring', 'had', 'come', 'and', 'all', 'outside', 'was', 'green', 'the', 'bear', 'said', 'one', 'morning', 'to', 'snow-white', 'now', 'i', 'must', 'go', 'away', 'and', 'can', 'not', 'come', 'back', 'for', 'the', 'whole', 'summer.', 'where', 'are', 'you', 'going', 'then', 'dear', 'bear', 'asked', 'snow-white', 'i', 'must', 'go', 'into', 'the', 'forest', 'and', 'guard', 'my', 'treasures', 'from', 'the', 'wicked', 'dwarfs', 'in', 'the', 'winter', 'when', 'the', 'earth', 'is', 'frozen', 'hard', 'they', 'are', 'obliged', 'to', 'stay', 'below', 'and', 'can', 'not', 'work', 'their', 'way', 'through', 'but', 'now', 'when', 'the', 'sun', 'has', 'thawed', 'and', 'warmed', 'the', 'earth', 'they', 'break', 'through', 'it', 'and', 'come', 'out', 'to', 'pry', 'and', 'steal', 'and', 'what', 'once', 'gets', 'into', 'their', 'hands', 'and', 'in', 'their', 'caves', 'does', 'not', 'easily', 'see', 'daylight', 'again.', 'snow-white', 'was', 'quite', 'sorry', 'at', 'his', 'departure', 'and', 'as', 'she', 'unbolted', 'the', 'door', 'for', 'him', 'and', 'the', 'bear', 'was', 'hurrying', 'out', 'he', 'caught', 'against', 'the', 'bolt', 'and', 'a', 'piece', 'of', 'his', 'hairy', 'coat', 'was', 'torn', 'off', 'and', 'it', 'seemed', 'to', 'snow-white', 'as', 'if', 'she', 'had', 'seen', 'gold', 'shining', 'through', 'it', 'but', 'she', 'was', 'not', 'sure', 'about', 'it', 'the', 'bear', 'ran', 'away', 'quickly', 'and', 'was', 'soon', 'out', 'of', 'sight', 'behind', 'the', 'trees', 'a', 'short', 'time', 'afterwards', 'the', 'mother', 'sent', 'her', 'children', 'into', 'the', 'forest', 'to', 'get', 'firewood', 'there', 'they', 'found', 'a', 'big', 'tree', 'which', 'lay', 'felled', 'on', 'the', 'ground', 'and', 'close', 'by', 'the', 'trunk', 'something', 'was', 'jumping', 'backwards', 'and', 'forwards', 'in', 'the', 'grass', 'but', 'they', 'could', 'not', 'make', 'out', 'what', 'it', 'was', 'when', 'they', 'came', 'nearer', 'they', 'saw', 'a', 'dwarf', 'with', 'an', 'old', 'withered', 'face', 'and', 'a', 'snow-white', 'beard', 'a', 'yard', 'long', 'the', 'end', 'of', 'the', 'beard', 'was', 'caught', 'in', 'a', 'crevice', 'of', 'the', 'tree', 'and', 'the', 'little', 'fellow', 'was', 'jumping', 'about', 'like', 'a', 'dog', 'tied', 'to', 'a', 'rope', 'and', 'did', 'not', 'know', 'what', 'to', 'do', 'he', 'glared', 'at', 'the', 'girls', 'with', 'his', 'fiery', 'red', 'eyes', 'and', 'cried', 'why', 'do', 'you', 'stand', 'there', 'can', 'you', 'not', 'come', 'here', 'and', 'help', 'me', 'what', 'are', 'you', 'up', 'to', 'little', 'man', 'asked', 'rose-red', 'you', 'stupid', 'prying', 'goose', 'answered', 'the', 'dwarf', 'i', 'was', 'going', 'to', 'split', 'the', 'tree', 'to', 'get', 'a', 'little', 'wood', 'for', 'cooking', 'the', 'little', 'bit', 'of', 'food', 'that', 'we', 'people', 'get', 'is', 'immediately', 'burnt', 'up', 'with', 'heavy', 'logs', 'we', 'do', 'not', 'swallow', 'so', 'much', 'as', 'you', 'coarse', 'greedy', 'folk', 'i', 'had', 'just', 'driven', 'the', 'wedge', 'safely', 'in', 'and', 'everything', 'was', 'going', 'as', 'i', 'wished', 'but', 'the', 'cursed', 'wedge', 'was', 'too', 'smooth', 'and', 'suddenly', 'sprang', 'out', 'and', 'the', 'tree', 'closed', 'so', 'quickly', 'that', 'i', 'could', 'not', 'pull', 'out', 'my', 'beautiful', 'white', 'beard', 'so', 'now', 'it', 'is', 'tight', 'and', 'i', 'can', 'not', 'get', 'away', 'and', 'the', 'silly', 'sleek', 'milk-faced', 'things', 'laugh', 'ugh', 'how', 'odious', 'you', 'are', 'the', 'children', 'tried', 'very', 'hard', 'but', 'they', 'could', 'not', 'pull', 'the', 'beard', 'out', 'it', 'was', 'caught', 'too', 'fast', 'i', 'will', 'run', 'and', 'fetch', 'someone', 'said', 'rose-red', 'you', 'senseless', 'goose', 'snarled', 'the', 'dwarf', 'why', 'should', 'you', 'fetch', 'someone', 'you', 'are', 'already', 'two', 'too', 'many', 'for', 'me', 'can', 'you', 'not', 'think', 'of', 'something', 'better', 'don', 't', 'be', 'impatient', 'said', 'snow-white', 'i', 'will', 'help', 'you', 'and', 'she', 'pulled', 'her', 'scissors', 'out', 'of', 'her', 'pocket', 'and', 'cut', 'off', 'the', 'end', 'of', 'the', 'beard', 'as', 'soon', 'as', 'the', 'dwarf', 'felt', 'himself', 'free', 'he', 'laid', 'hold', 'of', 'a', 'bag', 'which', 'lay', 'amongst', 'the', 'roots', 'of', 'the', 'tree', 'and', 'which', 'was', 'full', 'of', 'gold', 'and', 'lifted', 'it', 'up', 'grumbling', 'to', 'himself', 'uncouth', 'people', 'to', 'cut', 'off', 'a', 'piece', 'of', 'my', 'fine', 'beard', 'bad', 'luck', 'to', 'you', 'and', 'then', 'he', 'swung', 'the', 'bag', 'upon', 'his', 'back', 'and', 'went', 'off', 'without', 'even', 'once', 'looking', 'at', 'the', 'children', 'some', 'time', 'afterwards', 'snow-white', 'and', 'rose-red', 'went', 'to', 'catch', 'a', 'dish', 'of', 'fish', 'as', 'they', 'came', 'near', 'the', 'brook', 'they', 'saw', 'something', 'like', 'a', 'large', 'grasshopper', 'jumping', 'towards', 'the', 'water', 'as', 'if', 'it', 'were', 'going', 'to', 'leap', 'in', 'they', 'ran', 'to', 'it', 'and', 'found', 'it', 'was', 'the', 'dwarf', 'where', 'are', 'you', 'going', 'said', 'rose-red', 'you', 'surely', 'don', 't', 'want', 'to', 'go', 'into', 'the', 'water', 'i', 'am', 'not', 'such', 'a', 'fool', 'cried', 'the', 'dwarf', 'don', 't', 'you', 'see', 'that', 'the', 'accursed', 'fish', 'wants', 'to', 'pull', 'me', 'in', 'the', 'little', 'man', 'had', 'been', 'sitting', 'there', 'fishing', 'and', 'unluckily', 'the', 'wind', 'had', 'tangled', 'up', 'his', 'beard', 'with', 'the', 'fishing-line', 'a', 'moment', 'later', 'a', 'big', 'fish', 'made', 'a', 'bite', 'and', 'the', 'feeble', 'creature', 'had', 'not', 'strength', 'to', 'pull', 'it', 'out', 'the', 'fish', 'kept', 'the', 'upper', 'hand', 'and', 'pulled', 'the', 'dwarf', 'towards', 'him', 'he', 'held', 'on', 'to', 'all', 'the', 'reeds', 'and', 'rushes', 'but', 'it', 'was', 'of', 'little', 'good', 'for', 'he', 'was', 'forced', 'to', 'follow', 'the', 'movements', 'of', 'the', 'fish', 'and', 'was', 'in', 'urgent', 'danger', 'of', 'being', 'dragged', 'into', 'the', 'water', 'the', 'girls', 'came', 'just', 'in', 'time', 'they', 'held', 'him', 'fast', 'and', 'tried', 'to', 'free', 'his', 'beard', 'from', 'the', 'line', 'but', 'all', 'in', 'vain', 'beard', 'and', 'line', 'were', 'entangled', 'fast', 'together', 'there', 'was', 'nothing', 'to', 'do', 'but', 'to', 'bring', 'out', 'the', 'scissors', 'and', 'cut', 'the', 'beard', 'whereby', 'a', 'small', 'part', 'of', 'it', 'was', 'lost', 'when', 'the', 'dwarf', 'saw', 'that', 'he', 'screamed', 'out', 'is', 'that', 'civil', 'you', 'toadstool', 'to', 'disfigure', 'a', 'man', 's', 'face', 'was', 'it', 'not', 'enough', 'to', 'clip', 'off', 'the', 'end', 'of', 'my', 'beard', 'now', 'you', 'have', 'cut', 'off', 'the', 'best', 'part', 'of', 'it', 'i', 'can', 'not', 'let', 'myself', 'be', 'seen', 'by', 'my', 'people', 'i', 'wish', 'you', 'had', 'been', 'made', 'to', 'run', 'the', 'soles', 'off', 'your', 'shoes', 'then', 'he', 'took', 'out', 'a', 'sack', 'of', 'pearls', 'which', 'lay', 'in', 'the', 'rushes', 'and', 'without', 'another', 'word', 'he', 'dragged', 'it', 'away', 'and', 'disappeared', 'behind', 'a', 'stone', 'it', 'happened', 'that', 'soon', 'afterwards', 'the', 'mother', 'sent', 'the', 'two', 'children', 'to', 'the', 'town', 'to', 'buy', 'needles', 'and', 'thread', 'and', 'laces', 'and', 'ribbons', 'the', 'road', 'led', 'them', 'across', 'a', 'heath', 'upon', 'which', 'huge', 'pieces', 'of', 'rock', 'lay', 'strewn', 'about', 'there', 'they', 'noticed', 'a', 'large', 'bird', 'hovering', 'in', 'the', 'air', 'flying', 'slowly', 'round', 'and', 'round', 'above', 'them', 'it', 'sank', 'lower', 'and', 'lower', 'and', 'at', 'last', 'settled', 'near', 'a', 'rock', 'not', 'far', 'away', 'immediately', 'they', 'heard', 'a', 'loud', 'piteous', 'cry', 'they', 'ran', 'up', 'and', 'saw', 'with', 'horror', 'that', 'the', 'eagle', 'had', 'seized', 'their', 'old', 'acquaintance', 'the', 'dwarf', 'and', 'was', 'going', 'to', 'carry', 'him', 'off', 'the', 'children', 'full', 'of', 'pity', 'at', 'once', 'took', 'tight', 'hold', 'of', 'the', 'little', 'man', 'and', 'pulled', 'against', 'the', 'eagle', 'so', 'long', 'that', 'at', 'last', 'he', 'let', 'his', 'booty', 'go', 'as', 'soon', 'as', 'the', 'dwarf', 'had', 'recovered', 'from', 'his', 'first', 'fright', 'he', 'cried', 'with', 'his', 'shrill', 'voice', 'could', 'you', 'not', 'have', 'done', 'it', 'more', 'carefully', 'you', 'dragged', 'at', 'my', 'brown', 'coat', 'so', 'that', 'it', 'is', 'all', 'torn', 'and', 'full', 'of', 'holes', 'you', 'clumsy', 'creatures', 'then', 'he', 'took', 'up', 'a', 'sack', 'full', 'of', 'precious', 'stones', 'and', 'slipped', 'away', 'again', 'under', 'the', 'rock', 'into', 'his', 'hole', 'the', 'girls', 'who', 'by', 'this', 'time', 'were', 'used', 'to', 'his', 'ingratitude', 'went', 'on', 'their', 'way', 'and', 'did', 'their', 'business', 'in', 'town', 'as', 'they', 'crossed', 'the', 'heath', 'again', 'on', 'their', 'way', 'home', 'they', 'surprised', 'the', 'dwarf', 'who', 'had', 'emptied', 'out', 'his', 'bag', 'of', 'precious', 'stones', 'in', 'a', 'clean', 'spot', 'and', 'had', 'not', 'thought', 'that', 'anyone', 'would', 'come', 'there', 'so', 'late', 'the', 'evening', 'sun', 'shone', 'upon', 'the', 'brilliant', 'stones', 'they', 'glittered', 'and', 'sparkled', 'with', 'all', 'colours', 'so', 'beautifully', 'that', 'the', 'children', 'stood', 'still', 'and', 'stared', 'at', 'them', 'why', 'do', 'you', 'stand', 'gaping', 'there', 'cried', 'the', 'dwarf', 'and', 'his', 'ashen-grey', 'face', 'became', 'copper-red', 'with', 'rage', 'he', 'was', 'still', 'cursing', 'when', 'a', 'loud', 'growling', 'was', 'heard', 'and', 'a', 'black', 'bear', 'came', 'trotting', 'towards', 'them', 'out', 'of', 'the', 'forest', 'the', 'dwarf', 'sprang', 'up', 'in', 'a', 'fright', 'but', 'he', 'could', 'not', 'reach', 'his', 'cave', 'for', 'the', 'bear', 'was', 'already', 'close', 'then', 'in', 'the', 'dread', 'of', 'his', 'heart', 'he', 'cried', 'dear', 'mr', 'bear', 'spare', 'me', 'i', 'will', 'give', 'you', 'all', 'my', 'treasures', 'look', 'the', 'beautiful', 'jewels', 'lying', 'there', 'grant', 'me', 'my', 'life', 'what', 'do', 'you', 'want', 'with', 'such', 'a', 'slender', 'little', 'fellow', 'as', 'i', 'you', 'would', 'not', 'feel', 'me', 'between', 'your', 'teeth', 'come', 'take', 'these', 'two', 'wicked', 'girls', 'they', 'are', 'tender', 'morsels', 'for', 'you', 'fat', 'as', 'young', 'quails', 'for', 'mercy', 's', 'sake', 'eat', 'them', 'the', 'bear', 'took', 'no', 'heed', 'of', 'his', 'words', 'but', 'gave', 'the', 'wicked', 'creature', 'a', 'single', 'blow', 'with', 'his', 'paw', 'and', 'he', 'did', 'not', 'move', 'again', 'the', 'girls', 'had', 'run', 'away', 'but', 'the', 'bear', 'called', 'to', 'them', 'snow-white', 'and', 'rose-red', 'do', 'not', 'be', 'afraid', 'wait', 'i', 'will', 'come', 'with', 'you.', 'then', 'they', 'recognized', 'his', 'voice', 'and', 'waited', 'and', 'when', 'he', 'came', 'up', 'to', 'them', 'suddenly', 'his', 'bearskin', 'fell', 'off', 'and', 'he', 'stood', 'there', 'a', 'handsome', 'man', 'clothed', 'all', 'in', 'gold', 'i', 'am', 'a', 'king', 's', 'son', 'he', 'said', 'and', 'i', 'was', 'bewitched', 'by', 'that', 'wicked', 'dwarf', 'who', 'had', 'stolen', 'my', 'treasures', 'i', 'have', 'had', 'to', 'run', 'about', 'the', 'forest', 'as', 'a', 'savage', 'bear', 'until', 'i', 'was', 'freed', 'by', 'his', 'death', 'now', 'he', 'has', 'got', 'his', 'well-deserved', 'punishment', 'snow-white', 'was', 'married', 'to', 'him', 'and', 'rose-red', 'to', 'his', 'brother', 'and', 'they', 'divided', 'between', 'them', 'the', 'great', 'treasure', 'which', 'the', 'dwarf', 'had', 'gathered', 'together', 'in', 'his', 'cave', 'the', 'old', 'mother', 'lived', 'peacefully', 'and', 'happily', 'with', 'her', 'children', 'for', 'many', 'years', 'she', 'took', 'the', 'two', 'rose-trees', 'with', 'her', 'and', 'they', 'stood', 'before', 'her', 'window', 'and', 'every', 'year', 'bore', 'the', 'most', 'beautiful', 'roses', 'white', 'and', 'red']\n"
          ]
        }
      ]
    },
    {
      "cell_type": "code",
      "source": [
        "len(tokens)"
      ],
      "metadata": {
        "colab": {
          "base_uri": "https://localhost:8080/"
        },
        "id": "btLiKxXmHBoc",
        "outputId": "e11100aa-0ec8-4e70-c453-cb296f9344c6"
      },
      "execution_count": 135,
      "outputs": [
        {
          "output_type": "execute_result",
          "data": {
            "text/plain": [
              "2435"
            ]
          },
          "metadata": {},
          "execution_count": 135
        }
      ]
    },
    {
      "cell_type": "code",
      "source": [
        "# Calculate word count\n",
        "\n",
        "word_count = len(tokens)\n",
        "print(word_count)"
      ],
      "metadata": {
        "colab": {
          "base_uri": "https://localhost:8080/"
        },
        "id": "GJsO3PBPJB3I",
        "outputId": "20b262a1-857c-403f-d92a-eb235298f252"
      },
      "execution_count": 136,
      "outputs": [
        {
          "output_type": "stream",
          "name": "stdout",
          "text": [
            "2435\n"
          ]
        }
      ]
    },
    {
      "cell_type": "code",
      "source": [
        "#Calculate most frequent words\n",
        "\n",
        "from collections import Counter\n",
        "\n",
        "word_counts = Counter(tokens)\n",
        "print(word_counts)"
      ],
      "metadata": {
        "colab": {
          "base_uri": "https://localhost:8080/"
        },
        "id": "oTeG9uAYFThs",
        "outputId": "fda6b1ab-1831-4dc6-aecc-224ee1a1beea"
      },
      "execution_count": 137,
      "outputs": [
        {
          "output_type": "stream",
          "name": "stdout",
          "text": [
            "Counter({'the': 170, 'and': 133, 'a': 57, 'to': 48, 'they': 46, 'was': 43, 'of': 39, 'it': 33, 'you': 33, 'in': 32, 'not': 30, 'he': 27, 'his': 26, 'as': 25, 'had': 22, 'out': 22, 'i': 21, 'with': 20, 'that': 20, 'snow-white': 19, 'their': 19, 'bear': 19, 'rose-red': 17, 'but': 17, 'them': 17, 'when': 16, 'children': 15, 'mother': 15, 'dwarf': 15, 'so': 14, 'by': 14, 'at': 13, 'her': 13, 'said': 13, 'there': 12, 'do': 12, 'little': 12, 'two': 11, 'were': 11, 'came': 11, 'him': 11, 'beard': 11, 'my': 10, 'she': 9, 'will': 9, 'up': 9, 'into': 9, 'took': 9, 'then': 9, 'for': 9, 'off': 9, 'which': 8, 'forest': 8, 'upon': 8, 'come': 8, 'all': 8, 'who': 7, 'one': 7, 'about': 7, 'went': 7, 'on': 7, 's': 7, 'be': 7, 'me': 7, 'can': 7, 'away': 7, 'are': 7, 'what': 6, 'tree': 6, 'girls': 6, 'is': 6, 'man': 6, 'cried': 6, 'going': 6, 'once': 5, 'white': 5, 'only': 5, 'run': 5, 'sat': 5, 'would': 5, 'must': 5, 'no': 5, 'did': 5, 'close': 5, 'if': 5, 'too': 5, 'saw': 5, 'have': 5, 'from': 5, 'go': 5, 'door': 5, 'lay': 5, 'let': 5, 'back': 5, 'soon': 5, 'time': 5, 'now': 5, 'could': 5, 'fish': 5, 'stood': 4, 'other': 4, 'red': 4, 'like': 4, 'good': 4, 'together': 4, 'we': 4, 'long': 4, 'ran': 4, 'laid': 4, 'near': 4, 'beautiful': 4, 'bed': 4, 'quite': 4, 'round': 4, 'been': 4, 'gold': 4, 'evening': 4, 'behind': 4, 'your': 4, 'himself': 4, 'wicked': 4, 'get': 4, 'pull': 4, 'cut': 4, 'full': 4, 'poor': 3, 'cottage': 3, 'rose-trees': 3, 'called': 3, 'home': 3, 'nothing': 3, 'another': 3, 'held': 3, 'each': 3, 'has': 3, 'harm': 3, 'hands': 3, 'still': 3, 'down': 3, 'until': 3, 'morning': 3, 'sitting': 3, 'got': 3, 'found': 3, 'every': 3, 'before': 3, 'fire': 3, 'bolt': 3, 'hearth': 3, 'large': 3, 'lamb': 3, 'dove': 3, 'someone': 3, 'black': 3, 'sprang': 3, 'afraid': 3, 'am': 3, 'want': 3, 'coat': 3, 'part': 3, 'treasures': 3, 'way': 3, 'through': 3, 'caught': 3, 'afterwards': 3, 'something': 3, 'jumping': 3, 'old': 3, 'face': 3, 'end': 3, 'why': 3, 'people': 3, 'fast': 3, 'don': 3, 't': 3, 'pulled': 3, 'bag': 3, 'towards': 3, 'water': 3, 'dragged': 3, 'rock': 3, 'stones': 3, 'again': 3, 'lived': 2, 'bore': 2, 'roses': 2, 'more': 2, 'liked': 2, 'better': 2, 'seeking': 2, 'flowers': 2, 'or': 2, 'read': 2, 'hand': 2, 'leave': 2, 'answered': 2, 'never': 2, 'gathered': 2, 'eat': 2, 'knew': 2, 'late': 2, 'night': 2, 'themselves': 2, 'this': 2, 'wood': 2, 'shining': 2, 'looked': 2, 'kept': 2, 'look': 2, 'care': 2, 'winter': 2, 'kettle': 2, 'shone': 2, 'fell': 2, 'its': 2, 'head': 2, 'comfortably': 2, 'wished': 2, 'stretched': 2, 'screamed': 2, 'myself': 2, 'you.': 2, 'lie': 2, 'take': 2, 'nearer': 2, 'here': 2, 'snow': 2, 'clean': 2, 'growled': 2, 'clumsy': 2, 'beat': 2, 'bad': 2, 'across': 2, 'much': 2, 'used': 2, 'where': 2, 'dear': 2, 'asked': 2, 'earth': 2, 'hard': 2, 'sun': 2, 'see': 2, 'against': 2, 'piece': 2, 'torn': 2, 'seen': 2, 'quickly': 2, 'sent': 2, 'big': 2, 'fellow': 2, 'stand': 2, 'help': 2, 'goose': 2, 'immediately': 2, 'just': 2, 'wedge': 2, 'suddenly': 2, 'tight': 2, 'tried': 2, 'fetch': 2, 'already': 2, 'many': 2, 'scissors': 2, 'free': 2, 'hold': 2, 'without': 2, 'such': 2, 'made': 2, 'creature': 2, 'rushes': 2, 'line': 2, 'sack': 2, 'town': 2, 'heath': 2, 'lower': 2, 'last': 2, 'heard': 2, 'loud': 2, 'eagle': 2, 'fright': 2, 'voice': 2, 'precious': 2, 'cave': 2, 'between': 2, 'widow': 1, 'lonely': 1, 'front': 1, 'garden': 1, 'wherein': 1, 'happy': 1, 'busy': 1, 'cheerful': 1, 'ever': 1, 'world': 1, 'quiet': 1, 'gentle': 1, 'than': 1, 'meadows': 1, 'fields': 1, 'catching': 1, 'butterflies': 1, 'helped': 1, 'housework': 1, 'fond': 1, 'always': 1, 'live': 1, 'add': 1, 'share': 1, 'other.': 1, 'often': 1, 'alone': 1, 'berries': 1, 'beasts': 1, 'any': 1, 'trustfully': 1, 'hare': 1, 'cabbage-leaf': 1, 'roe': 1, 'grazed': 1, 'side': 1, 'stag': 1, 'leapt': 1, 'merrily': 1, 'birds': 1, 'boughs': 1, 'sang': 1, 'whatever': 1, 'mishap': 1, 'overtook': 1, 'stayed': 1, 'moss': 1, 'slept': 1, 'worry': 1, 'account': 1, 'spent': 1, 'dawn': 1, 'roused': 1, 'child': 1, 'dress': 1, 'kindly': 1, 'sleeping': 1, 'precipice': 1, 'certainly': 1, 'fallen': 1, 'darkness': 1, 'gone': 1, 'few': 1, 'paces': 1, 'further': 1, 'told': 1, 'angel': 1, 'watches': 1, 'over': 1, 'neat': 1, 'pleasure': 1, 'inside': 1, 'summer': 1, 'house': 1, 'wreath': 1, 'awoke': 1, 'rose': 1, 'lit': 1, 'hung': 1, 'hob': 1, 'brass': 1, 'brightly': 1, 'polished': 1, 'snowflakes': 1, 'spectacles': 1, 'aloud': 1, 'book': 1, 'listened': 1, 'spun': 1, 'floor': 1, 'perch': 1, 'hidden': 1, 'beneath': 1, 'wings': 1, 'thus': 1, 'knocked': 1, 'quick': 1, 'open': 1, 'traveller': 1, 'shelter.': 1, 'pushed': 1, 'thinking': 1, 'broad': 1, 'within': 1, 'bleated': 1, 'fluttered': 1, 'hid': 1, 'herself': 1, 'began': 1, 'speak': 1, 'half-frozen': 1, 'warm': 1, 'beside': 1, 'burn': 1, 'coat.': 1, 'means': 1, 'well.': 1, 'both': 1, 'by-and-by': 1, 'knock': 1, 'brought': 1, 'broom': 1, 'swept': 1, 'hide': 1, 'contentedly': 1, 'grew': 1, 'played': 1, 'tricks': 1, 'guest': 1, 'tugged': 1, 'hair': 1, 'put': 1, 'feet': 1, 'rolled': 1, 'hazel-switch': 1, 'laughed': 1, 'rough': 1, 'alive': 1, 'wooer': 1, 'dead': 1, 'bed-time': 1, 'others': 1, 'safe': 1, 'cold': 1, 'weather.': 1, 'day': 1, 'dawned': 1, 'trotted': 1, 'henceforth': 1, 'same': 1, 'amuse': 1, 'doors': 1, 'fastened': 1, 'friend': 1, 'arrived': 1, 'spring': 1, 'outside': 1, 'green': 1, 'whole': 1, 'summer.': 1, 'guard': 1, 'dwarfs': 1, 'frozen': 1, 'obliged': 1, 'stay': 1, 'below': 1, 'work': 1, 'thawed': 1, 'warmed': 1, 'break': 1, 'pry': 1, 'steal': 1, 'gets': 1, 'caves': 1, 'does': 1, 'easily': 1, 'daylight': 1, 'again.': 1, 'sorry': 1, 'departure': 1, 'unbolted': 1, 'hurrying': 1, 'hairy': 1, 'seemed': 1, 'sure': 1, 'sight': 1, 'trees': 1, 'short': 1, 'firewood': 1, 'felled': 1, 'ground': 1, 'trunk': 1, 'backwards': 1, 'forwards': 1, 'grass': 1, 'make': 1, 'an': 1, 'withered': 1, 'yard': 1, 'crevice': 1, 'dog': 1, 'tied': 1, 'rope': 1, 'know': 1, 'glared': 1, 'fiery': 1, 'eyes': 1, 'stupid': 1, 'prying': 1, 'split': 1, 'cooking': 1, 'bit': 1, 'food': 1, 'burnt': 1, 'heavy': 1, 'logs': 1, 'swallow': 1, 'coarse': 1, 'greedy': 1, 'folk': 1, 'driven': 1, 'safely': 1, 'everything': 1, 'cursed': 1, 'smooth': 1, 'closed': 1, 'silly': 1, 'sleek': 1, 'milk-faced': 1, 'things': 1, 'laugh': 1, 'ugh': 1, 'how': 1, 'odious': 1, 'very': 1, 'senseless': 1, 'snarled': 1, 'should': 1, 'think': 1, 'impatient': 1, 'pocket': 1, 'felt': 1, 'amongst': 1, 'roots': 1, 'lifted': 1, 'grumbling': 1, 'uncouth': 1, 'fine': 1, 'luck': 1, 'swung': 1, 'even': 1, 'looking': 1, 'some': 1, 'catch': 1, 'dish': 1, 'brook': 1, 'grasshopper': 1, 'leap': 1, 'surely': 1, 'fool': 1, 'accursed': 1, 'wants': 1, 'fishing': 1, 'unluckily': 1, 'wind': 1, 'tangled': 1, 'fishing-line': 1, 'moment': 1, 'later': 1, 'bite': 1, 'feeble': 1, 'strength': 1, 'upper': 1, 'reeds': 1, 'forced': 1, 'follow': 1, 'movements': 1, 'urgent': 1, 'danger': 1, 'being': 1, 'vain': 1, 'entangled': 1, 'bring': 1, 'whereby': 1, 'small': 1, 'lost': 1, 'civil': 1, 'toadstool': 1, 'disfigure': 1, 'enough': 1, 'clip': 1, 'best': 1, 'wish': 1, 'soles': 1, 'shoes': 1, 'pearls': 1, 'word': 1, 'disappeared': 1, 'stone': 1, 'happened': 1, 'buy': 1, 'needles': 1, 'thread': 1, 'laces': 1, 'ribbons': 1, 'road': 1, 'led': 1, 'huge': 1, 'pieces': 1, 'strewn': 1, 'noticed': 1, 'bird': 1, 'hovering': 1, 'air': 1, 'flying': 1, 'slowly': 1, 'above': 1, 'sank': 1, 'settled': 1, 'far': 1, 'piteous': 1, 'cry': 1, 'horror': 1, 'seized': 1, 'acquaintance': 1, 'carry': 1, 'pity': 1, 'booty': 1, 'recovered': 1, 'first': 1, 'shrill': 1, 'done': 1, 'carefully': 1, 'brown': 1, 'holes': 1, 'creatures': 1, 'slipped': 1, 'under': 1, 'hole': 1, 'ingratitude': 1, 'business': 1, 'crossed': 1, 'surprised': 1, 'emptied': 1, 'spot': 1, 'thought': 1, 'anyone': 1, 'brilliant': 1, 'glittered': 1, 'sparkled': 1, 'colours': 1, 'beautifully': 1, 'stared': 1, 'gaping': 1, 'ashen-grey': 1, 'became': 1, 'copper-red': 1, 'rage': 1, 'cursing': 1, 'growling': 1, 'trotting': 1, 'reach': 1, 'dread': 1, 'heart': 1, 'mr': 1, 'spare': 1, 'give': 1, 'jewels': 1, 'lying': 1, 'grant': 1, 'life': 1, 'slender': 1, 'feel': 1, 'teeth': 1, 'these': 1, 'tender': 1, 'morsels': 1, 'fat': 1, 'young': 1, 'quails': 1, 'mercy': 1, 'sake': 1, 'heed': 1, 'words': 1, 'gave': 1, 'single': 1, 'blow': 1, 'paw': 1, 'move': 1, 'wait': 1, 'recognized': 1, 'waited': 1, 'bearskin': 1, 'handsome': 1, 'clothed': 1, 'king': 1, 'son': 1, 'bewitched': 1, 'stolen': 1, 'savage': 1, 'freed': 1, 'death': 1, 'well-deserved': 1, 'punishment': 1, 'married': 1, 'brother': 1, 'divided': 1, 'great': 1, 'treasure': 1, 'peacefully': 1, 'happily': 1, 'years': 1, 'window': 1, 'year': 1, 'most': 1})\n"
          ]
        }
      ]
    },
    {
      "cell_type": "code",
      "source": [
        "#Remove stopwords\n",
        "\n",
        "from nltk.corpus import stopwords\n",
        "nltk.download('stopwords')\n",
        "\n",
        "stopwords = stopwords.words(\"english\")\n",
        "print(stopwords)\n",
        "\n"
      ],
      "metadata": {
        "colab": {
          "base_uri": "https://localhost:8080/"
        },
        "id": "5-ndJQgwFjlt",
        "outputId": "c4ba9c29-4fe9-47a1-9000-2e37295cec28"
      },
      "execution_count": 138,
      "outputs": [
        {
          "output_type": "stream",
          "name": "stdout",
          "text": [
            "['i', 'me', 'my', 'myself', 'we', 'our', 'ours', 'ourselves', 'you', \"you're\", \"you've\", \"you'll\", \"you'd\", 'your', 'yours', 'yourself', 'yourselves', 'he', 'him', 'his', 'himself', 'she', \"she's\", 'her', 'hers', 'herself', 'it', \"it's\", 'its', 'itself', 'they', 'them', 'their', 'theirs', 'themselves', 'what', 'which', 'who', 'whom', 'this', 'that', \"that'll\", 'these', 'those', 'am', 'is', 'are', 'was', 'were', 'be', 'been', 'being', 'have', 'has', 'had', 'having', 'do', 'does', 'did', 'doing', 'a', 'an', 'the', 'and', 'but', 'if', 'or', 'because', 'as', 'until', 'while', 'of', 'at', 'by', 'for', 'with', 'about', 'against', 'between', 'into', 'through', 'during', 'before', 'after', 'above', 'below', 'to', 'from', 'up', 'down', 'in', 'out', 'on', 'off', 'over', 'under', 'again', 'further', 'then', 'once', 'here', 'there', 'when', 'where', 'why', 'how', 'all', 'any', 'both', 'each', 'few', 'more', 'most', 'other', 'some', 'such', 'no', 'nor', 'not', 'only', 'own', 'same', 'so', 'than', 'too', 'very', 's', 't', 'can', 'will', 'just', 'don', \"don't\", 'should', \"should've\", 'now', 'd', 'll', 'm', 'o', 're', 've', 'y', 'ain', 'aren', \"aren't\", 'couldn', \"couldn't\", 'didn', \"didn't\", 'doesn', \"doesn't\", 'hadn', \"hadn't\", 'hasn', \"hasn't\", 'haven', \"haven't\", 'isn', \"isn't\", 'ma', 'mightn', \"mightn't\", 'mustn', \"mustn't\", 'needn', \"needn't\", 'shan', \"shan't\", 'shouldn', \"shouldn't\", 'wasn', \"wasn't\", 'weren', \"weren't\", 'won', \"won't\", 'wouldn', \"wouldn't\"]\n"
          ]
        },
        {
          "output_type": "stream",
          "name": "stderr",
          "text": [
            "[nltk_data] Downloading package stopwords to /root/nltk_data...\n",
            "[nltk_data]   Package stopwords is already up-to-date!\n"
          ]
        }
      ]
    },
    {
      "cell_type": "code",
      "source": [
        "content_words = [token for token in tokens if token not in stopwords]\n",
        "print(content_words)"
      ],
      "metadata": {
        "colab": {
          "base_uri": "https://localhost:8080/"
        },
        "id": "cjiKtSZ_HocU",
        "outputId": "e5675178-65ca-498c-9dd3-128ef704087b"
      },
      "execution_count": 139,
      "outputs": [
        {
          "output_type": "stream",
          "name": "stdout",
          "text": [
            "['poor', 'widow', 'lived', 'lonely', 'cottage', 'front', 'cottage', 'garden', 'wherein', 'stood', 'two', 'rose-trees', 'one', 'bore', 'white', 'red', 'roses', 'two', 'children', 'like', 'two', 'rose-trees', 'one', 'called', 'snow-white', 'rose-red', 'good', 'happy', 'busy', 'cheerful', 'ever', 'two', 'children', 'world', 'snow-white', 'quiet', 'gentle', 'rose-red', 'rose-red', 'liked', 'better', 'run', 'meadows', 'fields', 'seeking', 'flowers', 'catching', 'butterflies', 'snow-white', 'sat', 'home', 'mother', 'helped', 'housework', 'read', 'nothing', 'two', 'children', 'fond', 'one', 'another', 'always', 'held', 'hand', 'went', 'together', 'snow-white', 'said', 'leave', 'rose-red', 'answered', 'never', 'long', 'live', 'mother', 'would', 'add', 'one', 'must', 'share', 'other.', 'often', 'ran', 'forest', 'alone', 'gathered', 'red', 'berries', 'beasts', 'harm', 'came', 'close', 'trustfully', 'little', 'hare', 'would', 'eat', 'cabbage-leaf', 'hands', 'roe', 'grazed', 'side', 'stag', 'leapt', 'merrily', 'birds', 'sat', 'still', 'upon', 'boughs', 'sang', 'whatever', 'knew', 'mishap', 'overtook', 'stayed', 'late', 'forest', 'night', 'came', 'laid', 'near', 'one', 'another', 'upon', 'moss', 'slept', 'morning', 'came', 'mother', 'knew', 'worry', 'account', 'spent', 'night', 'wood', 'dawn', 'roused', 'saw', 'beautiful', 'child', 'shining', 'white', 'dress', 'sitting', 'near', 'bed', 'got', 'looked', 'quite', 'kindly', 'said', 'nothing', 'went', 'forest', 'looked', 'round', 'found', 'sleeping', 'quite', 'close', 'precipice', 'would', 'certainly', 'fallen', 'darkness', 'gone', 'paces', 'mother', 'told', 'must', 'angel', 'watches', 'good', 'children', 'snow-white', 'rose-red', 'kept', 'mother', 'little', 'cottage', 'neat', 'pleasure', 'look', 'inside', 'summer', 'rose-red', 'took', 'care', 'house', 'every', 'morning', 'laid', 'wreath', 'flowers', 'mother', 'bed', 'awoke', 'rose', 'tree', 'winter', 'snow-white', 'lit', 'fire', 'hung', 'kettle', 'hob', 'kettle', 'brass', 'shone', 'like', 'gold', 'brightly', 'polished', 'evening', 'snowflakes', 'fell', 'mother', 'said', 'go', 'snow-white', 'bolt', 'door', 'sat', 'round', 'hearth', 'mother', 'took', 'spectacles', 'read', 'aloud', 'large', 'book', 'two', 'girls', 'listened', 'sat', 'spun', 'close', 'lay', 'lamb', 'upon', 'floor', 'behind', 'upon', 'perch', 'sat', 'white', 'dove', 'head', 'hidden', 'beneath', 'wings', 'one', 'evening', 'thus', 'sitting', 'comfortably', 'together', 'someone', 'knocked', 'door', 'wished', 'let', 'mother', 'said', 'quick', 'rose-red', 'open', 'door', 'must', 'traveller', 'seeking', 'shelter.', 'rose-red', 'went', 'pushed', 'back', 'bolt', 'thinking', 'poor', 'man', 'bear', 'stretched', 'broad', 'black', 'head', 'within', 'door', 'rose-red', 'screamed', 'sprang', 'back', 'lamb', 'bleated', 'dove', 'fluttered', 'snow-white', 'hid', 'behind', 'mother', 'bed', 'bear', 'began', 'speak', 'said', 'afraid', 'harm', 'half-frozen', 'want', 'warm', 'little', 'beside', 'you.', 'poor', 'bear', 'said', 'mother', 'lie', 'fire', 'take', 'care', 'burn', 'coat.', 'cried', 'snow-white', 'rose-red', 'come', 'bear', 'harm', 'means', 'well.', 'came', 'by-and-by', 'lamb', 'dove', 'came', 'nearer', 'afraid', 'bear', 'said', 'children', 'knock', 'snow', 'coat', 'little', 'brought', 'broom', 'swept', 'bear', 'hide', 'clean', 'stretched', 'fire', 'growled', 'contentedly', 'comfortably', 'long', 'grew', 'quite', 'home', 'played', 'tricks', 'clumsy', 'guest', 'tugged', 'hair', 'hands', 'put', 'feet', 'upon', 'back', 'rolled', 'took', 'hazel-switch', 'beat', 'growled', 'laughed', 'bear', 'took', 'good', 'part', 'rough', 'called', 'leave', 'alive', 'children', 'snow-white', 'rose-red', 'beat', 'wooer', 'dead', 'bed-time', 'others', 'went', 'bed', 'mother', 'said', 'bear', 'lie', 'hearth', 'safe', 'cold', 'bad', 'weather.', 'soon', 'day', 'dawned', 'two', 'children', 'let', 'trotted', 'across', 'snow', 'forest', 'henceforth', 'bear', 'came', 'every', 'evening', 'time', 'laid', 'hearth', 'let', 'children', 'amuse', 'much', 'liked', 'got', 'used', 'doors', 'never', 'fastened', 'black', 'friend', 'arrived', 'spring', 'come', 'outside', 'green', 'bear', 'said', 'one', 'morning', 'snow-white', 'must', 'go', 'away', 'come', 'back', 'whole', 'summer.', 'going', 'dear', 'bear', 'asked', 'snow-white', 'must', 'go', 'forest', 'guard', 'treasures', 'wicked', 'dwarfs', 'winter', 'earth', 'frozen', 'hard', 'obliged', 'stay', 'work', 'way', 'sun', 'thawed', 'warmed', 'earth', 'break', 'come', 'pry', 'steal', 'gets', 'hands', 'caves', 'easily', 'see', 'daylight', 'again.', 'snow-white', 'quite', 'sorry', 'departure', 'unbolted', 'door', 'bear', 'hurrying', 'caught', 'bolt', 'piece', 'hairy', 'coat', 'torn', 'seemed', 'snow-white', 'seen', 'gold', 'shining', 'sure', 'bear', 'ran', 'away', 'quickly', 'soon', 'sight', 'behind', 'trees', 'short', 'time', 'afterwards', 'mother', 'sent', 'children', 'forest', 'get', 'firewood', 'found', 'big', 'tree', 'lay', 'felled', 'ground', 'close', 'trunk', 'something', 'jumping', 'backwards', 'forwards', 'grass', 'could', 'make', 'came', 'nearer', 'saw', 'dwarf', 'old', 'withered', 'face', 'snow-white', 'beard', 'yard', 'long', 'end', 'beard', 'caught', 'crevice', 'tree', 'little', 'fellow', 'jumping', 'like', 'dog', 'tied', 'rope', 'know', 'glared', 'girls', 'fiery', 'red', 'eyes', 'cried', 'stand', 'come', 'help', 'little', 'man', 'asked', 'rose-red', 'stupid', 'prying', 'goose', 'answered', 'dwarf', 'going', 'split', 'tree', 'get', 'little', 'wood', 'cooking', 'little', 'bit', 'food', 'people', 'get', 'immediately', 'burnt', 'heavy', 'logs', 'swallow', 'much', 'coarse', 'greedy', 'folk', 'driven', 'wedge', 'safely', 'everything', 'going', 'wished', 'cursed', 'wedge', 'smooth', 'suddenly', 'sprang', 'tree', 'closed', 'quickly', 'could', 'pull', 'beautiful', 'white', 'beard', 'tight', 'get', 'away', 'silly', 'sleek', 'milk-faced', 'things', 'laugh', 'ugh', 'odious', 'children', 'tried', 'hard', 'could', 'pull', 'beard', 'caught', 'fast', 'run', 'fetch', 'someone', 'said', 'rose-red', 'senseless', 'goose', 'snarled', 'dwarf', 'fetch', 'someone', 'already', 'two', 'many', 'think', 'something', 'better', 'impatient', 'said', 'snow-white', 'help', 'pulled', 'scissors', 'pocket', 'cut', 'end', 'beard', 'soon', 'dwarf', 'felt', 'free', 'laid', 'hold', 'bag', 'lay', 'amongst', 'roots', 'tree', 'full', 'gold', 'lifted', 'grumbling', 'uncouth', 'people', 'cut', 'piece', 'fine', 'beard', 'bad', 'luck', 'swung', 'bag', 'upon', 'back', 'went', 'without', 'even', 'looking', 'children', 'time', 'afterwards', 'snow-white', 'rose-red', 'went', 'catch', 'dish', 'fish', 'came', 'near', 'brook', 'saw', 'something', 'like', 'large', 'grasshopper', 'jumping', 'towards', 'water', 'going', 'leap', 'ran', 'found', 'dwarf', 'going', 'said', 'rose-red', 'surely', 'want', 'go', 'water', 'fool', 'cried', 'dwarf', 'see', 'accursed', 'fish', 'wants', 'pull', 'little', 'man', 'sitting', 'fishing', 'unluckily', 'wind', 'tangled', 'beard', 'fishing-line', 'moment', 'later', 'big', 'fish', 'made', 'bite', 'feeble', 'creature', 'strength', 'pull', 'fish', 'kept', 'upper', 'hand', 'pulled', 'dwarf', 'towards', 'held', 'reeds', 'rushes', 'little', 'good', 'forced', 'follow', 'movements', 'fish', 'urgent', 'danger', 'dragged', 'water', 'girls', 'came', 'time', 'held', 'fast', 'tried', 'free', 'beard', 'line', 'vain', 'beard', 'line', 'entangled', 'fast', 'together', 'nothing', 'bring', 'scissors', 'cut', 'beard', 'whereby', 'small', 'part', 'lost', 'dwarf', 'saw', 'screamed', 'civil', 'toadstool', 'disfigure', 'man', 'face', 'enough', 'clip', 'end', 'beard', 'cut', 'best', 'part', 'let', 'seen', 'people', 'wish', 'made', 'run', 'soles', 'shoes', 'took', 'sack', 'pearls', 'lay', 'rushes', 'without', 'another', 'word', 'dragged', 'away', 'disappeared', 'behind', 'stone', 'happened', 'soon', 'afterwards', 'mother', 'sent', 'two', 'children', 'town', 'buy', 'needles', 'thread', 'laces', 'ribbons', 'road', 'led', 'across', 'heath', 'upon', 'huge', 'pieces', 'rock', 'lay', 'strewn', 'noticed', 'large', 'bird', 'hovering', 'air', 'flying', 'slowly', 'round', 'round', 'sank', 'lower', 'lower', 'last', 'settled', 'near', 'rock', 'far', 'away', 'immediately', 'heard', 'loud', 'piteous', 'cry', 'ran', 'saw', 'horror', 'eagle', 'seized', 'old', 'acquaintance', 'dwarf', 'going', 'carry', 'children', 'full', 'pity', 'took', 'tight', 'hold', 'little', 'man', 'pulled', 'eagle', 'long', 'last', 'let', 'booty', 'go', 'soon', 'dwarf', 'recovered', 'first', 'fright', 'cried', 'shrill', 'voice', 'could', 'done', 'carefully', 'dragged', 'brown', 'coat', 'torn', 'full', 'holes', 'clumsy', 'creatures', 'took', 'sack', 'full', 'precious', 'stones', 'slipped', 'away', 'rock', 'hole', 'girls', 'time', 'used', 'ingratitude', 'went', 'way', 'business', 'town', 'crossed', 'heath', 'way', 'home', 'surprised', 'dwarf', 'emptied', 'bag', 'precious', 'stones', 'clean', 'spot', 'thought', 'anyone', 'would', 'come', 'late', 'evening', 'sun', 'shone', 'upon', 'brilliant', 'stones', 'glittered', 'sparkled', 'colours', 'beautifully', 'children', 'stood', 'still', 'stared', 'stand', 'gaping', 'cried', 'dwarf', 'ashen-grey', 'face', 'became', 'copper-red', 'rage', 'still', 'cursing', 'loud', 'growling', 'heard', 'black', 'bear', 'came', 'trotting', 'towards', 'forest', 'dwarf', 'sprang', 'fright', 'could', 'reach', 'cave', 'bear', 'already', 'close', 'dread', 'heart', 'cried', 'dear', 'mr', 'bear', 'spare', 'give', 'treasures', 'look', 'beautiful', 'jewels', 'lying', 'grant', 'life', 'want', 'slender', 'little', 'fellow', 'would', 'feel', 'teeth', 'come', 'take', 'two', 'wicked', 'girls', 'tender', 'morsels', 'fat', 'young', 'quails', 'mercy', 'sake', 'eat', 'bear', 'took', 'heed', 'words', 'gave', 'wicked', 'creature', 'single', 'blow', 'paw', 'move', 'girls', 'run', 'away', 'bear', 'called', 'snow-white', 'rose-red', 'afraid', 'wait', 'come', 'you.', 'recognized', 'voice', 'waited', 'came', 'suddenly', 'bearskin', 'fell', 'stood', 'handsome', 'man', 'clothed', 'gold', 'king', 'son', 'said', 'bewitched', 'wicked', 'dwarf', 'stolen', 'treasures', 'run', 'forest', 'savage', 'bear', 'freed', 'death', 'got', 'well-deserved', 'punishment', 'snow-white', 'married', 'rose-red', 'brother', 'divided', 'great', 'treasure', 'dwarf', 'gathered', 'together', 'cave', 'old', 'mother', 'lived', 'peacefully', 'happily', 'children', 'many', 'years', 'took', 'two', 'rose-trees', 'stood', 'window', 'every', 'year', 'bore', 'beautiful', 'roses', 'white', 'red']\n"
          ]
        }
      ]
    },
    {
      "cell_type": "code",
      "source": [
        "len(content_words)"
      ],
      "metadata": {
        "colab": {
          "base_uri": "https://localhost:8080/"
        },
        "id": "gugtaudKJKra",
        "outputId": "51b4187d-5b2a-4bc4-d9ba-62537a56dba9"
      },
      "execution_count": 140,
      "outputs": [
        {
          "output_type": "execute_result",
          "data": {
            "text/plain": [
              "1120"
            ]
          },
          "metadata": {},
          "execution_count": 140
        }
      ]
    },
    {
      "cell_type": "code",
      "source": [
        "content_word_counts = Counter(content_words)\n",
        "print(content_word_counts)"
      ],
      "metadata": {
        "colab": {
          "base_uri": "https://localhost:8080/"
        },
        "id": "bnbfQejBHwDc",
        "outputId": "f4c73b9d-a7cb-4304-b8c1-aef8b19fcbc4"
      },
      "execution_count": 141,
      "outputs": [
        {
          "output_type": "stream",
          "name": "stdout",
          "text": [
            "Counter({'snow-white': 19, 'bear': 19, 'rose-red': 17, 'children': 15, 'mother': 15, 'dwarf': 15, 'said': 13, 'little': 12, 'two': 11, 'came': 11, 'beard': 11, 'took': 9, 'forest': 8, 'upon': 8, 'come': 8, 'one': 7, 'went': 7, 'away': 7, 'tree': 6, 'girls': 6, 'man': 6, 'cried': 6, 'going': 6, 'white': 5, 'run': 5, 'sat': 5, 'would': 5, 'must': 5, 'close': 5, 'saw': 5, 'go': 5, 'door': 5, 'lay': 5, 'let': 5, 'back': 5, 'soon': 5, 'time': 5, 'could': 5, 'fish': 5, 'stood': 4, 'red': 4, 'like': 4, 'good': 4, 'together': 4, 'long': 4, 'ran': 4, 'laid': 4, 'near': 4, 'beautiful': 4, 'bed': 4, 'quite': 4, 'round': 4, 'gold': 4, 'evening': 4, 'behind': 4, 'wicked': 4, 'get': 4, 'pull': 4, 'cut': 4, 'full': 4, 'poor': 3, 'cottage': 3, 'rose-trees': 3, 'called': 3, 'home': 3, 'nothing': 3, 'another': 3, 'held': 3, 'harm': 3, 'hands': 3, 'still': 3, 'morning': 3, 'sitting': 3, 'got': 3, 'found': 3, 'every': 3, 'fire': 3, 'bolt': 3, 'hearth': 3, 'large': 3, 'lamb': 3, 'dove': 3, 'someone': 3, 'black': 3, 'sprang': 3, 'afraid': 3, 'want': 3, 'coat': 3, 'part': 3, 'treasures': 3, 'way': 3, 'caught': 3, 'afterwards': 3, 'something': 3, 'jumping': 3, 'old': 3, 'face': 3, 'end': 3, 'people': 3, 'fast': 3, 'pulled': 3, 'bag': 3, 'towards': 3, 'water': 3, 'dragged': 3, 'rock': 3, 'stones': 3, 'lived': 2, 'bore': 2, 'roses': 2, 'liked': 2, 'better': 2, 'seeking': 2, 'flowers': 2, 'read': 2, 'hand': 2, 'leave': 2, 'answered': 2, 'never': 2, 'gathered': 2, 'eat': 2, 'knew': 2, 'late': 2, 'night': 2, 'wood': 2, 'shining': 2, 'looked': 2, 'kept': 2, 'look': 2, 'care': 2, 'winter': 2, 'kettle': 2, 'shone': 2, 'fell': 2, 'head': 2, 'comfortably': 2, 'wished': 2, 'stretched': 2, 'screamed': 2, 'you.': 2, 'lie': 2, 'take': 2, 'nearer': 2, 'snow': 2, 'clean': 2, 'growled': 2, 'clumsy': 2, 'beat': 2, 'bad': 2, 'across': 2, 'much': 2, 'used': 2, 'dear': 2, 'asked': 2, 'earth': 2, 'hard': 2, 'sun': 2, 'see': 2, 'piece': 2, 'torn': 2, 'seen': 2, 'quickly': 2, 'sent': 2, 'big': 2, 'fellow': 2, 'stand': 2, 'help': 2, 'goose': 2, 'immediately': 2, 'wedge': 2, 'suddenly': 2, 'tight': 2, 'tried': 2, 'fetch': 2, 'already': 2, 'many': 2, 'scissors': 2, 'free': 2, 'hold': 2, 'without': 2, 'made': 2, 'creature': 2, 'rushes': 2, 'line': 2, 'sack': 2, 'town': 2, 'heath': 2, 'lower': 2, 'last': 2, 'heard': 2, 'loud': 2, 'eagle': 2, 'fright': 2, 'voice': 2, 'precious': 2, 'cave': 2, 'widow': 1, 'lonely': 1, 'front': 1, 'garden': 1, 'wherein': 1, 'happy': 1, 'busy': 1, 'cheerful': 1, 'ever': 1, 'world': 1, 'quiet': 1, 'gentle': 1, 'meadows': 1, 'fields': 1, 'catching': 1, 'butterflies': 1, 'helped': 1, 'housework': 1, 'fond': 1, 'always': 1, 'live': 1, 'add': 1, 'share': 1, 'other.': 1, 'often': 1, 'alone': 1, 'berries': 1, 'beasts': 1, 'trustfully': 1, 'hare': 1, 'cabbage-leaf': 1, 'roe': 1, 'grazed': 1, 'side': 1, 'stag': 1, 'leapt': 1, 'merrily': 1, 'birds': 1, 'boughs': 1, 'sang': 1, 'whatever': 1, 'mishap': 1, 'overtook': 1, 'stayed': 1, 'moss': 1, 'slept': 1, 'worry': 1, 'account': 1, 'spent': 1, 'dawn': 1, 'roused': 1, 'child': 1, 'dress': 1, 'kindly': 1, 'sleeping': 1, 'precipice': 1, 'certainly': 1, 'fallen': 1, 'darkness': 1, 'gone': 1, 'paces': 1, 'told': 1, 'angel': 1, 'watches': 1, 'neat': 1, 'pleasure': 1, 'inside': 1, 'summer': 1, 'house': 1, 'wreath': 1, 'awoke': 1, 'rose': 1, 'lit': 1, 'hung': 1, 'hob': 1, 'brass': 1, 'brightly': 1, 'polished': 1, 'snowflakes': 1, 'spectacles': 1, 'aloud': 1, 'book': 1, 'listened': 1, 'spun': 1, 'floor': 1, 'perch': 1, 'hidden': 1, 'beneath': 1, 'wings': 1, 'thus': 1, 'knocked': 1, 'quick': 1, 'open': 1, 'traveller': 1, 'shelter.': 1, 'pushed': 1, 'thinking': 1, 'broad': 1, 'within': 1, 'bleated': 1, 'fluttered': 1, 'hid': 1, 'began': 1, 'speak': 1, 'half-frozen': 1, 'warm': 1, 'beside': 1, 'burn': 1, 'coat.': 1, 'means': 1, 'well.': 1, 'by-and-by': 1, 'knock': 1, 'brought': 1, 'broom': 1, 'swept': 1, 'hide': 1, 'contentedly': 1, 'grew': 1, 'played': 1, 'tricks': 1, 'guest': 1, 'tugged': 1, 'hair': 1, 'put': 1, 'feet': 1, 'rolled': 1, 'hazel-switch': 1, 'laughed': 1, 'rough': 1, 'alive': 1, 'wooer': 1, 'dead': 1, 'bed-time': 1, 'others': 1, 'safe': 1, 'cold': 1, 'weather.': 1, 'day': 1, 'dawned': 1, 'trotted': 1, 'henceforth': 1, 'amuse': 1, 'doors': 1, 'fastened': 1, 'friend': 1, 'arrived': 1, 'spring': 1, 'outside': 1, 'green': 1, 'whole': 1, 'summer.': 1, 'guard': 1, 'dwarfs': 1, 'frozen': 1, 'obliged': 1, 'stay': 1, 'work': 1, 'thawed': 1, 'warmed': 1, 'break': 1, 'pry': 1, 'steal': 1, 'gets': 1, 'caves': 1, 'easily': 1, 'daylight': 1, 'again.': 1, 'sorry': 1, 'departure': 1, 'unbolted': 1, 'hurrying': 1, 'hairy': 1, 'seemed': 1, 'sure': 1, 'sight': 1, 'trees': 1, 'short': 1, 'firewood': 1, 'felled': 1, 'ground': 1, 'trunk': 1, 'backwards': 1, 'forwards': 1, 'grass': 1, 'make': 1, 'withered': 1, 'yard': 1, 'crevice': 1, 'dog': 1, 'tied': 1, 'rope': 1, 'know': 1, 'glared': 1, 'fiery': 1, 'eyes': 1, 'stupid': 1, 'prying': 1, 'split': 1, 'cooking': 1, 'bit': 1, 'food': 1, 'burnt': 1, 'heavy': 1, 'logs': 1, 'swallow': 1, 'coarse': 1, 'greedy': 1, 'folk': 1, 'driven': 1, 'safely': 1, 'everything': 1, 'cursed': 1, 'smooth': 1, 'closed': 1, 'silly': 1, 'sleek': 1, 'milk-faced': 1, 'things': 1, 'laugh': 1, 'ugh': 1, 'odious': 1, 'senseless': 1, 'snarled': 1, 'think': 1, 'impatient': 1, 'pocket': 1, 'felt': 1, 'amongst': 1, 'roots': 1, 'lifted': 1, 'grumbling': 1, 'uncouth': 1, 'fine': 1, 'luck': 1, 'swung': 1, 'even': 1, 'looking': 1, 'catch': 1, 'dish': 1, 'brook': 1, 'grasshopper': 1, 'leap': 1, 'surely': 1, 'fool': 1, 'accursed': 1, 'wants': 1, 'fishing': 1, 'unluckily': 1, 'wind': 1, 'tangled': 1, 'fishing-line': 1, 'moment': 1, 'later': 1, 'bite': 1, 'feeble': 1, 'strength': 1, 'upper': 1, 'reeds': 1, 'forced': 1, 'follow': 1, 'movements': 1, 'urgent': 1, 'danger': 1, 'vain': 1, 'entangled': 1, 'bring': 1, 'whereby': 1, 'small': 1, 'lost': 1, 'civil': 1, 'toadstool': 1, 'disfigure': 1, 'enough': 1, 'clip': 1, 'best': 1, 'wish': 1, 'soles': 1, 'shoes': 1, 'pearls': 1, 'word': 1, 'disappeared': 1, 'stone': 1, 'happened': 1, 'buy': 1, 'needles': 1, 'thread': 1, 'laces': 1, 'ribbons': 1, 'road': 1, 'led': 1, 'huge': 1, 'pieces': 1, 'strewn': 1, 'noticed': 1, 'bird': 1, 'hovering': 1, 'air': 1, 'flying': 1, 'slowly': 1, 'sank': 1, 'settled': 1, 'far': 1, 'piteous': 1, 'cry': 1, 'horror': 1, 'seized': 1, 'acquaintance': 1, 'carry': 1, 'pity': 1, 'booty': 1, 'recovered': 1, 'first': 1, 'shrill': 1, 'done': 1, 'carefully': 1, 'brown': 1, 'holes': 1, 'creatures': 1, 'slipped': 1, 'hole': 1, 'ingratitude': 1, 'business': 1, 'crossed': 1, 'surprised': 1, 'emptied': 1, 'spot': 1, 'thought': 1, 'anyone': 1, 'brilliant': 1, 'glittered': 1, 'sparkled': 1, 'colours': 1, 'beautifully': 1, 'stared': 1, 'gaping': 1, 'ashen-grey': 1, 'became': 1, 'copper-red': 1, 'rage': 1, 'cursing': 1, 'growling': 1, 'trotting': 1, 'reach': 1, 'dread': 1, 'heart': 1, 'mr': 1, 'spare': 1, 'give': 1, 'jewels': 1, 'lying': 1, 'grant': 1, 'life': 1, 'slender': 1, 'feel': 1, 'teeth': 1, 'tender': 1, 'morsels': 1, 'fat': 1, 'young': 1, 'quails': 1, 'mercy': 1, 'sake': 1, 'heed': 1, 'words': 1, 'gave': 1, 'single': 1, 'blow': 1, 'paw': 1, 'move': 1, 'wait': 1, 'recognized': 1, 'waited': 1, 'bearskin': 1, 'handsome': 1, 'clothed': 1, 'king': 1, 'son': 1, 'bewitched': 1, 'stolen': 1, 'savage': 1, 'freed': 1, 'death': 1, 'well-deserved': 1, 'punishment': 1, 'married': 1, 'brother': 1, 'divided': 1, 'great': 1, 'treasure': 1, 'peacefully': 1, 'happily': 1, 'years': 1, 'window': 1, 'year': 1})\n"
          ]
        }
      ]
    },
    {
      "cell_type": "code",
      "source": [
        "import pandas as pd\n",
        "\n",
        "df = pd.DataFrame.from_dict(content_word_counts, orient=\"index\",\n",
        "                            columns=[\"count\"])\n",
        "df.sort_values(\"count\", ascending=False, inplace=True)\n",
        "print(df)\n"
      ],
      "metadata": {
        "colab": {
          "base_uri": "https://localhost:8080/"
        },
        "id": "O_MPAIqhIQw3",
        "outputId": "7d5046d3-2cbd-4d80-87e0-b90374de8719"
      },
      "execution_count": 142,
      "outputs": [
        {
          "output_type": "stream",
          "name": "stdout",
          "text": [
            "            count\n",
            "snow-white     19\n",
            "bear           19\n",
            "rose-red       17\n",
            "dwarf          15\n",
            "mother         15\n",
            "...           ...\n",
            "dawned          1\n",
            "day             1\n",
            "weather.        1\n",
            "cold            1\n",
            "year            1\n",
            "\n",
            "[591 rows x 1 columns]\n"
          ]
        }
      ]
    },
    {
      "cell_type": "code",
      "source": [],
      "metadata": {
        "id": "_Yd832qLJj62"
      },
      "execution_count": 142,
      "outputs": []
    },
    {
      "cell_type": "markdown",
      "source": [
        "## Exercises:\n",
        "\n",
        "### Calculate and compare the relative frequency of male and female pronouns in rapunzel.txt\n",
        "\n"
      ],
      "metadata": {
        "id": "JVzD0TCMI1AK"
      }
    },
    {
      "cell_type": "code",
      "source": [
        "# Tokenizing the text file\n",
        "\n",
        "rapunzel = open(os.path.join(grimms_folder, \"rapunzel.txt\"), encoding=\"utf-8\").read()\n",
        "\n",
        "tokens = word_tokenize(rapunzel)"
      ],
      "metadata": {
        "id": "Gvus3So5Iajj"
      },
      "execution_count": 143,
      "outputs": []
    },
    {
      "cell_type": "code",
      "source": [
        "# Checking is pronouns are stopwords or not\n",
        "\n",
        "if \"her\" in stopwords:\n",
        "  print(\"It's a stopword\")\n",
        "else:\n",
        "  print(\"It's not a stopword\")"
      ],
      "metadata": {
        "id": "poAzYifH5UKf",
        "colab": {
          "base_uri": "https://localhost:8080/"
        },
        "outputId": "275ffc1b-385c-4295-d9cb-6fe120b22ca2"
      },
      "execution_count": 144,
      "outputs": [
        {
          "output_type": "stream",
          "name": "stdout",
          "text": [
            "It's a stopword\n"
          ]
        }
      ]
    },
    {
      "cell_type": "code",
      "source": [
        "# Cleaning tokens of punctuation, and making all lowercase\n",
        "\n",
        "punctuation = list(string.punctuation)\n",
        "\n",
        "punctuation.append(\"‘\")\n",
        "punctuation.append(\"’\")\n",
        "\n",
        "for token in tokens:\n",
        "  if token in punctuation:\n",
        "    tokens.remove(token)\n",
        "\n",
        "tokens = [token.lower() for token in tokens]"
      ],
      "metadata": {
        "id": "0j8539aX4-H0"
      },
      "execution_count": 145,
      "outputs": []
    },
    {
      "cell_type": "code",
      "source": [
        "female_pronouns = [\"she\", \"her\", \"hers\", \"herself\"]\n",
        "male_pronouns = [\"he\", \"him\", \"his\", \"himself\"]\n",
        "\n",
        "female_pronoun_count = 0\n",
        "\n",
        "for x in female_pronouns:\n",
        "  for y in tokens:\n",
        "    if x == y:\n",
        "      female_pronoun_count += 1\n",
        "\n",
        "male_pronoun_count = 0\n",
        "\n",
        "for x in male_pronouns:\n",
        "  for y in tokens:\n",
        "     if x == y:\n",
        "      male_pronoun_count += 1\n",
        "\n",
        "relative_female_freq = female_pronoun_count / len(tokens)\n",
        "relative_male_freq = male_pronoun_count / len(tokens)\n",
        "\n",
        "print(\"The relative frequency of female pronouns is: \" + str(relative_female_freq))\n",
        "print(\"The relative frequency of male pronouns is: \" + str(relative_male_freq))"
      ],
      "metadata": {
        "id": "3U_oxEDQxIwE",
        "colab": {
          "base_uri": "https://localhost:8080/"
        },
        "outputId": "1c8e1425-dd03-43b0-a518-5870e1b13eda"
      },
      "execution_count": 146,
      "outputs": [
        {
          "output_type": "stream",
          "name": "stdout",
          "text": [
            "The relative frequency of female pronouns is: 0.042906574394463666\n",
            "The relative frequency of male pronouns is: 0.03875432525951557\n"
          ]
        }
      ]
    },
    {
      "cell_type": "code",
      "source": [],
      "metadata": {
        "id": "gJpXFp9m2lBu"
      },
      "execution_count": 146,
      "outputs": []
    },
    {
      "cell_type": "code",
      "source": [],
      "metadata": {
        "id": "2yJEsVWH2n4y"
      },
      "execution_count": 146,
      "outputs": []
    }
  ]
}