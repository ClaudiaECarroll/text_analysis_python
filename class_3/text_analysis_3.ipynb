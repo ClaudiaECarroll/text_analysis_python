{
  "nbformat": 4,
  "nbformat_minor": 0,
  "metadata": {
    "colab": {
      "provenance": []
    },
    "kernelspec": {
      "name": "python3",
      "display_name": "Python 3"
    },
    "language_info": {
      "name": "python"
    }
  },
  "cells": [
    {
      "cell_type": "code",
      "execution_count": 1,
      "metadata": {
        "id": "VfYZ9roK00HA"
      },
      "outputs": [],
      "source": [
        "import nltk\n",
        "from nltk.tokenize import sent_tokenize, word_tokenize\n",
        "\n",
        "import os\n",
        "import pandas as pd"
      ]
    },
    {
      "cell_type": "code",
      "source": [
        "grimms_folder = \"drive/MyDrive/grimms\""
      ],
      "metadata": {
        "id": "W03qMkAO1N6A"
      },
      "execution_count": 2,
      "outputs": []
    },
    {
      "cell_type": "code",
      "source": [
        "from google.colab import drive\n",
        "drive.mount('/content/drive')"
      ],
      "metadata": {
        "id": "OWy65OEkEJgH",
        "colab": {
          "base_uri": "https://localhost:8080/"
        },
        "outputId": "7767f47b-2dde-4aae-fac9-8a37b9735141"
      },
      "execution_count": 3,
      "outputs": [
        {
          "output_type": "stream",
          "name": "stdout",
          "text": [
            "Drive already mounted at /content/drive; to attempt to forcibly remount, call drive.mount(\"/content/drive\", force_remount=True).\n"
          ]
        }
      ]
    },
    {
      "cell_type": "markdown",
      "source": [
        "## Demo: Part-of-Speech Tagging and Named Entity Recognition"
      ],
      "metadata": {
        "id": "l1X2Nhr6_DqX"
      }
    },
    {
      "cell_type": "code",
      "source": [
        "!pip install svgling\n",
        "import svgling"
      ],
      "metadata": {
        "colab": {
          "base_uri": "https://localhost:8080/"
        },
        "id": "3rQ52zd68XDP",
        "outputId": "4d0b0ec9-6bcf-4a37-b543-af1644a81db1"
      },
      "execution_count": 4,
      "outputs": [
        {
          "output_type": "stream",
          "name": "stdout",
          "text": [
            "Collecting svgling\n",
            "  Downloading svgling-0.5.0-py3-none-any.whl.metadata (7.4 kB)\n",
            "Collecting svgwrite (from svgling)\n",
            "  Downloading svgwrite-1.4.3-py3-none-any.whl.metadata (8.8 kB)\n",
            "Downloading svgling-0.5.0-py3-none-any.whl (31 kB)\n",
            "Downloading svgwrite-1.4.3-py3-none-any.whl (67 kB)\n",
            "\u001b[2K   \u001b[90m━━━━━━━━━━━━━━━━━━━━━━━━━━━━━━━━━━━━━━━━\u001b[0m \u001b[32m67.1/67.1 kB\u001b[0m \u001b[31m2.5 MB/s\u001b[0m eta \u001b[36m0:00:00\u001b[0m\n",
            "\u001b[?25hInstalling collected packages: svgwrite, svgling\n",
            "Successfully installed svgling-0.5.0 svgwrite-1.4.3\n"
          ]
        }
      ]
    },
    {
      "cell_type": "code",
      "source": [
        "nltk.download('maxent_ne_chunker')\n",
        "nltk.download('words')\n",
        "nltk.download('averaged_perceptron_tagger')\n",
        "nltk.download('averaged_perceptron_tagger_eng')\n",
        "nltk.download('maxent_ne_chunker_tab')\n",
        "nltk.download('punkt')\n",
        "nltk.download('punkt_tab')\n",
        "nltk.download('tagsets')\n",
        "from nltk.tag import pos_tag\n",
        "from nltk.chunk import ne_chunk"
      ],
      "metadata": {
        "id": "bBFUUUJn-85v",
        "colab": {
          "base_uri": "https://localhost:8080/"
        },
        "outputId": "97085195-5a91-4ae3-898a-8fae226a84d2"
      },
      "execution_count": 24,
      "outputs": [
        {
          "output_type": "stream",
          "name": "stderr",
          "text": [
            "[nltk_data] Downloading package maxent_ne_chunker to\n",
            "[nltk_data]     /root/nltk_data...\n",
            "[nltk_data]   Package maxent_ne_chunker is already up-to-date!\n",
            "[nltk_data] Downloading package words to /root/nltk_data...\n",
            "[nltk_data]   Package words is already up-to-date!\n",
            "[nltk_data] Downloading package averaged_perceptron_tagger to\n",
            "[nltk_data]     /root/nltk_data...\n",
            "[nltk_data]   Package averaged_perceptron_tagger is already up-to-\n",
            "[nltk_data]       date!\n",
            "[nltk_data] Downloading package averaged_perceptron_tagger_eng to\n",
            "[nltk_data]     /root/nltk_data...\n",
            "[nltk_data]   Package averaged_perceptron_tagger_eng is already up-to-\n",
            "[nltk_data]       date!\n",
            "[nltk_data] Downloading package maxent_ne_chunker_tab to\n",
            "[nltk_data]     /root/nltk_data...\n",
            "[nltk_data]   Unzipping chunkers/maxent_ne_chunker_tab.zip.\n",
            "[nltk_data] Downloading package punkt to /root/nltk_data...\n",
            "[nltk_data]   Package punkt is already up-to-date!\n",
            "[nltk_data] Downloading package punkt_tab to /root/nltk_data...\n",
            "[nltk_data]   Package punkt_tab is already up-to-date!\n",
            "[nltk_data] Downloading package tagsets to /root/nltk_data...\n",
            "[nltk_data]   Package tagsets is already up-to-date!\n"
          ]
        }
      ]
    },
    {
      "cell_type": "code",
      "source": [
        "hansel_and_gretel = open(os.path.join(grimms_folder, \"hansel_and_gretel.txt\"), encoding=\"utf-8\").read()"
      ],
      "metadata": {
        "id": "y8g3Ix5poFjS"
      },
      "execution_count": 25,
      "outputs": []
    },
    {
      "cell_type": "code",
      "source": [
        "hansel_gretal_list = sent_tokenize(hansel_and_gretel)\n",
        "hansel_gretal_list[:2]"
      ],
      "metadata": {
        "id": "tlAgeVhr_0CO",
        "colab": {
          "base_uri": "https://localhost:8080/"
        },
        "outputId": "6fa07225-2689-4538-b5a4-e8bffa83f773"
      },
      "execution_count": 26,
      "outputs": [
        {
          "output_type": "execute_result",
          "data": {
            "text/plain": [
              "['Hard by a great forest dwelt a poor wood-cutter with his wife and his\\ntwo children.',\n",
              " 'The boy was called Hansel and the girl Gretel.']"
            ]
          },
          "metadata": {},
          "execution_count": 26
        }
      ]
    },
    {
      "cell_type": "code",
      "source": [
        "hansel_gretal_list = [x.replace(\"\\n\", \" \") for x in hansel_gretal_list]\n",
        "hansel_gretal_list[:2]"
      ],
      "metadata": {
        "id": "czGxAmgxA6YH",
        "colab": {
          "base_uri": "https://localhost:8080/"
        },
        "outputId": "53f42b73-c328-4374-fcf8-9bcc60be1c0d"
      },
      "execution_count": 27,
      "outputs": [
        {
          "output_type": "execute_result",
          "data": {
            "text/plain": [
              "['Hard by a great forest dwelt a poor wood-cutter with his wife and his two children.',\n",
              " 'The boy was called Hansel and the girl Gretel.']"
            ]
          },
          "metadata": {},
          "execution_count": 27
        }
      ]
    },
    {
      "cell_type": "code",
      "source": [
        "pos = [nltk.pos_tag(nltk.word_tokenize(x)) for x in hansel_gretal_list]\n",
        "pos[:1]"
      ],
      "metadata": {
        "id": "vLJ3TSNk_nrA",
        "colab": {
          "base_uri": "https://localhost:8080/"
        },
        "outputId": "c3a1cb47-fb6a-474e-8f65-904a25aa3b8b"
      },
      "execution_count": 28,
      "outputs": [
        {
          "output_type": "execute_result",
          "data": {
            "text/plain": [
              "[[('Hard', 'NNP'),\n",
              "  ('by', 'IN'),\n",
              "  ('a', 'DT'),\n",
              "  ('great', 'JJ'),\n",
              "  ('forest', 'NN'),\n",
              "  ('dwelt', 'VBD'),\n",
              "  ('a', 'DT'),\n",
              "  ('poor', 'JJ'),\n",
              "  ('wood-cutter', 'NN'),\n",
              "  ('with', 'IN'),\n",
              "  ('his', 'PRP$'),\n",
              "  ('wife', 'NN'),\n",
              "  ('and', 'CC'),\n",
              "  ('his', 'PRP$'),\n",
              "  ('two', 'CD'),\n",
              "  ('children', 'NNS'),\n",
              "  ('.', '.')]]"
            ]
          },
          "metadata": {},
          "execution_count": 28
        }
      ]
    },
    {
      "cell_type": "code",
      "source": [
        "ner_sentences = [ne_chunk(pos_tag(word_tokenize(sentence))) for sentence in hansel_gretal_list]"
      ],
      "metadata": {
        "id": "demKoafckkIy"
      },
      "execution_count": 29,
      "outputs": []
    },
    {
      "cell_type": "code",
      "source": [
        "ner_sentences[0]"
      ],
      "metadata": {
        "colab": {
          "base_uri": "https://localhost:8080/",
          "height": 189
        },
        "id": "9xOoI6HrIaPu",
        "outputId": "0b4a2960-f1cc-471f-e974-9b6cd892b110"
      },
      "execution_count": 30,
      "outputs": [
        {
          "output_type": "execute_result",
          "data": {
            "text/plain": [
              "Tree('S', [Tree('PERSON', [('Hard', 'NNP')]), ('by', 'IN'), ('a', 'DT'), ('great', 'JJ'), ('forest', 'NN'), ('dwelt', 'VBD'), ('a', 'DT'), ('poor', 'JJ'), ('wood-cutter', 'NN'), ('with', 'IN'), ('his', 'PRP$'), ('wife', 'NN'), ('and', 'CC'), ('his', 'PRP$'), ('two', 'CD'), ('children', 'NNS'), ('.', '.')])"
            ],
            "image/svg+xml": "<svg baseProfile=\"full\" height=\"168px\" preserveAspectRatio=\"xMidYMid meet\" style=\"font-family: times, serif; font-weight: normal; font-style: normal; font-size: 16px\" version=\"1.1\" viewBox=\"0,0,864.0,168.0\" width=\"864px\" xmlns=\"http://www.w3.org/2000/svg\" xmlns:ev=\"http://www.w3.org/2001/xml-events\" xmlns:xlink=\"http://www.w3.org/1999/xlink\"><defs /><svg width=\"100%\" x=\"0\" y=\"0px\"><defs /><text text-anchor=\"middle\" x=\"50%\" y=\"16px\">S</text></svg><svg width=\"7.40741%\" x=\"0%\" y=\"48px\"><defs /><svg width=\"100%\" x=\"0\" y=\"0px\"><defs /><text text-anchor=\"middle\" x=\"50%\" y=\"16px\">PERSON</text></svg><svg width=\"100%\" x=\"0%\" y=\"48px\"><defs /><svg width=\"100%\" x=\"0\" y=\"0px\"><defs /><text text-anchor=\"middle\" x=\"50%\" y=\"16px\">Hard</text></svg><svg width=\"100%\" x=\"0%\" y=\"48px\"><defs /><svg width=\"100%\" x=\"0\" y=\"0px\"><defs /><text text-anchor=\"middle\" x=\"50%\" y=\"16px\">NNP</text></svg></svg><line stroke=\"black\" x1=\"50%\" x2=\"50%\" y1=\"20px\" y2=\"48px\" /></svg><line stroke=\"black\" x1=\"50%\" x2=\"50%\" y1=\"20px\" y2=\"48px\" /></svg><line stroke=\"black\" x1=\"50%\" x2=\"3.7037%\" y1=\"20px\" y2=\"48px\" /><svg width=\"3.7037%\" x=\"7.40741%\" y=\"48px\"><defs /><svg width=\"100%\" x=\"0\" y=\"0px\"><defs /><text text-anchor=\"middle\" x=\"50%\" y=\"16px\">by</text></svg><svg width=\"100%\" x=\"0%\" y=\"48px\"><defs /><svg width=\"100%\" x=\"0\" y=\"0px\"><defs /><text text-anchor=\"middle\" x=\"50%\" y=\"16px\">IN</text></svg></svg><line stroke=\"black\" x1=\"50%\" x2=\"50%\" y1=\"20px\" y2=\"48px\" /></svg><line stroke=\"black\" x1=\"50%\" x2=\"9.25926%\" y1=\"20px\" y2=\"48px\" /><svg width=\"3.7037%\" x=\"11.1111%\" y=\"48px\"><defs /><svg width=\"100%\" x=\"0\" y=\"0px\"><defs /><text text-anchor=\"middle\" x=\"50%\" y=\"16px\">a</text></svg><svg width=\"100%\" x=\"0%\" y=\"48px\"><defs /><svg width=\"100%\" x=\"0\" y=\"0px\"><defs /><text text-anchor=\"middle\" x=\"50%\" y=\"16px\">DT</text></svg></svg><line stroke=\"black\" x1=\"50%\" x2=\"50%\" y1=\"20px\" y2=\"48px\" /></svg><line stroke=\"black\" x1=\"50%\" x2=\"12.963%\" y1=\"20px\" y2=\"48px\" /><svg width=\"6.48148%\" x=\"14.8148%\" y=\"48px\"><defs /><svg width=\"100%\" x=\"0\" y=\"0px\"><defs /><text text-anchor=\"middle\" x=\"50%\" y=\"16px\">great</text></svg><svg width=\"100%\" x=\"0%\" y=\"48px\"><defs /><svg width=\"100%\" x=\"0\" y=\"0px\"><defs /><text text-anchor=\"middle\" x=\"50%\" y=\"16px\">JJ</text></svg></svg><line stroke=\"black\" x1=\"50%\" x2=\"50%\" y1=\"20px\" y2=\"48px\" /></svg><line stroke=\"black\" x1=\"50%\" x2=\"18.0556%\" y1=\"20px\" y2=\"48px\" /><svg width=\"7.40741%\" x=\"21.2963%\" y=\"48px\"><defs /><svg width=\"100%\" x=\"0\" y=\"0px\"><defs /><text text-anchor=\"middle\" x=\"50%\" y=\"16px\">forest</text></svg><svg width=\"100%\" x=\"0%\" y=\"48px\"><defs /><svg width=\"100%\" x=\"0\" y=\"0px\"><defs /><text text-anchor=\"middle\" x=\"50%\" y=\"16px\">NN</text></svg></svg><line stroke=\"black\" x1=\"50%\" x2=\"50%\" y1=\"20px\" y2=\"48px\" /></svg><line stroke=\"black\" x1=\"50%\" x2=\"25%\" y1=\"20px\" y2=\"48px\" /><svg width=\"6.48148%\" x=\"28.7037%\" y=\"48px\"><defs /><svg width=\"100%\" x=\"0\" y=\"0px\"><defs /><text text-anchor=\"middle\" x=\"50%\" y=\"16px\">dwelt</text></svg><svg width=\"100%\" x=\"0%\" y=\"48px\"><defs /><svg width=\"100%\" x=\"0\" y=\"0px\"><defs /><text text-anchor=\"middle\" x=\"50%\" y=\"16px\">VBD</text></svg></svg><line stroke=\"black\" x1=\"50%\" x2=\"50%\" y1=\"20px\" y2=\"48px\" /></svg><line stroke=\"black\" x1=\"50%\" x2=\"31.9444%\" y1=\"20px\" y2=\"48px\" /><svg width=\"3.7037%\" x=\"35.1852%\" y=\"48px\"><defs /><svg width=\"100%\" x=\"0\" y=\"0px\"><defs /><text text-anchor=\"middle\" x=\"50%\" y=\"16px\">a</text></svg><svg width=\"100%\" x=\"0%\" y=\"48px\"><defs /><svg width=\"100%\" x=\"0\" y=\"0px\"><defs /><text text-anchor=\"middle\" x=\"50%\" y=\"16px\">DT</text></svg></svg><line stroke=\"black\" x1=\"50%\" x2=\"50%\" y1=\"20px\" y2=\"48px\" /></svg><line stroke=\"black\" x1=\"50%\" x2=\"37.037%\" y1=\"20px\" y2=\"48px\" /><svg width=\"5.55556%\" x=\"38.8889%\" y=\"48px\"><defs /><svg width=\"100%\" x=\"0\" y=\"0px\"><defs /><text text-anchor=\"middle\" x=\"50%\" y=\"16px\">poor</text></svg><svg width=\"100%\" x=\"0%\" y=\"48px\"><defs /><svg width=\"100%\" x=\"0\" y=\"0px\"><defs /><text text-anchor=\"middle\" x=\"50%\" y=\"16px\">JJ</text></svg></svg><line stroke=\"black\" x1=\"50%\" x2=\"50%\" y1=\"20px\" y2=\"48px\" /></svg><line stroke=\"black\" x1=\"50%\" x2=\"41.6667%\" y1=\"20px\" y2=\"48px\" /><svg width=\"12.037%\" x=\"44.4444%\" y=\"48px\"><defs /><svg width=\"100%\" x=\"0\" y=\"0px\"><defs /><text text-anchor=\"middle\" x=\"50%\" y=\"16px\">wood-cutter</text></svg><svg width=\"100%\" x=\"0%\" y=\"48px\"><defs /><svg width=\"100%\" x=\"0\" y=\"0px\"><defs /><text text-anchor=\"middle\" x=\"50%\" y=\"16px\">NN</text></svg></svg><line stroke=\"black\" x1=\"50%\" x2=\"50%\" y1=\"20px\" y2=\"48px\" /></svg><line stroke=\"black\" x1=\"50%\" x2=\"50.463%\" y1=\"20px\" y2=\"48px\" /><svg width=\"5.55556%\" x=\"56.4815%\" y=\"48px\"><defs /><svg width=\"100%\" x=\"0\" y=\"0px\"><defs /><text text-anchor=\"middle\" x=\"50%\" y=\"16px\">with</text></svg><svg width=\"100%\" x=\"0%\" y=\"48px\"><defs /><svg width=\"100%\" x=\"0\" y=\"0px\"><defs /><text text-anchor=\"middle\" x=\"50%\" y=\"16px\">IN</text></svg></svg><line stroke=\"black\" x1=\"50%\" x2=\"50%\" y1=\"20px\" y2=\"48px\" /></svg><line stroke=\"black\" x1=\"50%\" x2=\"59.2593%\" y1=\"20px\" y2=\"48px\" /><svg width=\"5.55556%\" x=\"62.037%\" y=\"48px\"><defs /><svg width=\"100%\" x=\"0\" y=\"0px\"><defs /><text text-anchor=\"middle\" x=\"50%\" y=\"16px\">his</text></svg><svg width=\"100%\" x=\"0%\" y=\"48px\"><defs /><svg width=\"100%\" x=\"0\" y=\"0px\"><defs /><text text-anchor=\"middle\" x=\"50%\" y=\"16px\">PRP$</text></svg></svg><line stroke=\"black\" x1=\"50%\" x2=\"50%\" y1=\"20px\" y2=\"48px\" /></svg><line stroke=\"black\" x1=\"50%\" x2=\"64.8148%\" y1=\"20px\" y2=\"48px\" /><svg width=\"5.55556%\" x=\"67.5926%\" y=\"48px\"><defs /><svg width=\"100%\" x=\"0\" y=\"0px\"><defs /><text text-anchor=\"middle\" x=\"50%\" y=\"16px\">wife</text></svg><svg width=\"100%\" x=\"0%\" y=\"48px\"><defs /><svg width=\"100%\" x=\"0\" y=\"0px\"><defs /><text text-anchor=\"middle\" x=\"50%\" y=\"16px\">NN</text></svg></svg><line stroke=\"black\" x1=\"50%\" x2=\"50%\" y1=\"20px\" y2=\"48px\" /></svg><line stroke=\"black\" x1=\"50%\" x2=\"70.3704%\" y1=\"20px\" y2=\"48px\" /><svg width=\"4.62963%\" x=\"73.1481%\" y=\"48px\"><defs /><svg width=\"100%\" x=\"0\" y=\"0px\"><defs /><text text-anchor=\"middle\" x=\"50%\" y=\"16px\">and</text></svg><svg width=\"100%\" x=\"0%\" y=\"48px\"><defs /><svg width=\"100%\" x=\"0\" y=\"0px\"><defs /><text text-anchor=\"middle\" x=\"50%\" y=\"16px\">CC</text></svg></svg><line stroke=\"black\" x1=\"50%\" x2=\"50%\" y1=\"20px\" y2=\"48px\" /></svg><line stroke=\"black\" x1=\"50%\" x2=\"75.463%\" y1=\"20px\" y2=\"48px\" /><svg width=\"5.55556%\" x=\"77.7778%\" y=\"48px\"><defs /><svg width=\"100%\" x=\"0\" y=\"0px\"><defs /><text text-anchor=\"middle\" x=\"50%\" y=\"16px\">his</text></svg><svg width=\"100%\" x=\"0%\" y=\"48px\"><defs /><svg width=\"100%\" x=\"0\" y=\"0px\"><defs /><text text-anchor=\"middle\" x=\"50%\" y=\"16px\">PRP$</text></svg></svg><line stroke=\"black\" x1=\"50%\" x2=\"50%\" y1=\"20px\" y2=\"48px\" /></svg><line stroke=\"black\" x1=\"50%\" x2=\"80.5556%\" y1=\"20px\" y2=\"48px\" /><svg width=\"4.62963%\" x=\"83.3333%\" y=\"48px\"><defs /><svg width=\"100%\" x=\"0\" y=\"0px\"><defs /><text text-anchor=\"middle\" x=\"50%\" y=\"16px\">two</text></svg><svg width=\"100%\" x=\"0%\" y=\"48px\"><defs /><svg width=\"100%\" x=\"0\" y=\"0px\"><defs /><text text-anchor=\"middle\" x=\"50%\" y=\"16px\">CD</text></svg></svg><line stroke=\"black\" x1=\"50%\" x2=\"50%\" y1=\"20px\" y2=\"48px\" /></svg><line stroke=\"black\" x1=\"50%\" x2=\"85.6481%\" y1=\"20px\" y2=\"48px\" /><svg width=\"9.25926%\" x=\"87.963%\" y=\"48px\"><defs /><svg width=\"100%\" x=\"0\" y=\"0px\"><defs /><text text-anchor=\"middle\" x=\"50%\" y=\"16px\">children</text></svg><svg width=\"100%\" x=\"0%\" y=\"48px\"><defs /><svg width=\"100%\" x=\"0\" y=\"0px\"><defs /><text text-anchor=\"middle\" x=\"50%\" y=\"16px\">NNS</text></svg></svg><line stroke=\"black\" x1=\"50%\" x2=\"50%\" y1=\"20px\" y2=\"48px\" /></svg><line stroke=\"black\" x1=\"50%\" x2=\"92.5926%\" y1=\"20px\" y2=\"48px\" /><svg width=\"2.77778%\" x=\"97.2222%\" y=\"48px\"><defs /><svg width=\"100%\" x=\"0\" y=\"0px\"><defs /><text text-anchor=\"middle\" x=\"50%\" y=\"16px\">.</text></svg><svg width=\"100%\" x=\"0%\" y=\"48px\"><defs /><svg width=\"100%\" x=\"0\" y=\"0px\"><defs /><text text-anchor=\"middle\" x=\"50%\" y=\"16px\">.</text></svg></svg><line stroke=\"black\" x1=\"50%\" x2=\"50%\" y1=\"20px\" y2=\"48px\" /></svg><line stroke=\"black\" x1=\"50%\" x2=\"98.6111%\" y1=\"20px\" y2=\"48px\" /></svg>"
          },
          "metadata": {},
          "execution_count": 30
        }
      ]
    },
    {
      "cell_type": "code",
      "source": [
        "type(ner_sentences[0])"
      ],
      "metadata": {
        "id": "Qh51QExcLQwV",
        "colab": {
          "base_uri": "https://localhost:8080/",
          "height": 187
        },
        "outputId": "9f1e4096-53c5-4c56-a4d5-bb25e912936f"
      },
      "execution_count": 31,
      "outputs": [
        {
          "output_type": "execute_result",
          "data": {
            "text/plain": [
              "nltk.tree.tree.Tree"
            ],
            "text/html": [
              "<div style=\"max-width:800px; border: 1px solid var(--colab-border-color);\"><style>\n",
              "      pre.function-repr-contents {\n",
              "        overflow-x: auto;\n",
              "        padding: 8px 12px;\n",
              "        max-height: 500px;\n",
              "      }\n",
              "\n",
              "      pre.function-repr-contents.function-repr-contents-collapsed {\n",
              "        cursor: pointer;\n",
              "        max-height: 100px;\n",
              "      }\n",
              "    </style>\n",
              "    <pre style=\"white-space: initial; background:\n",
              "         var(--colab-secondary-surface-color); padding: 8px 12px;\n",
              "         border-bottom: 1px solid var(--colab-border-color);\"><b>nltk.tree.tree.Tree</b><br/>def __init__(node, children=None)</pre><pre class=\"function-repr-contents function-repr-contents-collapsed\" style=\"\"><a class=\"filepath\" style=\"display:none\" href=\"#\">/usr/local/lib/python3.10/dist-packages/nltk/tree/tree.py</a>A Tree represents a hierarchical grouping of leaves and subtrees.\n",
              "For example, each constituent in a syntax tree is represented by a single Tree.\n",
              "\n",
              "A tree&#x27;s children are encoded as a list of leaves and subtrees,\n",
              "where a leaf is a basic (non-tree) value; and a subtree is a\n",
              "nested Tree.\n",
              "\n",
              "    &gt;&gt;&gt; from nltk.tree import Tree\n",
              "    &gt;&gt;&gt; print(Tree(1, [2, Tree(3, [4]), 5]))\n",
              "    (1 2 (3 4) 5)\n",
              "    &gt;&gt;&gt; vp = Tree(&#x27;VP&#x27;, [Tree(&#x27;V&#x27;, [&#x27;saw&#x27;]),\n",
              "    ...                  Tree(&#x27;NP&#x27;, [&#x27;him&#x27;])])\n",
              "    &gt;&gt;&gt; s = Tree(&#x27;S&#x27;, [Tree(&#x27;NP&#x27;, [&#x27;I&#x27;]), vp])\n",
              "    &gt;&gt;&gt; print(s)\n",
              "    (S (NP I) (VP (V saw) (NP him)))\n",
              "    &gt;&gt;&gt; print(s[1])\n",
              "    (VP (V saw) (NP him))\n",
              "    &gt;&gt;&gt; print(s[1,1])\n",
              "    (NP him)\n",
              "    &gt;&gt;&gt; t = Tree.fromstring(&quot;(S (NP I) (VP (V saw) (NP him)))&quot;)\n",
              "    &gt;&gt;&gt; s == t\n",
              "    True\n",
              "    &gt;&gt;&gt; t[1][1].set_label(&#x27;X&#x27;)\n",
              "    &gt;&gt;&gt; t[1][1].label()\n",
              "    &#x27;X&#x27;\n",
              "    &gt;&gt;&gt; print(t)\n",
              "    (S (NP I) (VP (V saw) (X him)))\n",
              "    &gt;&gt;&gt; t[0], t[1,1] = t[1,1], t[0]\n",
              "    &gt;&gt;&gt; print(t)\n",
              "    (S (X him) (VP (V saw) (NP I)))\n",
              "\n",
              "The length of a tree is the number of children it has.\n",
              "\n",
              "    &gt;&gt;&gt; len(t)\n",
              "    2\n",
              "\n",
              "The set_label() and label() methods allow individual constituents\n",
              "to be labeled.  For example, syntax trees use this label to specify\n",
              "phrase tags, such as &quot;NP&quot; and &quot;VP&quot;.\n",
              "\n",
              "Several Tree methods use &quot;tree positions&quot; to specify\n",
              "children or descendants of a tree.  Tree positions are defined as\n",
              "follows:\n",
              "\n",
              "  - The tree position *i* specifies a Tree&#x27;s *i*\\ th child.\n",
              "  - The tree position ``()`` specifies the Tree itself.\n",
              "  - If *p* is the tree position of descendant *d*, then\n",
              "    *p+i* specifies the *i*\\ th child of *d*.\n",
              "\n",
              "I.e., every tree position is either a single index *i*,\n",
              "specifying ``tree[i]``; or a sequence *i1, i2, ..., iN*,\n",
              "specifying ``tree[i1][i2]...[iN]``.\n",
              "\n",
              "Construct a new tree.  This constructor can be called in one\n",
              "of two ways:\n",
              "\n",
              "- ``Tree(label, children)`` constructs a new tree with the\n",
              "    specified label and list of children.\n",
              "\n",
              "- ``Tree.fromstring(s)`` constructs a new tree by parsing the string ``s``.</pre>\n",
              "      <script>\n",
              "      if (google.colab.kernel.accessAllowed && google.colab.files && google.colab.files.view) {\n",
              "        for (const element of document.querySelectorAll('.filepath')) {\n",
              "          element.style.display = 'block'\n",
              "          element.onclick = (event) => {\n",
              "            event.preventDefault();\n",
              "            event.stopPropagation();\n",
              "            google.colab.files.view(element.textContent, 28);\n",
              "          };\n",
              "        }\n",
              "      }\n",
              "      for (const element of document.querySelectorAll('.function-repr-contents')) {\n",
              "        element.onclick = (event) => {\n",
              "          event.preventDefault();\n",
              "          event.stopPropagation();\n",
              "          element.classList.toggle('function-repr-contents-collapsed');\n",
              "        };\n",
              "      }\n",
              "      </script>\n",
              "      </div>"
            ]
          },
          "metadata": {},
          "execution_count": 31
        }
      ]
    },
    {
      "cell_type": "code",
      "source": [
        "tree_svg = svgling.draw_tree(ner_sentences[1])\n",
        "display(tree_svg)"
      ],
      "metadata": {
        "id": "QJnZVHFVhBqT",
        "colab": {
          "base_uri": "https://localhost:8080/",
          "height": 189
        },
        "outputId": "bb903bf8-a06f-4e4e-df03-3cfa0f1fee74"
      },
      "execution_count": 32,
      "outputs": [
        {
          "output_type": "display_data",
          "data": {
            "text/plain": [
              "TreeLayout(Tree('S', [('The', 'DT'), ('boy', 'NN'), ('was', 'VBD'), ('called', 'VBN'), Tree('PERSON', [('Hansel', 'NNP')]), ('and', 'CC'), ('the', 'DT'), ('girl', 'JJ'), Tree('GPE', [('Gretel', 'NNP')]), ('.', '.')]))"
            ],
            "image/svg+xml": "<svg baseProfile=\"full\" height=\"168px\" preserveAspectRatio=\"xMidYMid meet\" style=\"font-family: times, serif; font-weight: normal; font-style: normal; font-size: 16px\" version=\"1.1\" viewBox=\"0,0,464.0,168.0\" width=\"464px\" xmlns=\"http://www.w3.org/2000/svg\" xmlns:ev=\"http://www.w3.org/2001/xml-events\" xmlns:xlink=\"http://www.w3.org/1999/xlink\"><defs /><svg width=\"100%\" x=\"0\" y=\"0px\"><defs /><text text-anchor=\"middle\" x=\"50%\" y=\"16px\">S</text></svg><svg width=\"8.62069%\" x=\"0%\" y=\"48px\"><defs /><svg width=\"100%\" x=\"0\" y=\"0px\"><defs /><text text-anchor=\"middle\" x=\"50%\" y=\"16px\">The</text></svg><svg width=\"100%\" x=\"0%\" y=\"48px\"><defs /><svg width=\"100%\" x=\"0\" y=\"0px\"><defs /><text text-anchor=\"middle\" x=\"50%\" y=\"16px\">DT</text></svg></svg><line stroke=\"black\" x1=\"50%\" x2=\"50%\" y1=\"20px\" y2=\"48px\" /></svg><line stroke=\"black\" x1=\"50%\" x2=\"4.31034%\" y1=\"20px\" y2=\"48px\" /><svg width=\"8.62069%\" x=\"8.62069%\" y=\"48px\"><defs /><svg width=\"100%\" x=\"0\" y=\"0px\"><defs /><text text-anchor=\"middle\" x=\"50%\" y=\"16px\">boy</text></svg><svg width=\"100%\" x=\"0%\" y=\"48px\"><defs /><svg width=\"100%\" x=\"0\" y=\"0px\"><defs /><text text-anchor=\"middle\" x=\"50%\" y=\"16px\">NN</text></svg></svg><line stroke=\"black\" x1=\"50%\" x2=\"50%\" y1=\"20px\" y2=\"48px\" /></svg><line stroke=\"black\" x1=\"50%\" x2=\"12.931%\" y1=\"20px\" y2=\"48px\" /><svg width=\"8.62069%\" x=\"17.2414%\" y=\"48px\"><defs /><svg width=\"100%\" x=\"0\" y=\"0px\"><defs /><text text-anchor=\"middle\" x=\"50%\" y=\"16px\">was</text></svg><svg width=\"100%\" x=\"0%\" y=\"48px\"><defs /><svg width=\"100%\" x=\"0\" y=\"0px\"><defs /><text text-anchor=\"middle\" x=\"50%\" y=\"16px\">VBD</text></svg></svg><line stroke=\"black\" x1=\"50%\" x2=\"50%\" y1=\"20px\" y2=\"48px\" /></svg><line stroke=\"black\" x1=\"50%\" x2=\"21.5517%\" y1=\"20px\" y2=\"48px\" /><svg width=\"13.7931%\" x=\"25.8621%\" y=\"48px\"><defs /><svg width=\"100%\" x=\"0\" y=\"0px\"><defs /><text text-anchor=\"middle\" x=\"50%\" y=\"16px\">called</text></svg><svg width=\"100%\" x=\"0%\" y=\"48px\"><defs /><svg width=\"100%\" x=\"0\" y=\"0px\"><defs /><text text-anchor=\"middle\" x=\"50%\" y=\"16px\">VBN</text></svg></svg><line stroke=\"black\" x1=\"50%\" x2=\"50%\" y1=\"20px\" y2=\"48px\" /></svg><line stroke=\"black\" x1=\"50%\" x2=\"32.7586%\" y1=\"20px\" y2=\"48px\" /><svg width=\"13.7931%\" x=\"39.6552%\" y=\"48px\"><defs /><svg width=\"100%\" x=\"0\" y=\"0px\"><defs /><text text-anchor=\"middle\" x=\"50%\" y=\"16px\">PERSON</text></svg><svg width=\"100%\" x=\"0%\" y=\"48px\"><defs /><svg width=\"100%\" x=\"0\" y=\"0px\"><defs /><text text-anchor=\"middle\" x=\"50%\" y=\"16px\">Hansel</text></svg><svg width=\"100%\" x=\"0%\" y=\"48px\"><defs /><svg width=\"100%\" x=\"0\" y=\"0px\"><defs /><text text-anchor=\"middle\" x=\"50%\" y=\"16px\">NNP</text></svg></svg><line stroke=\"black\" x1=\"50%\" x2=\"50%\" y1=\"20px\" y2=\"48px\" /></svg><line stroke=\"black\" x1=\"50%\" x2=\"50%\" y1=\"20px\" y2=\"48px\" /></svg><line stroke=\"black\" x1=\"50%\" x2=\"46.5517%\" y1=\"20px\" y2=\"48px\" /><svg width=\"8.62069%\" x=\"53.4483%\" y=\"48px\"><defs /><svg width=\"100%\" x=\"0\" y=\"0px\"><defs /><text text-anchor=\"middle\" x=\"50%\" y=\"16px\">and</text></svg><svg width=\"100%\" x=\"0%\" y=\"48px\"><defs /><svg width=\"100%\" x=\"0\" y=\"0px\"><defs /><text text-anchor=\"middle\" x=\"50%\" y=\"16px\">CC</text></svg></svg><line stroke=\"black\" x1=\"50%\" x2=\"50%\" y1=\"20px\" y2=\"48px\" /></svg><line stroke=\"black\" x1=\"50%\" x2=\"57.7586%\" y1=\"20px\" y2=\"48px\" /><svg width=\"8.62069%\" x=\"62.069%\" y=\"48px\"><defs /><svg width=\"100%\" x=\"0\" y=\"0px\"><defs /><text text-anchor=\"middle\" x=\"50%\" y=\"16px\">the</text></svg><svg width=\"100%\" x=\"0%\" y=\"48px\"><defs /><svg width=\"100%\" x=\"0\" y=\"0px\"><defs /><text text-anchor=\"middle\" x=\"50%\" y=\"16px\">DT</text></svg></svg><line stroke=\"black\" x1=\"50%\" x2=\"50%\" y1=\"20px\" y2=\"48px\" /></svg><line stroke=\"black\" x1=\"50%\" x2=\"66.3793%\" y1=\"20px\" y2=\"48px\" /><svg width=\"10.3448%\" x=\"70.6897%\" y=\"48px\"><defs /><svg width=\"100%\" x=\"0\" y=\"0px\"><defs /><text text-anchor=\"middle\" x=\"50%\" y=\"16px\">girl</text></svg><svg width=\"100%\" x=\"0%\" y=\"48px\"><defs /><svg width=\"100%\" x=\"0\" y=\"0px\"><defs /><text text-anchor=\"middle\" x=\"50%\" y=\"16px\">JJ</text></svg></svg><line stroke=\"black\" x1=\"50%\" x2=\"50%\" y1=\"20px\" y2=\"48px\" /></svg><line stroke=\"black\" x1=\"50%\" x2=\"75.8621%\" y1=\"20px\" y2=\"48px\" /><svg width=\"13.7931%\" x=\"81.0345%\" y=\"48px\"><defs /><svg width=\"100%\" x=\"0\" y=\"0px\"><defs /><text text-anchor=\"middle\" x=\"50%\" y=\"16px\">GPE</text></svg><svg width=\"100%\" x=\"0%\" y=\"48px\"><defs /><svg width=\"100%\" x=\"0\" y=\"0px\"><defs /><text text-anchor=\"middle\" x=\"50%\" y=\"16px\">Gretel</text></svg><svg width=\"100%\" x=\"0%\" y=\"48px\"><defs /><svg width=\"100%\" x=\"0\" y=\"0px\"><defs /><text text-anchor=\"middle\" x=\"50%\" y=\"16px\">NNP</text></svg></svg><line stroke=\"black\" x1=\"50%\" x2=\"50%\" y1=\"20px\" y2=\"48px\" /></svg><line stroke=\"black\" x1=\"50%\" x2=\"50%\" y1=\"20px\" y2=\"48px\" /></svg><line stroke=\"black\" x1=\"50%\" x2=\"87.931%\" y1=\"20px\" y2=\"48px\" /><svg width=\"5.17241%\" x=\"94.8276%\" y=\"48px\"><defs /><svg width=\"100%\" x=\"0\" y=\"0px\"><defs /><text text-anchor=\"middle\" x=\"50%\" y=\"16px\">.</text></svg><svg width=\"100%\" x=\"0%\" y=\"48px\"><defs /><svg width=\"100%\" x=\"0\" y=\"0px\"><defs /><text text-anchor=\"middle\" x=\"50%\" y=\"16px\">.</text></svg></svg><line stroke=\"black\" x1=\"50%\" x2=\"50%\" y1=\"20px\" y2=\"48px\" /></svg><line stroke=\"black\" x1=\"50%\" x2=\"97.4138%\" y1=\"20px\" y2=\"48px\" /></svg>"
          },
          "metadata": {}
        }
      ]
    },
    {
      "cell_type": "code",
      "source": [
        "subtree = ner_sentences[1][4]\n",
        "print(subtree)"
      ],
      "metadata": {
        "id": "gIpZgKbCmHw8",
        "colab": {
          "base_uri": "https://localhost:8080/"
        },
        "outputId": "9a53e72f-d400-4985-80bb-1a842f21f39f"
      },
      "execution_count": 33,
      "outputs": [
        {
          "output_type": "stream",
          "name": "stdout",
          "text": [
            "(PERSON Hansel/NNP)\n"
          ]
        }
      ]
    },
    {
      "cell_type": "code",
      "source": [
        "ner_sentences[:4]"
      ],
      "metadata": {
        "colab": {
          "base_uri": "https://localhost:8080/"
        },
        "id": "osEqmle20BkZ",
        "outputId": "10982494-f3fd-4258-8447-206747dd6b86"
      },
      "execution_count": 45,
      "outputs": [
        {
          "output_type": "execute_result",
          "data": {
            "text/plain": [
              "[Tree('S', [Tree('PERSON', [('Hard', 'NNP')]), ('by', 'IN'), ('a', 'DT'), ('great', 'JJ'), ('forest', 'NN'), ('dwelt', 'VBD'), ('a', 'DT'), ('poor', 'JJ'), ('wood-cutter', 'NN'), ('with', 'IN'), ('his', 'PRP$'), ('wife', 'NN'), ('and', 'CC'), ('his', 'PRP$'), ('two', 'CD'), ('children', 'NNS'), ('.', '.')]),\n",
              " Tree('S', [('The', 'DT'), ('boy', 'NN'), ('was', 'VBD'), ('called', 'VBN'), Tree('PERSON', [('Hansel', 'NNP')]), ('and', 'CC'), ('the', 'DT'), ('girl', 'JJ'), Tree('GPE', [('Gretel', 'NNP')]), ('.', '.')]),\n",
              " Tree('S', [('He', 'PRP'), ('had', 'VBD'), ('little', 'JJ'), ('to', 'TO'), ('bite', 'VB'), ('and', 'CC'), ('to', 'TO'), ('break', 'VB'), (',', ','), ('and', 'CC'), ('once', 'RB'), ('when', 'WRB'), ('great', 'JJ'), ('dearth', 'NN'), ('fell', 'VBD'), ('on', 'IN'), ('the', 'DT'), ('land', 'NN'), (',', ','), ('he', 'PRP'), ('could', 'MD'), ('no', 'RB'), ('longer', 'RBR'), ('procure', 'VB'), ('even', 'RB'), ('daily', 'JJ'), ('bread', 'NN'), ('.', '.')]),\n",
              " Tree('S', [('Now', 'RB'), ('when', 'WRB'), ('he', 'PRP'), ('thought', 'VBD'), ('over', 'IN'), ('this', 'DT'), ('by', 'IN'), ('night', 'NN'), ('in', 'IN'), ('his', 'PRP$'), ('bed', 'NN'), (',', ','), ('and', 'CC'), ('tossed', 'VBD'), ('about', 'IN'), ('in', 'IN'), ('his', 'PRP$'), ('anxiety', 'NN'), (',', ','), ('he', 'PRP'), ('groaned', 'VBD'), ('and', 'CC'), ('said', 'VBD'), ('to', 'TO'), ('his', 'PRP$'), ('wife', 'NN'), (':', ':'), ('‘', 'VB'), ('What', 'WP'), ('is', 'VBZ'), ('to', 'TO'), ('become', 'VB'), ('of', 'IN'), ('us', 'PRP'), ('?', '.')])]"
            ]
          },
          "metadata": {},
          "execution_count": 45
        }
      ]
    },
    {
      "cell_type": "code",
      "source": [
        "print(subtree.leaves())"
      ],
      "metadata": {
        "colab": {
          "base_uri": "https://localhost:8080/"
        },
        "id": "Dfvb7y3iKV_T",
        "outputId": "94f8552a-13f4-406e-9389-e196065baab8"
      },
      "execution_count": 34,
      "outputs": [
        {
          "output_type": "stream",
          "name": "stdout",
          "text": [
            "[('Hansel', 'NNP')]\n"
          ]
        }
      ]
    },
    {
      "cell_type": "code",
      "source": [
        "entity_name = subtree.leaves()[0][0]\n",
        "print(entity_name)"
      ],
      "metadata": {
        "id": "T8nryZ5zmHuV",
        "colab": {
          "base_uri": "https://localhost:8080/"
        },
        "outputId": "bf16b00e-8614-4556-8a12-60a0a46711bf"
      },
      "execution_count": 35,
      "outputs": [
        {
          "output_type": "stream",
          "name": "stdout",
          "text": [
            "Hansel\n"
          ]
        }
      ]
    },
    {
      "cell_type": "code",
      "source": [
        "entity_type = subtree.label()\n",
        "print(entity_type)"
      ],
      "metadata": {
        "id": "8gdkwXramHrT",
        "colab": {
          "base_uri": "https://localhost:8080/"
        },
        "outputId": "586d5136-d856-4f10-dd17-2aa2515a5f04"
      },
      "execution_count": 36,
      "outputs": [
        {
          "output_type": "stream",
          "name": "stdout",
          "text": [
            "PERSON\n"
          ]
        }
      ]
    },
    {
      "cell_type": "code",
      "source": [
        "type(entity_name)"
      ],
      "metadata": {
        "colab": {
          "base_uri": "https://localhost:8080/"
        },
        "id": "Ed3mswwxLu0B",
        "outputId": "32f542aa-a3e7-465a-912a-21068d3c340d"
      },
      "execution_count": 37,
      "outputs": [
        {
          "output_type": "execute_result",
          "data": {
            "text/plain": [
              "str"
            ]
          },
          "metadata": {},
          "execution_count": 37
        }
      ]
    },
    {
      "cell_type": "code",
      "source": [
        "named_entities = {}\n",
        "\n",
        "for sentence in ner_sentences:\n",
        "  for subtree in sentence:\n",
        "      if hasattr(subtree, 'label'):\n",
        "          entity_name = subtree.leaves()[0][0]\n",
        "          entity_type = subtree.label()\n",
        "\n",
        "          if entity_type in named_entities:\n",
        "            named_entities[entity_type].append(entity_name)\n",
        "          else:\n",
        "            named_entities[entity_type] = [entity_name]\n",
        "\n",
        "\n",
        "print(\"Named Entities:\", named_entities)"
      ],
      "metadata": {
        "id": "9L5UQAVcJvoT",
        "colab": {
          "base_uri": "https://localhost:8080/"
        },
        "outputId": "efe9a332-f128-4f13-fe8c-64f877738f23"
      },
      "execution_count": 38,
      "outputs": [
        {
          "output_type": "stream",
          "name": "stdout",
          "text": [
            "Named Entities: {'PERSON': ['Hard', 'Hansel', 'Hansel', 'Hansel', 'God', 'Gretel', 'Hansel', 'Hansel', 'Hansel', 'Hansel', 'Fool', 'Hansel', 'Hansel', 'Hansel', 'Hansel', 'Hansel', 'Hansel', 'Hansel', 'Hansel', 'Hansel', 'Hansel', 'Hansel', 'Hansel', 'Hansel', 'Nibble', 'Hansel', 'Hansel', 'Hansel', 'Gretel', 'Hansel', 'Gretel', 'Hansel', 'Hansel', 'Hansel', 'Hansel', 'Gretel', 'Gretel', 'Hansel', 'Hansel', 'Gretel', 'Hansel', 'Hansel', 'Hansel', 'Hansel', 'Hansel'], 'GPE': ['Gretel', 'Gretel', 'Hansel', 'Gretel', 'Gretel', 'Pay', 'Gretel', 'Gretel', 'Gretel', 'Gretel', 'Gretel', 'Gretel', 'Gretel', 'Gretel', 'Gretel', 'Gretel', 'Hansel', 'Gretel', 'Hansel', 'Gretel', 'Gretel', 'Gretel', 'Scream', 'Gretel', 'Gretel', 'Gretel', 'Gretel', 'Gretel', 'Gretel', 'Gretel', 'Hansel', 'Gretel', 'Gretel', 'Gretel', 'Gretel']}\n"
          ]
        }
      ]
    },
    {
      "cell_type": "code",
      "source": [
        "type(named_entities)"
      ],
      "metadata": {
        "id": "ghYkg2dtsYR7",
        "colab": {
          "base_uri": "https://localhost:8080/"
        },
        "outputId": "80d3ad1d-8007-42b7-c35b-aee99c907e81"
      },
      "execution_count": 39,
      "outputs": [
        {
          "output_type": "execute_result",
          "data": {
            "text/plain": [
              "dict"
            ]
          },
          "metadata": {},
          "execution_count": 39
        }
      ]
    },
    {
      "cell_type": "code",
      "source": [
        "from collections import Counter\n",
        "\n",
        "person_counts = Counter(named_entities.get('PERSON', []))\n",
        "\n",
        "# Display the result\n",
        "print(\"Person Counts:\", person_counts)"
      ],
      "metadata": {
        "id": "0Q-SHsOTpkXI",
        "colab": {
          "base_uri": "https://localhost:8080/"
        },
        "outputId": "6a0f6110-6c6b-41be-d2a2-1b61824e8984"
      },
      "execution_count": 40,
      "outputs": [
        {
          "output_type": "stream",
          "name": "stdout",
          "text": [
            "Person Counts: Counter({'Hansel': 35, 'Gretel': 6, 'Hard': 1, 'God': 1, 'Fool': 1, 'Nibble': 1})\n"
          ]
        }
      ]
    },
    {
      "cell_type": "code",
      "source": [
        "entities = []\n",
        "types = []\n",
        "counts = []\n",
        "\n",
        "for entity_type in named_entities:\n",
        "    names = named_entities[entity_type]\n",
        "    name_counts = Counter(names)\n",
        "    for name in name_counts:\n",
        "        entities.append(name)\n",
        "        types.append(entity_type)\n",
        "        counts.append(name_counts[name])\n"
      ],
      "metadata": {
        "id": "4ky2xJ4RrAyR"
      },
      "execution_count": 41,
      "outputs": []
    },
    {
      "cell_type": "code",
      "source": [
        "entities_df = pd.DataFrame({\n",
        "    'Entity': entities,\n",
        "    'Type': types,\n",
        "    'Count': counts\n",
        "})\n",
        "\n",
        "entities_df = entities_df.sort_values(by='Count', ascending=False).reset_index(drop=True)\n",
        "\n",
        "entities_df"
      ],
      "metadata": {
        "id": "GcUQd0Hbur4b",
        "colab": {
          "base_uri": "https://localhost:8080/",
          "height": 363
        },
        "outputId": "de7605eb-edcf-4376-f1bf-627ac9e9084e"
      },
      "execution_count": 42,
      "outputs": [
        {
          "output_type": "execute_result",
          "data": {
            "text/plain": [
              "   Entity    Type  Count\n",
              "0  Hansel  PERSON     35\n",
              "1  Gretel     GPE     29\n",
              "2  Gretel  PERSON      6\n",
              "3  Hansel     GPE      4\n",
              "4    Hard  PERSON      1\n",
              "5     God  PERSON      1\n",
              "6    Fool  PERSON      1\n",
              "7  Nibble  PERSON      1\n",
              "8     Pay     GPE      1\n",
              "9  Scream     GPE      1"
            ],
            "text/html": [
              "\n",
              "  <div id=\"df-21e66e0b-d689-4ba7-989a-0af8c4d21e3c\" class=\"colab-df-container\">\n",
              "    <div>\n",
              "<style scoped>\n",
              "    .dataframe tbody tr th:only-of-type {\n",
              "        vertical-align: middle;\n",
              "    }\n",
              "\n",
              "    .dataframe tbody tr th {\n",
              "        vertical-align: top;\n",
              "    }\n",
              "\n",
              "    .dataframe thead th {\n",
              "        text-align: right;\n",
              "    }\n",
              "</style>\n",
              "<table border=\"1\" class=\"dataframe\">\n",
              "  <thead>\n",
              "    <tr style=\"text-align: right;\">\n",
              "      <th></th>\n",
              "      <th>Entity</th>\n",
              "      <th>Type</th>\n",
              "      <th>Count</th>\n",
              "    </tr>\n",
              "  </thead>\n",
              "  <tbody>\n",
              "    <tr>\n",
              "      <th>0</th>\n",
              "      <td>Hansel</td>\n",
              "      <td>PERSON</td>\n",
              "      <td>35</td>\n",
              "    </tr>\n",
              "    <tr>\n",
              "      <th>1</th>\n",
              "      <td>Gretel</td>\n",
              "      <td>GPE</td>\n",
              "      <td>29</td>\n",
              "    </tr>\n",
              "    <tr>\n",
              "      <th>2</th>\n",
              "      <td>Gretel</td>\n",
              "      <td>PERSON</td>\n",
              "      <td>6</td>\n",
              "    </tr>\n",
              "    <tr>\n",
              "      <th>3</th>\n",
              "      <td>Hansel</td>\n",
              "      <td>GPE</td>\n",
              "      <td>4</td>\n",
              "    </tr>\n",
              "    <tr>\n",
              "      <th>4</th>\n",
              "      <td>Hard</td>\n",
              "      <td>PERSON</td>\n",
              "      <td>1</td>\n",
              "    </tr>\n",
              "    <tr>\n",
              "      <th>5</th>\n",
              "      <td>God</td>\n",
              "      <td>PERSON</td>\n",
              "      <td>1</td>\n",
              "    </tr>\n",
              "    <tr>\n",
              "      <th>6</th>\n",
              "      <td>Fool</td>\n",
              "      <td>PERSON</td>\n",
              "      <td>1</td>\n",
              "    </tr>\n",
              "    <tr>\n",
              "      <th>7</th>\n",
              "      <td>Nibble</td>\n",
              "      <td>PERSON</td>\n",
              "      <td>1</td>\n",
              "    </tr>\n",
              "    <tr>\n",
              "      <th>8</th>\n",
              "      <td>Pay</td>\n",
              "      <td>GPE</td>\n",
              "      <td>1</td>\n",
              "    </tr>\n",
              "    <tr>\n",
              "      <th>9</th>\n",
              "      <td>Scream</td>\n",
              "      <td>GPE</td>\n",
              "      <td>1</td>\n",
              "    </tr>\n",
              "  </tbody>\n",
              "</table>\n",
              "</div>\n",
              "    <div class=\"colab-df-buttons\">\n",
              "\n",
              "  <div class=\"colab-df-container\">\n",
              "    <button class=\"colab-df-convert\" onclick=\"convertToInteractive('df-21e66e0b-d689-4ba7-989a-0af8c4d21e3c')\"\n",
              "            title=\"Convert this dataframe to an interactive table.\"\n",
              "            style=\"display:none;\">\n",
              "\n",
              "  <svg xmlns=\"http://www.w3.org/2000/svg\" height=\"24px\" viewBox=\"0 -960 960 960\">\n",
              "    <path d=\"M120-120v-720h720v720H120Zm60-500h600v-160H180v160Zm220 220h160v-160H400v160Zm0 220h160v-160H400v160ZM180-400h160v-160H180v160Zm440 0h160v-160H620v160ZM180-180h160v-160H180v160Zm440 0h160v-160H620v160Z\"/>\n",
              "  </svg>\n",
              "    </button>\n",
              "\n",
              "  <style>\n",
              "    .colab-df-container {\n",
              "      display:flex;\n",
              "      gap: 12px;\n",
              "    }\n",
              "\n",
              "    .colab-df-convert {\n",
              "      background-color: #E8F0FE;\n",
              "      border: none;\n",
              "      border-radius: 50%;\n",
              "      cursor: pointer;\n",
              "      display: none;\n",
              "      fill: #1967D2;\n",
              "      height: 32px;\n",
              "      padding: 0 0 0 0;\n",
              "      width: 32px;\n",
              "    }\n",
              "\n",
              "    .colab-df-convert:hover {\n",
              "      background-color: #E2EBFA;\n",
              "      box-shadow: 0px 1px 2px rgba(60, 64, 67, 0.3), 0px 1px 3px 1px rgba(60, 64, 67, 0.15);\n",
              "      fill: #174EA6;\n",
              "    }\n",
              "\n",
              "    .colab-df-buttons div {\n",
              "      margin-bottom: 4px;\n",
              "    }\n",
              "\n",
              "    [theme=dark] .colab-df-convert {\n",
              "      background-color: #3B4455;\n",
              "      fill: #D2E3FC;\n",
              "    }\n",
              "\n",
              "    [theme=dark] .colab-df-convert:hover {\n",
              "      background-color: #434B5C;\n",
              "      box-shadow: 0px 1px 3px 1px rgba(0, 0, 0, 0.15);\n",
              "      filter: drop-shadow(0px 1px 2px rgba(0, 0, 0, 0.3));\n",
              "      fill: #FFFFFF;\n",
              "    }\n",
              "  </style>\n",
              "\n",
              "    <script>\n",
              "      const buttonEl =\n",
              "        document.querySelector('#df-21e66e0b-d689-4ba7-989a-0af8c4d21e3c button.colab-df-convert');\n",
              "      buttonEl.style.display =\n",
              "        google.colab.kernel.accessAllowed ? 'block' : 'none';\n",
              "\n",
              "      async function convertToInteractive(key) {\n",
              "        const element = document.querySelector('#df-21e66e0b-d689-4ba7-989a-0af8c4d21e3c');\n",
              "        const dataTable =\n",
              "          await google.colab.kernel.invokeFunction('convertToInteractive',\n",
              "                                                    [key], {});\n",
              "        if (!dataTable) return;\n",
              "\n",
              "        const docLinkHtml = 'Like what you see? Visit the ' +\n",
              "          '<a target=\"_blank\" href=https://colab.research.google.com/notebooks/data_table.ipynb>data table notebook</a>'\n",
              "          + ' to learn more about interactive tables.';\n",
              "        element.innerHTML = '';\n",
              "        dataTable['output_type'] = 'display_data';\n",
              "        await google.colab.output.renderOutput(dataTable, element);\n",
              "        const docLink = document.createElement('div');\n",
              "        docLink.innerHTML = docLinkHtml;\n",
              "        element.appendChild(docLink);\n",
              "      }\n",
              "    </script>\n",
              "  </div>\n",
              "\n",
              "\n",
              "<div id=\"df-8f54dbeb-8935-49fe-9561-11393a563781\">\n",
              "  <button class=\"colab-df-quickchart\" onclick=\"quickchart('df-8f54dbeb-8935-49fe-9561-11393a563781')\"\n",
              "            title=\"Suggest charts\"\n",
              "            style=\"display:none;\">\n",
              "\n",
              "<svg xmlns=\"http://www.w3.org/2000/svg\" height=\"24px\"viewBox=\"0 0 24 24\"\n",
              "     width=\"24px\">\n",
              "    <g>\n",
              "        <path d=\"M19 3H5c-1.1 0-2 .9-2 2v14c0 1.1.9 2 2 2h14c1.1 0 2-.9 2-2V5c0-1.1-.9-2-2-2zM9 17H7v-7h2v7zm4 0h-2V7h2v10zm4 0h-2v-4h2v4z\"/>\n",
              "    </g>\n",
              "</svg>\n",
              "  </button>\n",
              "\n",
              "<style>\n",
              "  .colab-df-quickchart {\n",
              "      --bg-color: #E8F0FE;\n",
              "      --fill-color: #1967D2;\n",
              "      --hover-bg-color: #E2EBFA;\n",
              "      --hover-fill-color: #174EA6;\n",
              "      --disabled-fill-color: #AAA;\n",
              "      --disabled-bg-color: #DDD;\n",
              "  }\n",
              "\n",
              "  [theme=dark] .colab-df-quickchart {\n",
              "      --bg-color: #3B4455;\n",
              "      --fill-color: #D2E3FC;\n",
              "      --hover-bg-color: #434B5C;\n",
              "      --hover-fill-color: #FFFFFF;\n",
              "      --disabled-bg-color: #3B4455;\n",
              "      --disabled-fill-color: #666;\n",
              "  }\n",
              "\n",
              "  .colab-df-quickchart {\n",
              "    background-color: var(--bg-color);\n",
              "    border: none;\n",
              "    border-radius: 50%;\n",
              "    cursor: pointer;\n",
              "    display: none;\n",
              "    fill: var(--fill-color);\n",
              "    height: 32px;\n",
              "    padding: 0;\n",
              "    width: 32px;\n",
              "  }\n",
              "\n",
              "  .colab-df-quickchart:hover {\n",
              "    background-color: var(--hover-bg-color);\n",
              "    box-shadow: 0 1px 2px rgba(60, 64, 67, 0.3), 0 1px 3px 1px rgba(60, 64, 67, 0.15);\n",
              "    fill: var(--button-hover-fill-color);\n",
              "  }\n",
              "\n",
              "  .colab-df-quickchart-complete:disabled,\n",
              "  .colab-df-quickchart-complete:disabled:hover {\n",
              "    background-color: var(--disabled-bg-color);\n",
              "    fill: var(--disabled-fill-color);\n",
              "    box-shadow: none;\n",
              "  }\n",
              "\n",
              "  .colab-df-spinner {\n",
              "    border: 2px solid var(--fill-color);\n",
              "    border-color: transparent;\n",
              "    border-bottom-color: var(--fill-color);\n",
              "    animation:\n",
              "      spin 1s steps(1) infinite;\n",
              "  }\n",
              "\n",
              "  @keyframes spin {\n",
              "    0% {\n",
              "      border-color: transparent;\n",
              "      border-bottom-color: var(--fill-color);\n",
              "      border-left-color: var(--fill-color);\n",
              "    }\n",
              "    20% {\n",
              "      border-color: transparent;\n",
              "      border-left-color: var(--fill-color);\n",
              "      border-top-color: var(--fill-color);\n",
              "    }\n",
              "    30% {\n",
              "      border-color: transparent;\n",
              "      border-left-color: var(--fill-color);\n",
              "      border-top-color: var(--fill-color);\n",
              "      border-right-color: var(--fill-color);\n",
              "    }\n",
              "    40% {\n",
              "      border-color: transparent;\n",
              "      border-right-color: var(--fill-color);\n",
              "      border-top-color: var(--fill-color);\n",
              "    }\n",
              "    60% {\n",
              "      border-color: transparent;\n",
              "      border-right-color: var(--fill-color);\n",
              "    }\n",
              "    80% {\n",
              "      border-color: transparent;\n",
              "      border-right-color: var(--fill-color);\n",
              "      border-bottom-color: var(--fill-color);\n",
              "    }\n",
              "    90% {\n",
              "      border-color: transparent;\n",
              "      border-bottom-color: var(--fill-color);\n",
              "    }\n",
              "  }\n",
              "</style>\n",
              "\n",
              "  <script>\n",
              "    async function quickchart(key) {\n",
              "      const quickchartButtonEl =\n",
              "        document.querySelector('#' + key + ' button');\n",
              "      quickchartButtonEl.disabled = true;  // To prevent multiple clicks.\n",
              "      quickchartButtonEl.classList.add('colab-df-spinner');\n",
              "      try {\n",
              "        const charts = await google.colab.kernel.invokeFunction(\n",
              "            'suggestCharts', [key], {});\n",
              "      } catch (error) {\n",
              "        console.error('Error during call to suggestCharts:', error);\n",
              "      }\n",
              "      quickchartButtonEl.classList.remove('colab-df-spinner');\n",
              "      quickchartButtonEl.classList.add('colab-df-quickchart-complete');\n",
              "    }\n",
              "    (() => {\n",
              "      let quickchartButtonEl =\n",
              "        document.querySelector('#df-8f54dbeb-8935-49fe-9561-11393a563781 button');\n",
              "      quickchartButtonEl.style.display =\n",
              "        google.colab.kernel.accessAllowed ? 'block' : 'none';\n",
              "    })();\n",
              "  </script>\n",
              "</div>\n",
              "\n",
              "  <div id=\"id_01544789-579b-4759-8572-327a48e28c99\">\n",
              "    <style>\n",
              "      .colab-df-generate {\n",
              "        background-color: #E8F0FE;\n",
              "        border: none;\n",
              "        border-radius: 50%;\n",
              "        cursor: pointer;\n",
              "        display: none;\n",
              "        fill: #1967D2;\n",
              "        height: 32px;\n",
              "        padding: 0 0 0 0;\n",
              "        width: 32px;\n",
              "      }\n",
              "\n",
              "      .colab-df-generate:hover {\n",
              "        background-color: #E2EBFA;\n",
              "        box-shadow: 0px 1px 2px rgba(60, 64, 67, 0.3), 0px 1px 3px 1px rgba(60, 64, 67, 0.15);\n",
              "        fill: #174EA6;\n",
              "      }\n",
              "\n",
              "      [theme=dark] .colab-df-generate {\n",
              "        background-color: #3B4455;\n",
              "        fill: #D2E3FC;\n",
              "      }\n",
              "\n",
              "      [theme=dark] .colab-df-generate:hover {\n",
              "        background-color: #434B5C;\n",
              "        box-shadow: 0px 1px 3px 1px rgba(0, 0, 0, 0.15);\n",
              "        filter: drop-shadow(0px 1px 2px rgba(0, 0, 0, 0.3));\n",
              "        fill: #FFFFFF;\n",
              "      }\n",
              "    </style>\n",
              "    <button class=\"colab-df-generate\" onclick=\"generateWithVariable('entities_df')\"\n",
              "            title=\"Generate code using this dataframe.\"\n",
              "            style=\"display:none;\">\n",
              "\n",
              "  <svg xmlns=\"http://www.w3.org/2000/svg\" height=\"24px\"viewBox=\"0 0 24 24\"\n",
              "       width=\"24px\">\n",
              "    <path d=\"M7,19H8.4L18.45,9,17,7.55,7,17.6ZM5,21V16.75L18.45,3.32a2,2,0,0,1,2.83,0l1.4,1.43a1.91,1.91,0,0,1,.58,1.4,1.91,1.91,0,0,1-.58,1.4L9.25,21ZM18.45,9,17,7.55Zm-12,3A5.31,5.31,0,0,0,4.9,8.1,5.31,5.31,0,0,0,1,6.5,5.31,5.31,0,0,0,4.9,4.9,5.31,5.31,0,0,0,6.5,1,5.31,5.31,0,0,0,8.1,4.9,5.31,5.31,0,0,0,12,6.5,5.46,5.46,0,0,0,6.5,12Z\"/>\n",
              "  </svg>\n",
              "    </button>\n",
              "    <script>\n",
              "      (() => {\n",
              "      const buttonEl =\n",
              "        document.querySelector('#id_01544789-579b-4759-8572-327a48e28c99 button.colab-df-generate');\n",
              "      buttonEl.style.display =\n",
              "        google.colab.kernel.accessAllowed ? 'block' : 'none';\n",
              "\n",
              "      buttonEl.onclick = () => {\n",
              "        google.colab.notebook.generateWithVariable('entities_df');\n",
              "      }\n",
              "      })();\n",
              "    </script>\n",
              "  </div>\n",
              "\n",
              "    </div>\n",
              "  </div>\n"
            ],
            "application/vnd.google.colaboratory.intrinsic+json": {
              "type": "dataframe",
              "variable_name": "entities_df",
              "summary": "{\n  \"name\": \"entities_df\",\n  \"rows\": 10,\n  \"fields\": [\n    {\n      \"column\": \"Entity\",\n      \"properties\": {\n        \"dtype\": \"string\",\n        \"num_unique_values\": 8,\n        \"samples\": [\n          \"Gretel\",\n          \"Nibble\",\n          \"Hansel\"\n        ],\n        \"semantic_type\": \"\",\n        \"description\": \"\"\n      }\n    },\n    {\n      \"column\": \"Type\",\n      \"properties\": {\n        \"dtype\": \"category\",\n        \"num_unique_values\": 2,\n        \"samples\": [\n          \"GPE\",\n          \"PERSON\"\n        ],\n        \"semantic_type\": \"\",\n        \"description\": \"\"\n      }\n    },\n    {\n      \"column\": \"Count\",\n      \"properties\": {\n        \"dtype\": \"number\",\n        \"std\": 12,\n        \"min\": 1,\n        \"max\": 35,\n        \"num_unique_values\": 5,\n        \"samples\": [\n          29,\n          1\n        ],\n        \"semantic_type\": \"\",\n        \"description\": \"\"\n      }\n    }\n  ]\n}"
            }
          },
          "metadata": {},
          "execution_count": 42
        }
      ]
    },
    {
      "cell_type": "markdown",
      "source": [
        "## Exercise: Using your own text data, calculate the most common named entity and it's type."
      ],
      "metadata": {
        "id": "0fOYVxa-u0PW"
      }
    },
    {
      "cell_type": "code",
      "source": [
        "for index,row in entities_df.iterrows():\n",
        "  if row['Count'] == entities_df['Count'].max():\n",
        "    print(row[\"Entity\"], row[\"Type\"])\n"
      ],
      "metadata": {
        "id": "Wd1So-3i0VdI",
        "colab": {
          "base_uri": "https://localhost:8080/"
        },
        "outputId": "b7036ed5-9781-4c2a-fac1-d7cd7364c412"
      },
      "execution_count": 43,
      "outputs": [
        {
          "output_type": "stream",
          "name": "stdout",
          "text": [
            "Hansel PERSON\n"
          ]
        }
      ]
    },
    {
      "cell_type": "code",
      "source": [
        "entity_counts = Counter()\n",
        "entity_types = {}\n",
        "\n",
        "for entity_type in named_entities:\n",
        "    names = named_entities[entity_type]\n",
        "    for name in names:\n",
        "        entity_counts[name] += 1\n",
        "        if name not in entity_types:\n",
        "            entity_types[name] = entity_type\n",
        "\n",
        "top_entity = max(entity_counts, key=entity_counts.get)\n",
        "count = entity_counts[top_entity]\n",
        "print(top_entity, count)"
      ],
      "metadata": {
        "id": "GHm3bzhuuATL",
        "colab": {
          "base_uri": "https://localhost:8080/"
        },
        "outputId": "69c3acfa-308f-4031-defe-cf6cdfb83fb8"
      },
      "execution_count": 44,
      "outputs": [
        {
          "output_type": "stream",
          "name": "stdout",
          "text": [
            "Hansel 39\n"
          ]
        }
      ]
    },
    {
      "cell_type": "code",
      "source": [],
      "metadata": {
        "id": "f3yM0XzfjSVa"
      },
      "execution_count": 44,
      "outputs": []
    }
  ]
}